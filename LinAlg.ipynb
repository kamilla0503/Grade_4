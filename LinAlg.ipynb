{
 "cells": [
  {
   "cell_type": "code",
   "execution_count": 1,
   "metadata": {},
   "outputs": [],
   "source": [
    "import matplotlib.pyplot as plt\n",
    "import random\n",
    "import numpy as np\n",
    "import pandas as pd\n",
    "from matplotlib.ticker import LogFormatter \n",
    "from scipy.optimize import curve_fit\n",
    "from pathlib import Path\n",
    "import matplotlib.colors\n",
    "\n",
    "from scipy.special import logsumexp\n",
    "from scipy import linalg\n",
    "from scipy.sparse.linalg import eigs"
   ]
  },
  {
   "cell_type": "markdown",
   "metadata": {},
   "source": [
    "Задание 1 "
   ]
  },
  {
   "cell_type": "code",
   "execution_count": 2,
   "metadata": {},
   "outputs": [],
   "source": [
    "A = np.array([[-1, -2, 4], [-2, -5, 7], [3, 10, -8], [4, 13, -11]])"
   ]
  },
  {
   "cell_type": "markdown",
   "metadata": {},
   "source": [
    "Проверка скелетного разложения: "
   ]
  },
  {
   "cell_type": "code",
   "execution_count": 3,
   "metadata": {},
   "outputs": [],
   "source": [
    "B = np.array([[-1, -2], [-2, -5], [3, 10], [4, 13]])\n",
    "\n",
    "C = np.array([[1,0,-6],  [0,1,1]])"
   ]
  },
  {
   "cell_type": "code",
   "execution_count": 4,
   "metadata": {},
   "outputs": [
    {
     "data": {
      "text/plain": [
       "array([[ -1,  -2,   4],\n",
       "       [ -2,  -5,   7],\n",
       "       [  3,  10,  -8],\n",
       "       [  4,  13, -11]])"
      ]
     },
     "execution_count": 4,
     "metadata": {},
     "output_type": "execute_result"
    }
   ],
   "source": [
    "np.dot(B, C)"
   ]
  },
  {
   "cell_type": "markdown",
   "metadata": {},
   "source": [
    "Разложение полного ранга в порядке.\n",
    "\n",
    "Далее ищем уже псевдообратную матрицу для А "
   ]
  },
  {
   "cell_type": "code",
   "execution_count": 5,
   "metadata": {},
   "outputs": [],
   "source": [
    "CC = np.dot (C.T, linalg.inv(np.dot(C, C.T ) ))"
   ]
  },
  {
   "cell_type": "code",
   "execution_count": 6,
   "metadata": {},
   "outputs": [],
   "source": [
    "BB = np.dot ( linalg.inv(np.dot(B.T, B ) ), B.T)"
   ]
  },
  {
   "cell_type": "markdown",
   "metadata": {},
   "source": [
    "Результат: "
   ]
  },
  {
   "cell_type": "code",
   "execution_count": 7,
   "metadata": {},
   "outputs": [
    {
     "data": {
      "text/plain": [
       "array([[-0.00404858, -0.00607287,  0.00404858,  0.00607287],\n",
       "       [ 0.15131579,  0.16447368,  0.09868421,  0.08552632],\n",
       "       [ 0.17560729,  0.20091093,  0.07439271,  0.04908907]])"
      ]
     },
     "execution_count": 7,
     "metadata": {},
     "output_type": "execute_result"
    }
   ],
   "source": [
    "np.dot(CC, BB)"
   ]
  },
  {
   "cell_type": "markdown",
   "metadata": {},
   "source": [
    "Результат сходится с решением в numpy: "
   ]
  },
  {
   "cell_type": "code",
   "execution_count": 8,
   "metadata": {},
   "outputs": [
    {
     "data": {
      "text/plain": [
       "array([[-0.00404858, -0.00607287,  0.00404858,  0.00607287],\n",
       "       [ 0.15131579,  0.16447368,  0.09868421,  0.08552632],\n",
       "       [ 0.17560729,  0.20091093,  0.07439271,  0.04908907]])"
      ]
     },
     "execution_count": 8,
     "metadata": {},
     "output_type": "execute_result"
    }
   ],
   "source": [
    "linalg.pinv(A)"
   ]
  },
  {
   "cell_type": "markdown",
   "metadata": {},
   "source": [
    "Задание 2 "
   ]
  },
  {
   "cell_type": "code",
   "execution_count": 88,
   "metadata": {},
   "outputs": [],
   "source": [
    "A = np.array([[-4, 10, 0,-6], [-3,7,5,-3], [1,-5,14,9], [2, -8, 13,12]])"
   ]
  },
  {
   "cell_type": "code",
   "execution_count": 89,
   "metadata": {},
   "outputs": [],
   "source": [
    "B = np.array([[-4, 10, 0], [-3,7,5], [1,-5,14], [2, -8, 13]])"
   ]
  },
  {
   "cell_type": "code",
   "execution_count": 90,
   "metadata": {},
   "outputs": [],
   "source": [
    "C = np.array([[86,1099/22, -1523/22, -1008/11], [34, 433/22, -607/22, -401/11], [6, 42/11, -43/11, -61/11]  ] )"
   ]
  },
  {
   "cell_type": "code",
   "execution_count": 91,
   "metadata": {},
   "outputs": [],
   "source": [
    "Apinv = linalg.pinv(A)"
   ]
  },
  {
   "cell_type": "code",
   "execution_count": 92,
   "metadata": {},
   "outputs": [
    {
     "data": {
      "text/plain": [
       "array([-0.09574468,  0.23351064,  0.69361702, -0.12606383])"
      ]
     },
     "execution_count": 92,
     "metadata": {},
     "output_type": "execute_result"
    }
   ],
   "source": [
    "np.dot(Apinv, [4,5,8,5])"
   ]
  },
  {
   "cell_type": "markdown",
   "metadata": {},
   "source": [
    "Задание 3"
   ]
  },
  {
   "cell_type": "code",
   "execution_count": 47,
   "metadata": {},
   "outputs": [
    {
     "data": {
      "text/plain": [
       "<matplotlib.legend.Legend at 0x7f89df5164f0>"
      ]
     },
     "execution_count": 47,
     "metadata": {},
     "output_type": "execute_result"
    },
    {
     "data": {
      "image/png": "[encoded data removed]",
      "text/plain": [
       "<Figure size 576x432 with 1 Axes>"
      ]
     },
     "metadata": {
      "needs_background": "light"
     },
     "output_type": "display_data"
    }
   ],
   "source": [
    "x = np.array([-3, -1, 2, 3])\n",
    "y = np.array([18, -7, -9, 6])\n",
    "xh = np.linspace(-3, 3, 100)\n",
    "yh = np.power(xh,3)*31/120+np.square(xh)*173/60-173/40*xh-279/20\n",
    "\n",
    "fig = plt.figure(figsize=(8, 6))\n",
    "ax = fig.add_subplot(111)\n",
    "\n",
    "plt.scatter(x, y, c= \"k\", label = \"Данные точки\")\n",
    "\n",
    "plt.plot(xh, yh, c = \"r\", alpha = 0.5, label = \"многочлен Лагранда\")\n",
    " \n",
    "plt.legend()"
   ]
  },
  {
   "cell_type": "markdown",
   "metadata": {},
   "source": [
    "Задание 4 "
   ]
  },
  {
   "cell_type": "code",
   "execution_count": 53,
   "metadata": {},
   "outputs": [
    {
     "data": {
      "text/plain": [
       "<matplotlib.legend.Legend at 0x7f89df30bb20>"
      ]
     },
     "execution_count": 53,
     "metadata": {},
     "output_type": "execute_result"
    },
    {
     "data": {
      "image/png": "[encoded data removed]",
      "text/plain": [
       "<Figure size 576x432 with 1 Axes>"
      ]
     },
     "metadata": {
      "needs_background": "light"
     },
     "output_type": "display_data"
    }
   ],
   "source": [
    "x = np.array([1,3, 4, 9])\n",
    "y = np.array([6,9,3,9])\n",
    "t = np.linspace(0, 1, 100)\n",
    "\n",
    "x1 = np.power(t,3)*5-3*np.square(t)+6*t+1\n",
    "y1  = np.power(t,3)*21-27*np.square(t)+9*t+6\n",
    "\n",
    "fig = plt.figure(figsize=(8, 6))\n",
    "ax = fig.add_subplot(111)\n",
    "\n",
    "plt.scatter(x, y, c= \"k\", label = \"Данные точки\")\n",
    "\n",
    "plt.plot(x1, y1, c = \"r\", alpha = 0.5, label = \"кривая Безье\")\n",
    " \n",
    "plt.legend()"
   ]
  },
  {
   "cell_type": "markdown",
   "metadata": {},
   "source": [
    "Задание 5 "
   ]
  },
  {
   "cell_type": "code",
   "execution_count": 57,
   "metadata": {},
   "outputs": [
    {
     "data": {
      "text/plain": [
       "<matplotlib.legend.Legend at 0x7f89df150dc0>"
      ]
     },
     "execution_count": 57,
     "metadata": {},
     "output_type": "execute_result"
    },
    {
     "data": {
      "image/png": "[encoded data removed]",
      "text/plain": [
       "<Figure size 576x432 with 1 Axes>"
      ]
     },
     "metadata": {
      "needs_background": "light"
     },
     "output_type": "display_data"
    }
   ],
   "source": [
    "t = np.linspace(1, 4, 100)\n",
    "\n",
    "Px = -2*np.power(t,3)-3*np.square(t)+4*t+5\n",
    "Ax = -18*t*t+305/8*t-285/16\n",
    "\n",
    "fig = plt.figure(figsize=(8, 6))\n",
    "ax = fig.add_subplot(111)\n",
    "\n",
    "plt.plot(t, Px, c= \"k\",  alpha = 0.5, label = \"Данный многочлен\")\n",
    "\n",
    "plt.plot(t, Ax, c = \"r\", alpha = 0.5, label = \"Приближение\")\n",
    " \n",
    "plt.legend() "
   ]
  },
  {
   "cell_type": "markdown",
   "metadata": {},
   "source": [
    "Задание 6 "
   ]
  },
  {
   "cell_type": "code",
   "execution_count": 6,
   "metadata": {},
   "outputs": [
    {
     "data": {
      "text/plain": [
       "<matplotlib.legend.Legend at 0x7f69042d52b0>"
      ]
     },
     "execution_count": 6,
     "metadata": {},
     "output_type": "execute_result"
    },
    {
     "data": {
      "image/png": "[encoded data removed]",
      "text/plain": [
       "<Figure size 576x432 with 1 Axes>"
      ]
     },
     "metadata": {
      "needs_background": "light"
     },
     "output_type": "display_data"
    }
   ],
   "source": [
    "t = np.linspace(0, 4, 100)\n",
    "\n",
    "Px = 0.009832*t*t*t+0.371*t*t+1.2892*t+3.32553\n",
    "Ax =  np.sqrt(4*t+5) \n",
    "\n",
    "fig = plt.figure(figsize=(8, 6))\n",
    "ax = fig.add_subplot(111)\n",
    "\n",
    "plt.plot(t, Ax, c= \"k\",  alpha = 0.5, label = \"Данная функция\")\n",
    "\n",
    "plt.plot(t, Px, \"o\", c = \"r\", alpha = 0.5, label = \"Приближение\")\n",
    " \n",
    "plt.legend() "
   ]
  },
  {
   "cell_type": "markdown",
   "metadata": {},
   "source": [
    "Задание 8 "
   ]
  },
  {
   "cell_type": "code",
   "execution_count": 24,
   "metadata": {},
   "outputs": [],
   "source": [
    "A = np.array([[56, -44, 52, 54], [-32,-46,8,-102], [-4,4,-92,-3]])"
   ]
  },
  {
   "cell_type": "code",
   "execution_count": 26,
   "metadata": {},
   "outputs": [],
   "source": [
    "ATA = np.dot(A.T, A)"
   ]
  },
  {
   "cell_type": "code",
   "execution_count": 28,
   "metadata": {},
   "outputs": [
    {
     "data": {
      "text/plain": [
       "array([ 1.82250000e+04+0.j, -1.70933406e-12+0.j,  2.91600000e+03+0.j,\n",
       "        1.16640000e+04+0.j])"
      ]
     },
     "execution_count": 28,
     "metadata": {},
     "output_type": "execute_result"
    }
   ],
   "source": [
    "linalg.eigvals(ATA)"
   ]
  },
  {
   "cell_type": "code",
   "execution_count": 20,
   "metadata": {},
   "outputs": [
    {
     "data": {
      "text/plain": [
       "(array([[ 0.66666667, -0.33333333,  0.66666667],\n",
       "        [-0.66666667, -0.66666667,  0.33333333],\n",
       "        [-0.33333333,  0.66666667,  0.66666667]]),\n",
       " array([135., 108.,  54.]),\n",
       " array([[ 4.44444444e-01, -1.37519059e-16,  4.44444444e-01,\n",
       "          7.77777778e-01],\n",
       "        [ 1.17098592e-16,  4.44444444e-01, -7.77777778e-01,\n",
       "          4.44444444e-01],\n",
       "        [ 4.44444444e-01, -7.77777778e-01, -4.44444444e-01,\n",
       "         -2.84174209e-18],\n",
       "        [-7.77777778e-01, -4.44444444e-01,  7.66586787e-17,\n",
       "          4.44444444e-01]]))"
      ]
     },
     "execution_count": 20,
     "metadata": {},
     "output_type": "execute_result"
    }
   ],
   "source": [
    "linalg.svd(A)"
   ]
  },
  {
   "cell_type": "markdown",
   "metadata": {},
   "source": [
    "Задание 9 "
   ]
  },
  {
   "cell_type": "code",
   "execution_count": 12,
   "metadata": {},
   "outputs": [],
   "source": [
    "from scipy.optimize import fsolve"
   ]
  },
  {
   "cell_type": "code",
   "execution_count": 13,
   "metadata": {},
   "outputs": [],
   "source": [
    "A = np.array([[1.93, 0.03], [8.08, -4.13]])"
   ]
  },
  {
   "cell_type": "code",
   "execution_count": 20,
   "metadata": {},
   "outputs": [
    {
     "data": {
      "text/plain": [
       "array([1.96, 3.95])"
      ]
     },
     "execution_count": 20,
     "metadata": {},
     "output_type": "execute_result"
    }
   ],
   "source": [
    "np.dot(A, [1,1])"
   ]
  },
  {
   "cell_type": "code",
   "execution_count": 34,
   "metadata": {},
   "outputs": [
    {
     "data": {
      "text/plain": [
       "array([2, 4])"
      ]
     },
     "execution_count": 34,
     "metadata": {},
     "output_type": "execute_result"
    }
   ],
   "source": [
    "A1 = np.array([[2, 0], [8, -4]])\n",
    "\n",
    "np.dot(A1, [1,1])"
   ]
  },
  {
   "cell_type": "code",
   "execution_count": 67,
   "metadata": {},
   "outputs": [
    {
     "data": {
      "text/plain": [
       "array([[ 0.5 ,  0.  ],\n",
       "       [ 1.  , -0.25]])"
      ]
     },
     "execution_count": 67,
     "metadata": {},
     "output_type": "execute_result"
    }
   ],
   "source": [
    "linalg.inv(A1)"
   ]
  },
  {
   "cell_type": "markdown",
   "metadata": {},
   "source": [
    "Ниже просто операции для численного поиска собственных значений (для вычисления нормы 2)"
   ]
  },
  {
   "cell_type": "code",
   "execution_count": 68,
   "metadata": {},
   "outputs": [
    {
     "data": {
      "text/plain": [
       "array([[ 0.07, -0.03],\n",
       "       [-0.08,  0.13]])"
      ]
     },
     "execution_count": 68,
     "metadata": {},
     "output_type": "execute_result"
    }
   ],
   "source": [
    "A1-A"
   ]
  },
  {
   "cell_type": "code",
   "execution_count": 69,
   "metadata": {},
   "outputs": [
    {
     "data": {
      "text/plain": [
       "array([[ 68, -32],\n",
       "       [-32,  16]])"
      ]
     },
     "execution_count": 69,
     "metadata": {},
     "output_type": "execute_result"
    }
   ],
   "source": [
    "np.dot(A1.T, A1)"
   ]
  },
  {
   "cell_type": "code",
   "execution_count": 70,
   "metadata": {},
   "outputs": [
    {
     "data": {
      "text/plain": [
       "[<matplotlib.lines.Line2D at 0x7f1b7de7a1c0>]"
      ]
     },
     "execution_count": 70,
     "metadata": {},
     "output_type": "execute_result"
    },
    {
     "data": {
      "image/png": "[encoded data removed]",
      "text/plain": [
       "<Figure size 432x288 with 1 Axes>"
      ]
     },
     "metadata": {
      "needs_background": "light"
     },
     "output_type": "display_data"
    }
   ],
   "source": [
    "ATA = np.dot(A1.T, A1)\n",
    "\n",
    "def determinant(x): \n",
    "    return (ATA[0,0]-x)*(ATA[1,1]-x)-ATA[0,1]*ATA[1,0]\n",
    "\n",
    "\n",
    "t = np.linspace(10, 100, 100)\n",
    "\n",
    "Dx = determinant(t)\n",
    "\n",
    "plt.plot(t, Dx, c= \"k\",  alpha = 0.5 )\n",
    "#для приближения"
   ]
  },
  {
   "cell_type": "code",
   "execution_count": 71,
   "metadata": {},
   "outputs": [
    {
     "data": {
      "text/plain": [
       "array([83.23105626])"
      ]
     },
     "execution_count": 71,
     "metadata": {},
     "output_type": "execute_result"
    }
   ],
   "source": [
    "root = fsolve(determinant, 80)\n",
    "root "
   ]
  },
  {
   "cell_type": "code",
   "execution_count": 72,
   "metadata": {},
   "outputs": [
    {
     "data": {
      "text/plain": [
       "[<matplotlib.lines.Line2D at 0x7f1b7d946a00>]"
      ]
     },
     "execution_count": 72,
     "metadata": {},
     "output_type": "execute_result"
    },
    {
     "data": {
      "image/png": "[encoded data removed]",
      "text/plain": [
       "<Figure size 432x288 with 1 Axes>"
      ]
     },
     "metadata": {
      "needs_background": "light"
     },
     "output_type": "display_data"
    }
   ],
   "source": [
    "ATAinv = np.dot(linalg.inv(A1).T, linalg.inv(A1))\n",
    "\n",
    "def determinant_inv(x): \n",
    "    return (ATAinv[0,0]-x)*(ATAinv[1,1]-x)-ATAinv[0,1]*ATAinv[1,0]\n",
    "\n",
    "t = np.linspace(-1, 5, 100)\n",
    "\n",
    "Dx = determinant_inv(t)\n",
    "\n",
    "plt.plot(t, Dx, c= \"k\",  alpha = 0.5 )"
   ]
  },
  {
   "cell_type": "code",
   "execution_count": 73,
   "metadata": {},
   "outputs": [
    {
     "data": {
      "text/plain": [
       "array([1.30048525])"
      ]
     },
     "execution_count": 73,
     "metadata": {},
     "output_type": "execute_result"
    }
   ],
   "source": [
    "root1 = fsolve(determinant_inv, 1.2)\n",
    "root1"
   ]
  },
  {
   "cell_type": "code",
   "execution_count": 74,
   "metadata": {},
   "outputs": [
    {
     "data": {
      "text/plain": [
       "108.19900000000001"
      ]
     },
     "execution_count": 74,
     "metadata": {},
     "output_type": "execute_result"
    }
   ],
   "source": [
    "1.3*83.23"
   ]
  },
  {
   "cell_type": "code",
   "execution_count": 75,
   "metadata": {},
   "outputs": [
    {
     "data": {
      "text/plain": [
       "0.004769914694220834"
      ]
     },
     "execution_count": 75,
     "metadata": {},
     "output_type": "execute_result"
    }
   ],
   "source": [
    "0.397/83.23"
   ]
  },
  {
   "cell_type": "code",
   "execution_count": 80,
   "metadata": {},
   "outputs": [
    {
     "data": {
      "text/plain": [
       "[<matplotlib.lines.Line2D at 0x7f1b7e01ddf0>]"
      ]
     },
     "execution_count": 80,
     "metadata": {},
     "output_type": "execute_result"
    },
    {
     "data": {
      "image/png": "[encoded data removed]",
      "text/plain": [
       "<Figure size 432x288 with 1 Axes>"
      ]
     },
     "metadata": {
      "needs_background": "light"
     },
     "output_type": "display_data"
    }
   ],
   "source": [
    "ATAinv = np.dot( (A1-A).T, A1-A)\n",
    "\n",
    "def determinant_inv(x): \n",
    "    return (ATAinv[0,0]-x)*(ATAinv[1,1]-x)-ATAinv[0,1]*ATAinv[1,0]\n",
    "\n",
    "t = np.linspace(-1, 5, 100)\n",
    "\n",
    "Dx = determinant_inv(t)\n",
    "\n",
    "plt.plot(t, Dx, c= \"k\",  alpha = 0.5 )"
   ]
  },
  {
   "cell_type": "code",
   "execution_count": 81,
   "metadata": {},
   "outputs": [
    {
     "data": {
      "text/plain": [
       "array([0.02746559])"
      ]
     },
     "execution_count": 81,
     "metadata": {},
     "output_type": "execute_result"
    }
   ],
   "source": [
    "root1 = fsolve(determinant_inv, 1.2)\n",
    "root1"
   ]
  },
  {
   "cell_type": "code",
   "execution_count": 83,
   "metadata": {},
   "outputs": [
    {
     "data": {
      "text/plain": [
       "0.0003292082181905563"
      ]
     },
     "execution_count": 83,
     "metadata": {},
     "output_type": "execute_result"
    }
   ],
   "source": [
    "0.0274/83.23"
   ]
  },
  {
   "cell_type": "code",
   "execution_count": null,
   "metadata": {},
   "outputs": [],
   "source": []
  },
  {
   "cell_type": "code",
   "execution_count": 18,
   "metadata": {},
   "outputs": [
    {
     "data": {
      "image/png": "[encoded data removed]",
      "text/plain": [
       "<Figure size 432x288 with 1 Axes>"
      ]
     },
     "metadata": {
      "needs_background": "light"
     },
     "output_type": "display_data"
    }
   ],
   "source": [
    "np.random.seed(42)\n",
    "\n",
    "x = np.linspace(0, 10, 150)\n",
    "eta = np.random.normal(0.0, 3.0, x.shape[0])\n",
    "a, b = 2.5, 5.25\n",
    "y = a*x +b + eta\n",
    "\n",
    "plt.scatter(x,y)\n",
    "\n",
    "plt.plot(x, a*x+b, c= \"k\")\n",
    "\n",
    "plt.plot(x, a*x+b-4.2, c= \"b\")\n",
    "\n",
    "plt.plot(x, (a+1/2)*x+b-0.5, c= \"g\")\n",
    "plt.plot(x, (a-1/2)*x+b-0.5, c= \"r\")\n",
    "plt.savefig(\"lines.png\")"
   ]
  },
  {
   "cell_type": "code",
   "execution_count": null,
   "metadata": {},
   "outputs": [],
   "source": []
  }
 ],
 "metadata": {
  "kernelspec": {
   "display_name": "Python 3",
   "language": "python",
   "name": "python3"
  },
  "language_info": {
   "codemirror_mode": {
    "name": "ipython",
    "version": 3
   },
   "file_extension": ".py",
   "mimetype": "text/x-python",
   "name": "python",
   "nbconvert_exporter": "python",
   "pygments_lexer": "ipython3",
   "version": "3.8.5"
  }
 },
 "nbformat": 4,
 "nbformat_minor": 4
}
