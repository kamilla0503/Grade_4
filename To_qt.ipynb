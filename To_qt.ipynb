{
 "cells": [
  {
   "cell_type": "code",
   "execution_count": 1,
   "metadata": {},
   "outputs": [],
   "source": [
    "import re"
   ]
  },
  {
   "cell_type": "code",
   "execution_count": null,
   "metadata": {},
   "outputs": [],
   "source": []
  },
  {
   "cell_type": "code",
   "execution_count": null,
   "metadata": {},
   "outputs": [],
   "source": []
  },
  {
   "cell_type": "code",
   "execution_count": 2,
   "metadata": {},
   "outputs": [
    {
     "data": {
      "text/plain": [
       "'QUESTION\\n\\nl     = \"Длины пролётов\" :\\n\\n  \"l#\"              m          [0:50]         KU HELP(\"l#\") ;\\n\\nlk    = \"Длины консолей\" :\\n\\n  \"lл\"-\"lkl\"        m          [0:25]         KU HELP(\"lkl\") ,\"слева\",\\n  \"lп\"-\"lkr\"        m          [0:25]         KU HELP(\"lkr\") ,\"справа\";\\n\\nmg    = \"Шарниры: номер пролёта, расстояние от середины левой опоры\":\\n\\n  \"пролёт\"-\"F\"      card       [0:11]         KU HELP(\"F\") , \\n  \"a\"               m          [0:999]        KU HELP(\"a\") ; \\n\\nQuer  = \"Ширина и высота сечения\":\\n\\n  \"от пролёта\"-\"vF\" card       [0:11]         KUS HELP(\"vF\") , \\n  \"до пролёта\"-\"bF\" card       [0:11]         KUS HELP(\"bF\") ,\\n  \"b\"               cm         [0:999]        KUS HELP(\"b\") , \\n  \"h\"               cm         [0:999]        KUS HELP(\"h\") ;\\n\\nIsPlate = \"Имеются ли тавровые сечения?\" :\\n\\n  \"\"-\"Plb\"          NeinJa                    US HELP(\"Plb\") ; \\n\\nPblk  = \"Ширина левого свеса, ширина правого свеса и высота полки\":\\n\\n  \"от пролёта\"-\"vF\" card       [0:11]         KUS HELP(\"vF\") , \\n  \"до пролёта\"-\"bF\" card       [0:11]         KUS HELP(\"bF\") ,\\n  \"bл\"-\"b1\"         cm         [0:999]        KU HELP(\"b1\") ,\\n  \"bп\"-\"b2\"         cm         [0:999]        KU HELP(\"b2\") ,\\n  \"hf\"-\"hf\"         cm         [-999:999]     KU HELP(\"hf\") ;\\n\\nVout  = \"Имеются ли вуты?\":\\n\\n  \"\"-\"Vout\"         NeinJa                    US HELP(\"Vout\") ; \\n\\nVt    = \"Пролёты балки c одинаковыми вутами\":\\n\\n  \"\"-\"vF\"           card       [0:11]         KU HELP(\"vF\") ,   \"От пролёта\",\\n  \"\"-\"bF\"           card       [0:11]         KU HELP(\"bF\") ,   \"До пролёта\"; \\n\\nVtl  = \"Вут слева (ввод размеров справа не обязателен)\":\\n\\n  \"a\"  -\"al\"        m                         KU HELP(\"al\") ,   \"Длина\",\\n  \"bл\"-\"bl\"         cm         [0:999]        KU HELP(\"bl\") ,   \"Ширина слева (у края опоры)\",\\n  \"hл\"-\"hl\"         cm         [-999:999]     KU HELP(\"hl\") ,   \"Высота слева (у края опоры)\",\\n  \"bп\"-\"b1\"         cm         [0:999]        KU HELP(\"b1\") ,   \"Ширина справа\",\\n  \"hп\"-\"h1\"         cm         [-999:999]     KU HELP(\"h1\") ,   \"Высота справа\";\\n\\nVtr   = \"Вут справа (ввод размеров слева не обязателен)\":\\n\\n  \"a\"  -\"ar\"        m                         KU HELP(\"ar\") ,   \"Длина\",\\n  \"bп\"-\"br\"         cm         [0:999]        KU HELP(\"br\") ,   \"Ширина справа (у края опоры)\",\\n  \"hп\"-\"hr\"         cm         [-999:999]     KU HELP(\"hr\") ,   \"Высота справа (у края опоры)\",\\n  \"bл\"-\"b2\"         cm         [0:999]        KU HELP(\"b2\") ,   \"Ширина слева\",\\n  \"hл\"-\"h2\"         cm         [-999:999]     KU HELP(\"h2\") ,   \"Высота слева\";\\n\\nt     = \"Ширины опор (в направлении оси балки)\":\\n\\n  \"t#\"              cm         [0:100]        KUS HELP(\"t#\") ;\\n\\nAs    = \"Жесткости опор\":\\n\\n  \"C#\"              kN_m       [0:9E99]       KUS HELP(\"C#\") ;\\n\\nEe    = \"Защемление крайних опор\":\\n\\n  \"слева\"-\"El\"      prozent                   KUS HELP(\"El\") ,,\\n  \"справа\"-\"Er\"     prozent                   KUS HELP(\"Er\") ;\\n\\nColumn= \"Имеются ли стойки?\":\\n\\n  \"\"-\"Stab\"         NeinJa                    US HELP(\"Stab\") ;\\n\\nSo    = \"Стойка сверху: № опоры, высота стойки, защемление, I или b,h\":\\n\\n  \"опора\"-\"A\"       aufl                      KU HELP(\"A\") ,\\n  \"l\"               m                         KU HELP(\"l\") ,\\n  \"k\"-\"Eo\"          prozent                   KU HELP(\"Eo\") ,\\n  \"I[см4] или b[см]\"-\"I\" Real1 [0:9E9]        KU HELP(\"I\") ,\\n  \"h\"               cm         [0:999]        KU HELP(\"h\") ;\\n\\nSu    = \"Стойка снизу: № опоры, высота стойки, защемление, I или b,h\":\\n\\n  \"опора\"-\"A\"       aufl                      KU HELP(\"A\") ,\\n  \"l\"               m                         KU HELP(\"l\") ,\\n  \"k\"-\"Eu\"          prozent                   KU HELP(\"Eu\") ,\\n  \"I[см4] или b[см]\"-\"I\" Real  [0:9E9]        KU HELP(\"I\") ,\\n  \"h\"               cm         [0:999]        KU HELP(\"h\") ;\\n  \\nDeflag  = \"Расчет прогибов\":\\n    \"\"-\"Deflag\"     Deflag                    US HELP(\"Deflag\") ;\\n    \\nHumidity = \"Относительная влажность возуха\":\\n   \"RH\"          prozent                     KU HELP(\"RH\") ;\\n\\nTimet0 = \"Возраст бетона в начале нагружения\":\\n   \"t0\"          sutki                       KU HELP(\"t0\") ;\\n\\nCMark = \"Марка цемента\":\\n   \"\"-\"CMark\"          MarkC                 U HELP(\"CMark\") ;\\n\\nEwt   = \"Учитывать собственный вес?\":\\n\\n  \"\"-\"Ewt\"          NeinJa                    US HELP(\"Ewt\") ;\\n        \\nTypRSU    = \"Тип расчетного сочетания нагрузок\":\\n\\n  \"\"-\"TypRSU\"           TypRSU                U HELP(\"TypRSU\") ;\\n\\nGamRSU = \"Осредненный коэффициент безопасности\":\\n\\n  \"γ<sub_on>F<sub_off>\"-\"GamRSU\"     ohne2      [1:10]      US HELP(\"GamRSU\") ;\\n\\ng    = \"Равномерно распределённая нагрузка на пролёты\" :\\n\\n  \"p#\"-\"g#\"         kN_m       [-4E4:4E4]     KZU HELP(\"g#\") ;\\n\\ngk1  = \"Равномерно распределённая нагрузка на консоли\" :\\n\\n  \"pл\"-\"gkl\"       kN_m       [-4E4:4E4]     KZU HELP(\"gkl\") ,  \"левая консоль\",\\n  \"pп\"-\"gkr\"       kN_m       [-4E4:4E4]     KZU HELP(\"gkr\") ,  \"правая консоль\";\\n\\nOther_loads = \"Другие нагрузки\" :  \\n\\n  \"\"-\"SoLa\"         NeinJa1                  US HELP(\"SoLa\") ; \\n\\nbl   = \"Прямоугольная\" :\\n\\n  \"Пролёт\"-\"F\"      card       [0:11]         KU HELP(\"F\") ,\\n  \"a\"               m          [-99:99]       KU HELP(\"a\") ,\\n  \"s\"               m          [-99:99]       KU HELP(\"s\") ,\\n  \"p\"-\"g\"           kN_m       [-4E4:4E4]     KZU HELP(\"g\") ;\\n\\ntr   = \"Трапециевидная\" :\\n\\n  \"Пролёт\"-\"F\"      card       [0:11]         KU HELP(\"F\") , \\n  \"a\"               m          [-99:99]       KU HELP(\"a\") ,\\n  \"s\"               m          [-99:99]       KU HELP(\"s\") ,\\n  \"pл\"-\"gl\"         kN_m       [-4E4:4E4]     KZU HELP(\"gl\") ,\\n  \"pп\"-\"gr\"         kN_m       [-4E4:4E4]     KZU HELP(\"gr\") ;\\n\\nde   = \"Шатровая (нагрузка от перекрытия)\" :\\n\\n  \"Пролёт\"-\"F\"      card       [0:11]         KU HELP(\"F\") ,\\n  \"sл\"-\"sl\"         m          [-99:99]       KU HELP(\"sl\") ,\\n  \"sп\"-\"sr\"         m          [-99:99]       KU HELP(\"sr\") ,\\n  \"pл\"-\"gl\"         kN_m       [-4E4:4E4]     KZU HELP(\"gl\") ,\\n  \"pп\"-\"gr\"         kN_m       [-4E4:4E4]     KZU HELP(\"gr\") ;\\n\\nbd   = \"Обобщенная шатровая\" :\\n\\n  \"Пролёт\"-\"F\"      card       [0:11]         KU HELP(\"F\") ,   \"\",\\n  \"a\"               m          [-99:99]       KU HELP(\"a\") ,\\n  \"sл\"-\"sl\"         m          [-99:99]       KU HELP(\"sl\") ,\\n  \"s\"               m          [-99:99]       KU HELP(\"s\") ,\\n  \"sп\"-\"sr\"         m          [-99:99]       KU HELP(\"sr\") ,\\n  \"pл\"-\"gl\"         kN_m       [-4E4:4E4]     KZU HELP(\"gl\") ,\\n  \"pп\"-\"gr\"         kN_m       [-4E4:4E4]     KZU HELP(\"gr\") ;\\n\\nbt   = \"Обобщенная трапециевидная\" :\\n\\n  \"Пролёт\"-\"F\"      card       [0:11]         KU HELP(\"F\") ,   \"\",\\n  \"a\"               m          [-99:99]       KU HELP(\"a\") ,\\n  \"sл\"-\"sl\"         m          [-99:99]       KU HELP(\"sl\") ,\\n  \"s\"               m          [-99:99]       KU HELP(\"s\") ,\\n  \"sп\"-\"sr\"         m          [-99:99]       KU HELP(\"sr\") ,\\n  \"p1\"-\"q1\"         kN_m       [-4E4:4E4]     KZU HELP(\"q1\") ,\\n  \"p2\"-\"q2\"         kN_m       [-4E4:4E4]     KZU HELP(\"q2\") ,\\n  \"p3\"-\"q3\"         kN_m       [-4E4:4E4]     KZU HELP(\"q3\") ,\\n  \"p4\"-\"q4\"         kN_m       [-4E4:4E4]     KZU HELP(\"q4\") ;\\n\\nei   = \"Сосредоточенная сила\" :\\n\\n  \"Пролёт\"-\"F\"      card       [0:11]         KU HELP(\"F\") ,\\n  \"a\"               m          [-99:99]       KU HELP(\"a\") ,\\n  \"P\"-\"G\"           kN         [-4E4:4E4]     KZU HELP(\"G\") ;\\n\\nmo   = \"Сосредоточенный момент (положительный по часовой)\" :\\n\\n  \"Пролёт\"-\"F\"      card       [0:11]         KU HELP(\"F\") ,   \"\",\\n  \"a\"               m          [-99:99]       KU HELP(\"a\") ,\\n  \"M\"               kNm        [-4E4:4E4]     KZU HELP(\"M\") ;\\n\\nte    = \"Температурное воздействие\":\\n\\n  \"Пролёт\"-\"F\"      card       [0:11]         KU HELP(\"F\") ,  \\n  \"α<sub_on>T<sub_off>\"-\"aT\"    C_C                       KZU HELP(\"aT\") ,\\n  \"ΔT\"-\"dT\"              CC         [-9E3:9E3]     KZU HELP(\"dT\") ,\\n  \"h\"               cm         [0:999]        KZU HELP(\"h\") ;\\n\\nver  = \"Осадка и поворот опоры ( положительные вниз и против часовой)\" :\\n\\n  \"Опора\"-\"A\"       card       [1:11]         KU HELP(\"A\") ,\\n  \"v\"-\"vg\"          mm6        [-99:99]       KZU HELP(\"vg\") ,\\n  \"φ\"-\"fg\"         rad1000    [-99:99]       KZU HELP(\"fg\") ;\\n\\nBSt     = \"Класс арматуры\":\\n        \"\"-\"BSt\"     BSt                   U HELP(\"BSt\") ;\\n\\nBSto     = \"Класс верхней арматуры\":\\n        \"\"-\"BSto\"    BSt                   U HELP(\"BSto\") ;\\n\\nBStu     = \"Класс нижней арматуры\":\\n        \"\"-\"BStu\"    BSt                   U HELP(\"BStu\") ;\\n\\nBStb     = \"Класс поперечной арматуры\":\\n        \"\"-\"BStb\"    BSt                   U HELP(\"BStb\") ;\\n\\nAcrc = \"Предельно допустимая ширина раскрытия трещин\":\\n    \"w lim\"-\"acrc\" mm3    [0.005:10]      US HELP(\"acrc\") ;\\n\\nBet      = \"Класс бетона\":\\n        \"\"-\"Bet\"     Bet                   U HELP(\"Bet\") ;\\n\\nDiag     = \"Диаграмма деформирования бетона\":\\n        \"\"-\"Diag\"    Diag                  U HELP(\"Diag\") ;\\n        \\nfck      = \"Прочность бетона\":\\n           \"fck\"     MPa     [0:99]        U HELP(\"fck\") ;\\n\\nTextB    = \"Пояснения по бетону\":\\n        \"\"-\"TextB\"   Txt_EC20 HELP(\"TextB\") ;\\n\\nfyko     = \"Предел текучести верхней арматуры\":\\n   \"fyk,в\"-\"fyko\"     MPa     [0:999]       U HELP(\"fyko\") ;\\n\\nfyku     = \"Предел текучести нижней арматуры\":\\n   \"fyk,н\"-\"fyku\"     MPa     [0:999]       U HELP(\"fyku\") ;\\n\\nfykb     = \"Предел текучести поперечной арматуры\":\\n   \"fyk,б\"-\"fykb\"     MPa     [0:999]       U HELP(\"fykb\") ;\\n   \\nftfyo     = \"Отношение предела прочности к пределу текучести\":\\n        \"\"-\"ftfyu\"    ftfy                  U HELP(\"ftfyu\") , \"верхней арматуры\";\\n\\nftfyu     = \"Отношение предела прочности к пределу текучести\":\\n        \"\"-\"ftfyo\"    ftfy                  U HELP(\"ftfyo\") , \"нижней арматуры\";\\n        \\nTextSo   = \"Пояснения по верхней арматуре\":\\n        \"\"-\"TextSo\"   Txt_EC20 HELP(\"TextSo\") ;\\n        \\nTextSu   = \"Пояснения по нижней арматуре\":\\n        \"\"-\"TextSu\"  Txt_EC20 HELP(\"TextSu\") ;\\n\\nTextSb   = \"Пояснения по поперечной арматуре\":\\n        \"\"-\"TextSb\"  Txt_EC20 HELP(\"TextSb\") ;\\n\\nUm    = \"Перераспределение моментов на опорах\":\\n\\n  \"U#\"              prozent    [0:30]         KUS HELP(\"U#\") ;\\n\\nBw    = \"Параметр управления конструированием арматуры\":\\n\\n  \"\"-\"Bw\"           BW                        US HELP(\"Bw\") ;\\n\\nAch   = \"Расстояния до центров тяжести продольной арматуры\":\\n\\n  \"от пролёта\"-\"vF\" card       [0:11]         KUS HELP(\"vF\") ,\\n  \"до пролёта\"-\"bF\" card       [0:11]         KUS HELP(\"bF\") ,\\n  \"aв\"-\"ho\"         cm         [0:99]         KUS HELP(\"ho\") ,  \"Для верхней арматуры\",\\n  \"aн\"-\"hu\"         cm         [0:99]         KUS HELP(\"hu\") ,  \"Для нижней арматуры\";\\n\\nBDeck = \"Минимальная толщина защитного слоя бетона\":\\n\\n  \"cmin,в\"-\"cminu\"      mm         [0:999]        US HELP(\"cminu\") ,   \"Для верхней арматуры\",\\n  \"cmin,н\"-\"cmino\"      mm         [0:999]        US HELP(\"cmino\") ,   \"Для нижней арматуры\",\\n  \"cmin,б\"-\"cminb\"      mm         [0:999]        US HELP(\"cminb\") ,   \"Для поперечной арматуры\";\\n\\ndc       = \"Приращение минимальной толщины защитного слоя\":\\n \"delta c\"-\"dc\"      mm      [0:99]        U HELP(\"dc\") ;\\n\\nS     = \"Количество уровней (ступенек) при конструировании арматуры\":\\n\\n  \"\"-\"S\"            card       [0:20]         US HELP(\"S\") ;\\n\\nDm    = \"Допустимые к использованию диаметры стержней\":\\n\\n  \"d#\"              mm         [4:40]         KUS HELP(\"d#\") ;\\n\\nBwg   = \"Арматура на всю длину балки\":\\n\\n  \"nн\"-\"nu\"         card       [0:40]         KUS HELP(\"nu\") ,  \"Количество стержней снизу\",\\n  \"dн\"-\"du\"         mm         [0:40]         KUS HELP(\"du\") ,  \"Диаметр нижних стержней\",\\n  \"nв\"-\"no\"         card       [0:40]         KUS HELP(\"no\") ,  \"Количество стержней сверху\",\\n  \"dв\"-\"do\"         mm         [0:40]         KUS HELP(\"do\") ,  \"Диаметр верхних стержней\";\\n\\nBwu  = \"Параметры конструирования нижней арматуры\":\\n\\n  \"nmax\"-\"n+\"       card       [0:99]         KUS HELP(\"n+\") ,\\n  \"amin\"-\"a-\"       mm         [0:99]         KUS HELP(\"a-\") ,\\n  \"dmin\"-\"d-\"       mm         [0:99]         KUS HELP(\"d-\") ,\\n  \"dmax\"-\"d+\"       mm         [0:99]         KUS HELP(\"d+\") ;\\n\\nBwo   = \"Параметры конструирования верхней арматуры\":\\n\\n  \"nmax\"-\"n+\"       card       [0:99]         KUS HELP(\"n+\") ,\\n  \"amin\"-\"a-\"       mm         [0:99]         KUS HELP(\"a-\") ,\\n  \"dmin\"-\"d-\"       mm         [0:99]         KUS HELP(\"d-\") ,\\n  \"dmax\"-\"d+\"       mm         [0:99]         KUS HELP(\"d+\") ;\\n\\n\\nBwb   = \"Параметры конструирования поперечной арматуры (хомутов)\":\\n\\n  \"Smin\"-\"a-\"       cm         [0:1E3]        KUS HELP(\"a-\") ,  \"Минимальное расстояние\",\\n  \"Smax\"-\"a+\"       cm         [0:1E3]        KUS HELP(\"a+\") ,  \"Максимальное расстояние\",\\n  \"d\"               mm         [0:1E3]        KUS HELP(\"d\") ,  \"Диаметр\",\\n  \"dS\"-\"aS\"         cm         [0:1E3]        KUS HELP(\"aS\") ,  \"Шаг изменения расстояния\",           \\n  \"n\"-\"N\"           card       [1:8]          KUS HELP(\"N\") ,  \"Количество стержней\";                     \\n\\nBwf   = \"Параметры конструирования поперечной арматуры в полках\":\\n\\n  \"Smin\"-\"a-\"       cm         [0:1E3]        KUS HELP(\"a-\") ,  \"Минимальное расстояние\",\\n  \"Smax\"-\"a+\"       cm         [0:1E3]        KUS HELP(\"a+\") ,  \"Максимальное расстояние\",\\n  \"d\"               mm         [0:1E3]        KUS HELP(\"d\") ,  \"Диаметр\",\\n  \"dS\"-\"aS\"         cm         [0:1E3]        KUS HELP(\"aS\") ,  \"Шаг изменения расстояния\",           \\n  \"n\"-\"N\"           card       [1:8]          KUS HELP(\"N\") ,  \"Количество стержней\";                     \\n\\nntel  = \"Количество промежуточных точек для печати\":\\n\\n  \"от пролёта\"-\"vF\" card       [0:11]         KUS HELP(\"vF\") ,\\n  \"до пролёта\"-\"bF\" card       [0:11]         KUS HELP(\"bF\") ,\\n  \"n\"               card       [0:20]         KUS HELP(\"n\") ;\\n\\nzntel = \"Координаты дополнительных точек для печати\" :\\n\\n  \"пролёт\"-\"Feld\"   feld                      KUS HELP(\"Feld\") ,\\n  \"a\"               m          [-99:99]       KUS HELP(\"a\") ;\\n  \\nausg  = \"Управление выводом\":\\n\\n  \"\"-\"Text\"         SBEKBW                    US HELP(\"Text\") ,   \"Текстовый вывод\",\\n  \"\"-\"Graf\"         SBEKBW_                   US HELP(\"Graf\") ,   \"Графический вывод\";\\n\\nSteelStress = \"Ограничения напряжений в арматуре\":\\n            \"\" - \"steelcheck\" CHECKBOX    \"ограничение по п. 7.2(5) ТКП EN 1992\"       US HELP(\"steelcheck\") ;\\n\\nStressout = \"Вывод напряжений\":\\n            \"\" - \"stressout\" CHECKBOX    \"Контроль напряжений по п. 7.2 ТКП EN 1992\"       US HELP(\"stressout\") ;\\n\\t\\t\\t\\n\\t\\t\\t\\nHELP (\"QT304.cat\")\\n\\n/*Frage*/\\nl = \\n\\t\"l#\"  \"<bold_on>15 -<bold_off> <bold_on>*** Fehlt ***<bold_off>\";\\n\\n/*Frage*/\\nlk = \\n\\t\"lkl\"  \"<bold_on>16 -<bold_off> <bold_on>*** Fehlt ***<bold_off>\",\\n\\t\"lkr\"  \"<bold_on>17 -<bold_off> <bold_on>*** Fehlt ***<bold_off>\";\\n\\n/*Frage*/\\nmg = \\n\\t\"F\"  \"<bold_on>18 -<bold_off> <bold_on>*** Fehlt ***<bold_off>\",\\n\\t\"a\"  \"<bold_on>19 -<bold_off> <bold_on>*** Fehlt ***<bold_off>\";\\n\\n/*Frage*/\\nQuer = \\n\\t\"vF\"  \"<bold_on>20 -<bold_off> <bold_on>*** Fehlt ***<bold_off>\",\\n\\t\"bF\"  \"<bold_on>21 -<bold_off> <bold_on>*** Fehlt ***<bold_off>\",\\n\\t\"b\"  \"<bold_on>22 -<bold_off> <bold_on>*** Fehlt ***<bold_off>\",\\n\\t\"h\"  \"<bold_on>23 -<bold_off> <bold_on>*** Fehlt ***<bold_off>\";\\n\\n/*Frage*/\\nIsPlate = \\n\\t\"Plb\"  \"<bold_on>24 -<bold_off> <bold_on>*** Fehlt ***<bold_off>\";\\n\\n/*Frage*/\\nPblk = \\n\\t\"vF\"  \"<bold_on>25 -<bold_off> <bold_on>*** Fehlt ***<bold_off>\",\\n\\t\"bF\"  \"<bold_on>26 -<bold_off> <bold_on>*** Fehlt ***<bold_off>\",\\n\\t\"b1\"  \"<bold_on>27 -<bold_off> <bold_on>*** Fehlt ***<bold_off>\",\\n\\t\"b2\"  \"<bold_on>28 -<bold_off> <bold_on>*** Fehlt ***<bold_off>\",\\n\\t\"hf\"  \"<bold_on>29 -<bold_off> <bold_on>*** Fehlt ***<bold_off>\";\\n\\n/*Frage*/\\nVout = \\n\\t\"Vout\"  \"<bold_on>30 -<bold_off> <bold_on>*** Fehlt ***<bold_off>\";\\n\\n/*Frage*/\\nVt = \\n\\t\"vF\"  \"<bold_on>31 -<bold_off> <bold_on>*** Fehlt ***<bold_off>\",\\n\\t\"bF\"  \"<bold_on>32 -<bold_off> <bold_on>*** Fehlt ***<bold_off>\";\\n\\n/*Frage*/\\nVtl = \\n\\t\"al\"  \"<bold_on>33 -<bold_off> <bold_on>*** Fehlt ***<bold_off>\",\\n\\t\"bl\"  \"<bold_on>34 -<bold_off> <bold_on>*** Fehlt ***<bold_off>\",\\n\\t\"hl\"  \"<bold_on>35 -<bold_off> <bold_on>*** Fehlt ***<bold_off>\",\\n\\t\"b1\"  \"<bold_on>36 -<bold_off> <bold_on>*** Fehlt ***<bold_off>\",\\n\\t\"h1\"  \"<bold_on>37 -<bold_off> <bold_on>*** Fehlt ***<bold_off>\";\\n\\n/*Frage*/\\nVtr = \\n\\t\"ar\"  \"<bold_on>38 -<bold_off> <bold_on>*** Fehlt ***<bold_off>\",\\n\\t\"br\"  \"<bold_on>39 -<bold_off> <bold_on>*** Fehlt ***<bold_off>\",\\n\\t\"hr\"  \"<bold_on>40 -<bold_off> <bold_on>*** Fehlt ***<bold_off>\",\\n\\t\"b2\"  \"<bold_on>41 -<bold_off> <bold_on>*** Fehlt ***<bold_off>\",\\n\\t\"h2\"  \"<bold_on>42 -<bold_off> <bold_on>*** Fehlt ***<bold_off>\";\\n\\n/*Frage*/\\nt = \\n\\t\"t#\"  \"<bold_on>43 -<bold_off> <bold_on>*** Fehlt ***<bold_off>\";\\n\\n/*Frage*/\\nEe = \\n\\t\"El\"  \"<bold_on>44 -<bold_off> <bold_on>*** Fehlt ***<bold_off>\",\\n\\t\"Er\"  \"<bold_on>45 -<bold_off> <bold_on>*** Fehlt ***<bold_off>\";\\n\\n/*Frage*/\\nColumn = \\n\\t\"Stab\"  \"<bold_on>46 -<bold_off> <bold_on>*** Fehlt ***<bold_off>\";\\n\\n/*Frage*/\\nAs = \\n\\t\"C#\"  \"<bold_on>47 -<bold_off> <bold_on>*** Fehlt ***<bold_off>\";\\n\\n/*Frage*/\\nSo = \\n\\t\"A\"  \"<bold_on>48 -<bold_off> <bold_on>*** Fehlt ***<bold_off>\",\\n\\t\"l\"  \"<bold_on>49 -<bold_off> <bold_on>*** Fehlt ***<bold_off>\",\\n\\t\"Eo\"  \"<bold_on>50 -<bold_off> <bold_on>*** Fehlt ***<bold_off>\",\\n\\t\"I\"  \"<bold_on>51 -<bold_off> <bold_on>*** Fehlt ***<bold_off>\",\\n\\t\"h\"  \"<bold_on>52 -<bold_off> <bold_on>*** Fehlt ***<bold_off>\";\\n\\n/*Frage*/\\nSu = \\n\\t\"A\"  \"<bold_on>53 -<bold_off> <bold_on>*** Fehlt ***<bold_off>\",\\n\\t\"l\"  \"<bold_on>54 -<bold_off> <bold_on>*** Fehlt ***<bold_off>\",\\n\\t\"Eu\"  \"<bold_on>55 -<bold_off> <bold_on>*** Fehlt ***<bold_off>\",\\n\\t\"I\"  \"<bold_on>56 -<bold_off> <bold_on>*** Fehlt ***<bold_off>\",\\n\\t\"h\"  \"<bold_on>57 -<bold_off> <bold_on>*** Fehlt ***<bold_off>\";\\n\\n/*Frage*/\\nDeflag = \\n\\t\"Deflag\"  \"<bold_on>58 -<bold_off> <bold_on>*** Fehlt ***<bold_off>\";\\n\\n/*Frage*/\\nHumidity = \\n\\t\"RH\"  \"<bold_on>59 -<bold_off> <bold_on>*** Fehlt ***<bold_off>\";\\n\\n/*Frage*/\\nTimet0 = \\n\\t\"t0\"  \"<bold_on>60 -<bold_off> <bold_on>*** Fehlt ***<bold_off>\";\\n\\n/*Frage*/\\nCMark = \\n\\t\"CMark\"  \"<bold_on>61 -<bold_off> <bold_on>*** Fehlt ***<bold_off>\";\\n\\n/*Frage*/\\nEwt = \\n\\t\"Ewt\"  \"<bold_on>62 -<bold_off> <bold_on>*** Fehlt ***<bold_off>\";\\n\\n/*Frage*/\\ng = \\n\\t\"g#\"  \"<bold_on>63 -<bold_off> <bold_on>*** Fehlt ***<bold_off>\";\\n\\n/*Frage*/\\ngk1 = \\n\\t\"gkl\"  \"<bold_on>64 -<bold_off> <bold_on>*** Fehlt ***<bold_off>\",\\n\\t\"gkr\"  \"<bold_on>65 -<bold_off> <bold_on>*** Fehlt ***<bold_off>\";\\n\\n/*Frage*/\\nOther_loads = \\n\\t\"SoLa\"  \"<bold_on>66 -<bold_off> <bold_on>*** Fehlt ***<bold_off>\";\\n\\n/*Frage*/\\nbl = \\n\\t\"F\"  \"<bold_on>67 -<bold_off> <bold_on>*** Fehlt ***<bold_off>\",\\n\\t\"a\"  \"<bold_on>68 -<bold_off> <bold_on>*** Fehlt ***<bold_off>\",\\n\\t\"s\"  \"<bold_on>69 -<bold_off> <bold_on>*** Fehlt ***<bold_off>\",\\n\\t\"g\"  \"<bold_on>70 -<bold_off> <bold_on>*** Fehlt ***<bold_off>\";\\n\\n/*Frage*/\\ntr = \\n\\t\"F\"  \"<bold_on>71 -<bold_off> <bold_on>*** Fehlt ***<bold_off>\",\\n\\t\"a\"  \"<bold_on>72 -<bold_off> <bold_on>*** Fehlt ***<bold_off>\",\\n\\t\"s\"  \"<bold_on>73 -<bold_off> <bold_on>*** Fehlt ***<bold_off>\",\\n\\t\"gl\"  \"<bold_on>74 -<bold_off> <bold_on>*** Fehlt ***<bold_off>\",\\n\\t\"gr\"  \"<bold_on>75 -<bold_off> <bold_on>*** Fehlt ***<bold_off>\";\\n\\n/*Frage*/\\nde = \\n\\t\"F\"  \"<bold_on>76 -<bold_off> <bold_on>*** Fehlt ***<bold_off>\",\\n\\t\"sl\"  \"<bold_on>77 -<bold_off> <bold_on>*** Fehlt ***<bold_off>\",\\n\\t\"sr\"  \"<bold_on>78 -<bold_off> <bold_on>*** Fehlt ***<bold_off>\",\\n\\t\"gl\"  \"<bold_on>79 -<bold_off> <bold_on>*** Fehlt ***<bold_off>\",\\n\\t\"gr\"  \"<bold_on>80 -<bold_off> <bold_on>*** Fehlt ***<bold_off>\";\\n\\n/*Frage*/\\nbd = \\n\\t\"F\"  \"<bold_on>81 -<bold_off> <bold_on>*** Fehlt ***<bold_off>\",\\n\\t\"a\"  \"<bold_on>82 -<bold_off> <bold_on>*** Fehlt ***<bold_off>\",\\n\\t\"sl\"  \"<bold_on>83 -<bold_off> <bold_on>*** Fehlt ***<bold_off>\",\\n\\t\"s\"  \"<bold_on>84 -<bold_off> <bold_on>*** Fehlt ***<bold_off>\",\\n\\t\"sr\"  \"<bold_on>85 -<bold_off> <bold_on>*** Fehlt ***<bold_off>\",\\n\\t\"gl\"  \"<bold_on>86 -<bold_off> <bold_on>*** Fehlt ***<bold_off>\",\\n\\t\"gr\"  \"<bold_on>87 -<bold_off> <bold_on>*** Fehlt ***<bold_off>\";\\n\\n/*Frage*/\\nbt = \\n\\t\"F\"  \"<bold_on>88 -<bold_off> <bold_on>*** Fehlt ***<bold_off>\",\\n\\t\"a\"  \"<bold_on>89 -<bold_off> <bold_on>*** Fehlt ***<bold_off>\",\\n\\t\"sl\"  \"<bold_on>90 -<bold_off> <bold_on>*** Fehlt ***<bold_off>\",\\n\\t\"s\"  \"<bold_on>91 -<bold_off> <bold_on>*** Fehlt ***<bold_off>\",\\n\\t\"sr\"  \"<bold_on>92 -<bold_off> <bold_on>*** Fehlt ***<bold_off>\",\\n\\t\"q1\"  \"<bold_on>93 -<bold_off> <bold_on>*** Fehlt ***<bold_off>\",\\n\\t\"q2\"  \"<bold_on>94 -<bold_off> <bold_on>*** Fehlt ***<bold_off>\",\\n\\t\"q3\"  \"<bold_on>95 -<bold_off> <bold_on>*** Fehlt ***<bold_off>\",\\n\\t\"q4\"  \"<bold_on>96 -<bold_off> <bold_on>*** Fehlt ***<bold_off>\";\\n\\n/*Frage*/\\nei = \\n\\t\"F\"  \"<bold_on>97 -<bold_off> <bold_on>*** Fehlt ***<bold_off>\",\\n\\t\"a\"  \"<bold_on>98 -<bold_off> <bold_on>*** Fehlt ***<bold_off>\",\\n\\t\"G\"  \"<bold_on>99 -<bold_off> <bold_on>*** Fehlt ***<bold_off>\";\\n\\n/*Frage*/\\nmo = \\n\\t\"F\"  \"<bold_on>100 -<bold_off> <bold_on>*** Fehlt ***<bold_off>\",\\n\\t\"a\"  \"<bold_on>101 -<bold_off> <bold_on>*** Fehlt ***<bold_off>\",\\n\\t\"M\"  \"<bold_on>102 -<bold_off> <bold_on>*** Fehlt ***<bold_off>\";\\n\\n/*Frage*/\\nte = \\n\\t\"F\"  \"<bold_on>103 -<bold_off> <bold_on>*** Fehlt ***<bold_off>\",\\n\\t\"aT\"  \"<bold_on>104 -<bold_off> <bold_on>*** Fehlt ***<bold_off>\",\\n\\t\"dT\"  \"<bold_on>105 -<bold_off> <bold_on>*** Fehlt ***<bold_off>\",\\n\\t\"h\"  \"<bold_on>106 -<bold_off> <bold_on>*** Fehlt ***<bold_off>\";\\n\\n/*Frage*/\\nver = \\n\\t\"A\"  \"<bold_on>107 -<bold_off> <bold_on>*** Fehlt ***<bold_off>\",\\n\\t\"vg\"  \"<bold_on>108 -<bold_off> <bold_on>*** Fehlt ***<bold_off>\",\\n\\t\"fg\"  \"<bold_on>109 -<bold_off> <bold_on>*** Fehlt ***<bold_off>\";\\n\\n/*Frage*/\\nTypRSU = \\n\\t\"TypRSU\"  \"<bold_on>110 -<bold_off> <bold_on>*** Fehlt ***<bold_off>\";\\n\\n/*Frage*/\\nGamRSU = \\n\\t\"GamRSU\"  \"<bold_on>111 -<bold_off> <bold_on>*** Fehlt ***<bold_off>\";\\n\\n/*Frage*/\\nAcrc = \\n\\t\"acrc\"  \"<bold_on>112 -<bold_off> <bold_on>*** Fehlt ***<bold_off>\";\\n\\n/*Frage*/\\nSteelStress = \\n\\t\"steelcheck\"  \"<bold_on>113 -<bold_off> <bold_on>*** Fehlt ***<bold_off>\";\\n\\n/*Frage*/\\nUm = \\n\\t\"U#\"  \"<bold_on>114 -<bold_off> <bold_on>*** Fehlt ***<bold_off>\";\\n\\n/*Frage*/\\nBw = \\n\\t\"Bw\"  \"<bold_on>115 -<bold_off> <bold_on>*** Fehlt ***<bold_off>\";\\n\\n/*Frage*/\\nAch = \\n\\t\"vF\"  \"<bold_on>116 -<bold_off> <bold_on>*** Fehlt ***<bold_off>\",\\n\\t\"bF\"  \"<bold_on>117 -<bold_off> <bold_on>*** Fehlt ***<bold_off>\",\\n\\t\"ho\"  \"<bold_on>118 -<bold_off> <bold_on>*** Fehlt ***<bold_off>\",\\n\\t\"hu\"  \"<bold_on>119 -<bold_off> <bold_on>*** Fehlt ***<bold_off>\";\\n\\n/*Frage*/\\nBDeck = \\n\\t\"cminu\"  \"<bold_on>120 -<bold_off> <bold_on>*** Fehlt ***<bold_off>\",\\n\\t\"cmino\"  \"<bold_on>121 -<bold_off> <bold_on>*** Fehlt ***<bold_off>\",\\n\\t\"cminb\"  \"<bold_on>122 -<bold_off> <bold_on>*** Fehlt ***<bold_off>\";\\n\\n/*Frage*/\\ndc = \\n\\t\"dc\"  \"<bold_on>123 -<bold_off> <bold_on>*** Fehlt ***<bold_off>\";\\n\\n/*Frage*/\\nDm = \\n\\t\"d#\"  \"<bold_on>124 -<bold_off> <bold_on>*** Fehlt ***<bold_off>\";\\n\\n/*Frage*/\\nBwg = \\n\\t\"nu\"  \"<bold_on>125 -<bold_off> <bold_on>*** Fehlt ***<bold_off>\",\\n\\t\"du\"  \"<bold_on>126 -<bold_off> <bold_on>*** Fehlt ***<bold_off>\",\\n\\t\"no\"  \"<bold_on>127 -<bold_off> <bold_on>*** Fehlt ***<bold_off>\",\\n\\t\"do\"  \"<bold_on>128 -<bold_off> <bold_on>*** Fehlt ***<bold_off>\";\\n\\n/*Frage*/\\nBwu = \\n\\t\"n+\"  \"<bold_on>129 -<bold_off> <bold_on>*** Fehlt ***<bold_off>\",\\n\\t\"a-\"  \"<bold_on>130 -<bold_off> <bold_on>*** Fehlt ***<bold_off>\",\\n\\t\"d-\"  \"<bold_on>131 -<bold_off> <bold_on>*** Fehlt ***<bold_off>\",\\n\\t\"d+\"  \"<bold_on>132 -<bold_off> <bold_on>*** Fehlt ***<bold_off>\";\\n\\n/*Frage*/\\nBwo = \\n\\t\"n+\"  \"<bold_on>133 -<bold_off> <bold_on>*** Fehlt ***<bold_off>\",\\n\\t\"a-\"  \"<bold_on>134 -<bold_off> <bold_on>*** Fehlt ***<bold_off>\",\\n\\t\"d-\"  \"<bold_on>135 -<bold_off> <bold_on>*** Fehlt ***<bold_off>\",\\n\\t\"d+\"  \"<bold_on>136 -<bold_off> <bold_on>*** Fehlt ***<bold_off>\";\\n\\n/*Frage*/\\nBwb = \\n\\t\"a-\"  \"<bold_on>137 -<bold_off> <bold_on>*** Fehlt ***<bold_off>\",\\n\\t\"a+\"  \"<bold_on>138 -<bold_off> <bold_on>*** Fehlt ***<bold_off>\",\\n\\t\"d\"  \"<bold_on>139 -<bold_off> <bold_on>*** Fehlt ***<bold_off>\",\\n\\t\"aS\"  \"<bold_on>140 -<bold_off> <bold_on>*** Fehlt ***<bold_off>\",\\n\\t\"N\"  \"<bold_on>141 -<bold_off> <bold_on>*** Fehlt ***<bold_off>\";\\n\\n/*Frage*/\\nBwf = \\n\\t\"a-\"  \"<bold_on>142 -<bold_off> <bold_on>*** Fehlt ***<bold_off>\",\\n\\t\"a+\"  \"<bold_on>143 -<bold_off> <bold_on>*** Fehlt ***<bold_off>\",\\n\\t\"d\"  \"<bold_on>144 -<bold_off> <bold_on>*** Fehlt ***<bold_off>\",\\n\\t\"aS\"  \"<bold_on>145 -<bold_off> <bold_on>*** Fehlt ***<bold_off>\",\\n\\t\"N\"  \"<bold_on>146 -<bold_off> <bold_on>*** Fehlt ***<bold_off>\";\\n\\n/*Frage*/\\nS = \\n\\t\"S\"  \"<bold_on>147 -<bold_off> <bold_on>*** Fehlt ***<bold_off>\";\\n\\n/*Frage*/\\nntel = \\n\\t\"vF\"  \"<bold_on>148 -<bold_off> <bold_on>*** Fehlt ***<bold_off>\",\\n\\t\"bF\"  \"<bold_on>149 -<bold_off> <bold_on>*** Fehlt ***<bold_off>\",\\n\\t\"n\"  \"<bold_on>150 -<bold_off> <bold_on>*** Fehlt ***<bold_off>\";\\n\\n/*Frage*/\\nzntel = \\n\\t\"Feld\"  \"<bold_on>151 -<bold_off> <bold_on>*** Fehlt ***<bold_off>\",\\n\\t\"a\"  \"<bold_on>152 -<bold_off> <bold_on>*** Fehlt ***<bold_off>\";\\n\\n/*Frage*/\\nausg = \\n\\t\"Text\"  \"<bold_on>153 -<bold_off> <bold_on>*** Fehlt ***<bold_off>\",\\n\\t\"Graf\"  \"<bold_on>154 -<bold_off> <bold_on>*** Fehlt ***<bold_off>\";\\n\\n/*Frage*/\\nStressout = \\n\\t\"stressout\"  \"<bold_on>155 -<bold_off> <bold_on>*** Fehlt ***<bold_off>\";\\n\\n'"
      ]
     },
     "execution_count": 2,
     "metadata": {},
     "output_type": "execute_result"
    }
   ],
   "source": [
    "with open('CheckedKataloge/qt304.cat', 'r') as file:\n",
    "    data = file.read()\n",
    "    \n",
    "data"
   ]
  },
  {
   "cell_type": "code",
   "execution_count": 3,
   "metadata": {},
   "outputs": [
    {
     "data": {
      "text/plain": [
       "['QUESTION\\n\\nl     = \"Длины пролётов\" :\\n\\n  \"l#\"              m          [0:50]         KU HELP(\"l#\") ',\n",
       " '\\nlk    = \"Длины консолей\" :\\n\\n  \"lл\"-\"lkl\"        m          [0:25]         KU HELP(\"lkl\") ,\"слева\",\\n  \"lп\"-\"lkr\"        m          [0:25]         KU HELP(\"lkr\") ,\"справа\"',\n",
       " '\\nmg    = \"Шарниры: номер пролёта, расстояние от середины левой опоры\":\\n\\n  \"пролёт\"-\"F\"      card       [0:11]         KU HELP(\"F\") , \\n  \"a\"               m          [0:999]        KU HELP(\"a\") ; \\n\\nQuer  = \"Ширина и высота сечения\":\\n\\n  \"от пролёта\"-\"vF\" card       [0:11]         KUS HELP(\"vF\") , \\n  \"до пролёта\"-\"bF\" card       [0:11]         KUS HELP(\"bF\") ,\\n  \"b\"               cm         [0:999]        KUS HELP(\"b\") , \\n  \"h\"               cm         [0:999]        KUS HELP(\"h\") ',\n",
       " '\\nIsPlate = \"Имеются ли тавровые сечения?\" :\\n\\n  \"\"-\"Plb\"          NeinJa                    US HELP(\"Plb\") ; \\n\\nPblk  = \"Ширина левого свеса, ширина правого свеса и высота полки\":\\n\\n  \"от пролёта\"-\"vF\" card       [0:11]         KUS HELP(\"vF\") , \\n  \"до пролёта\"-\"bF\" card       [0:11]         KUS HELP(\"bF\") ,\\n  \"bл\"-\"b1\"         cm         [0:999]        KU HELP(\"b1\") ,\\n  \"bп\"-\"b2\"         cm         [0:999]        KU HELP(\"b2\") ,\\n  \"hf\"-\"hf\"         cm         [-999:999]     KU HELP(\"hf\") ',\n",
       " '\\nVout  = \"Имеются ли вуты?\":\\n\\n  \"\"-\"Vout\"         NeinJa                    US HELP(\"Vout\") ; \\n\\nVt    = \"Пролёты балки c одинаковыми вутами\":\\n\\n  \"\"-\"vF\"           card       [0:11]         KU HELP(\"vF\") ,   \"От пролёта\",\\n  \"\"-\"bF\"           card       [0:11]         KU HELP(\"bF\") ,   \"До пролёта\"; \\n\\nVtl  = \"Вут слева (ввод размеров справа не обязателен)\":\\n\\n  \"a\"  -\"al\"        m                         KU HELP(\"al\") ,   \"Длина\",\\n  \"bл\"-\"bl\"         cm         [0:999]        KU HELP(\"bl\") ,   \"Ширина слева (у края опоры)\",\\n  \"hл\"-\"hl\"         cm         [-999:999]     KU HELP(\"hl\") ,   \"Высота слева (у края опоры)\",\\n  \"bп\"-\"b1\"         cm         [0:999]        KU HELP(\"b1\") ,   \"Ширина справа\",\\n  \"hп\"-\"h1\"         cm         [-999:999]     KU HELP(\"h1\") ,   \"Высота справа\"',\n",
       " '\\nVtr   = \"Вут справа (ввод размеров слева не обязателен)\":\\n\\n  \"a\"  -\"ar\"        m                         KU HELP(\"ar\") ,   \"Длина\",\\n  \"bп\"-\"br\"         cm         [0:999]        KU HELP(\"br\") ,   \"Ширина справа (у края опоры)\",\\n  \"hп\"-\"hr\"         cm         [-999:999]     KU HELP(\"hr\") ,   \"Высота справа (у края опоры)\",\\n  \"bл\"-\"b2\"         cm         [0:999]        KU HELP(\"b2\") ,   \"Ширина слева\",\\n  \"hл\"-\"h2\"         cm         [-999:999]     KU HELP(\"h2\") ,   \"Высота слева\"',\n",
       " '\\nt     = \"Ширины опор (в направлении оси балки)\":\\n\\n  \"t#\"              cm         [0:100]        KUS HELP(\"t#\") ',\n",
       " '\\nAs    = \"Жесткости опор\":\\n\\n  \"C#\"              kN_m       [0:9E99]       KUS HELP(\"C#\") ',\n",
       " '\\nEe    = \"Защемление крайних опор\":\\n\\n  \"слева\"-\"El\"      prozent                   KUS HELP(\"El\") ,,\\n  \"справа\"-\"Er\"     prozent                   KUS HELP(\"Er\") ',\n",
       " '\\nColumn= \"Имеются ли стойки?\":\\n\\n  \"\"-\"Stab\"         NeinJa                    US HELP(\"Stab\") ',\n",
       " '\\nSo    = \"Стойка сверху: № опоры, высота стойки, защемление, I или b,h\":\\n\\n  \"опора\"-\"A\"       aufl                      KU HELP(\"A\") ,\\n  \"l\"               m                         KU HELP(\"l\") ,\\n  \"k\"-\"Eo\"          prozent                   KU HELP(\"Eo\") ,\\n  \"I[см4] или b[см]\"-\"I\" Real1 [0:9E9]        KU HELP(\"I\") ,\\n  \"h\"               cm         [0:999]        KU HELP(\"h\") ',\n",
       " '\\nSu    = \"Стойка снизу: № опоры, высота стойки, защемление, I или b,h\":\\n\\n  \"опора\"-\"A\"       aufl                      KU HELP(\"A\") ,\\n  \"l\"               m                         KU HELP(\"l\") ,\\n  \"k\"-\"Eu\"          prozent                   KU HELP(\"Eu\") ,\\n  \"I[см4] или b[см]\"-\"I\" Real  [0:9E9]        KU HELP(\"I\") ,\\n  \"h\"               cm         [0:999]        KU HELP(\"h\") ',\n",
       " '  \\nDeflag  = \"Расчет прогибов\":\\n    \"\"-\"Deflag\"     Deflag                    US HELP(\"Deflag\") ',\n",
       " '    \\nHumidity = \"Относительная влажность возуха\":\\n   \"RH\"          prozent                     KU HELP(\"RH\") ',\n",
       " '\\nTimet0 = \"Возраст бетона в начале нагружения\":\\n   \"t0\"          sutki                       KU HELP(\"t0\") ',\n",
       " '\\nCMark = \"Марка цемента\":\\n   \"\"-\"CMark\"          MarkC                 U HELP(\"CMark\") ',\n",
       " '\\nEwt   = \"Учитывать собственный вес?\":\\n\\n  \"\"-\"Ewt\"          NeinJa                    US HELP(\"Ewt\") ',\n",
       " '        \\nTypRSU    = \"Тип расчетного сочетания нагрузок\":\\n\\n  \"\"-\"TypRSU\"           TypRSU                U HELP(\"TypRSU\") ',\n",
       " '\\nGamRSU = \"Осредненный коэффициент безопасности\":\\n\\n  \"γ<sub_on>F<sub_off>\"-\"GamRSU\"     ohne2      [1:10]      US HELP(\"GamRSU\") ',\n",
       " '\\ng    = \"Равномерно распределённая нагрузка на пролёты\" :\\n\\n  \"p#\"-\"g#\"         kN_m       [-4E4:4E4]     KZU HELP(\"g#\") ',\n",
       " '\\ngk1  = \"Равномерно распределённая нагрузка на консоли\" :\\n\\n  \"pл\"-\"gkl\"       kN_m       [-4E4:4E4]     KZU HELP(\"gkl\") ,  \"левая консоль\",\\n  \"pп\"-\"gkr\"       kN_m       [-4E4:4E4]     KZU HELP(\"gkr\") ,  \"правая консоль\"',\n",
       " '\\nOther_loads = \"Другие нагрузки\" :  \\n\\n  \"\"-\"SoLa\"         NeinJa1                  US HELP(\"SoLa\") ; \\n\\nbl   = \"Прямоугольная\" :\\n\\n  \"Пролёт\"-\"F\"      card       [0:11]         KU HELP(\"F\") ,\\n  \"a\"               m          [-99:99]       KU HELP(\"a\") ,\\n  \"s\"               m          [-99:99]       KU HELP(\"s\") ,\\n  \"p\"-\"g\"           kN_m       [-4E4:4E4]     KZU HELP(\"g\") ',\n",
       " '\\ntr   = \"Трапециевидная\" :\\n\\n  \"Пролёт\"-\"F\"      card       [0:11]         KU HELP(\"F\") , \\n  \"a\"               m          [-99:99]       KU HELP(\"a\") ,\\n  \"s\"               m          [-99:99]       KU HELP(\"s\") ,\\n  \"pл\"-\"gl\"         kN_m       [-4E4:4E4]     KZU HELP(\"gl\") ,\\n  \"pп\"-\"gr\"         kN_m       [-4E4:4E4]     KZU HELP(\"gr\") ',\n",
       " '\\nde   = \"Шатровая (нагрузка от перекрытия)\" :\\n\\n  \"Пролёт\"-\"F\"      card       [0:11]         KU HELP(\"F\") ,\\n  \"sл\"-\"sl\"         m          [-99:99]       KU HELP(\"sl\") ,\\n  \"sп\"-\"sr\"         m          [-99:99]       KU HELP(\"sr\") ,\\n  \"pл\"-\"gl\"         kN_m       [-4E4:4E4]     KZU HELP(\"gl\") ,\\n  \"pп\"-\"gr\"         kN_m       [-4E4:4E4]     KZU HELP(\"gr\") ',\n",
       " '\\nbd   = \"Обобщенная шатровая\" :\\n\\n  \"Пролёт\"-\"F\"      card       [0:11]         KU HELP(\"F\") ,   \"\",\\n  \"a\"               m          [-99:99]       KU HELP(\"a\") ,\\n  \"sл\"-\"sl\"         m          [-99:99]       KU HELP(\"sl\") ,\\n  \"s\"               m          [-99:99]       KU HELP(\"s\") ,\\n  \"sп\"-\"sr\"         m          [-99:99]       KU HELP(\"sr\") ,\\n  \"pл\"-\"gl\"         kN_m       [-4E4:4E4]     KZU HELP(\"gl\") ,\\n  \"pп\"-\"gr\"         kN_m       [-4E4:4E4]     KZU HELP(\"gr\") ',\n",
       " '\\nbt   = \"Обобщенная трапециевидная\" :\\n\\n  \"Пролёт\"-\"F\"      card       [0:11]         KU HELP(\"F\") ,   \"\",\\n  \"a\"               m          [-99:99]       KU HELP(\"a\") ,\\n  \"sл\"-\"sl\"         m          [-99:99]       KU HELP(\"sl\") ,\\n  \"s\"               m          [-99:99]       KU HELP(\"s\") ,\\n  \"sп\"-\"sr\"         m          [-99:99]       KU HELP(\"sr\") ,\\n  \"p1\"-\"q1\"         kN_m       [-4E4:4E4]     KZU HELP(\"q1\") ,\\n  \"p2\"-\"q2\"         kN_m       [-4E4:4E4]     KZU HELP(\"q2\") ,\\n  \"p3\"-\"q3\"         kN_m       [-4E4:4E4]     KZU HELP(\"q3\") ,\\n  \"p4\"-\"q4\"         kN_m       [-4E4:4E4]     KZU HELP(\"q4\") ',\n",
       " '\\nei   = \"Сосредоточенная сила\" :\\n\\n  \"Пролёт\"-\"F\"      card       [0:11]         KU HELP(\"F\") ,\\n  \"a\"               m          [-99:99]       KU HELP(\"a\") ,\\n  \"P\"-\"G\"           kN         [-4E4:4E4]     KZU HELP(\"G\") ',\n",
       " '\\nmo   = \"Сосредоточенный момент (положительный по часовой)\" :\\n\\n  \"Пролёт\"-\"F\"      card       [0:11]         KU HELP(\"F\") ,   \"\",\\n  \"a\"               m          [-99:99]       KU HELP(\"a\") ,\\n  \"M\"               kNm        [-4E4:4E4]     KZU HELP(\"M\") ',\n",
       " '\\nte    = \"Температурное воздействие\":\\n\\n  \"Пролёт\"-\"F\"      card       [0:11]         KU HELP(\"F\") ,  \\n  \"α<sub_on>T<sub_off>\"-\"aT\"    C_C                       KZU HELP(\"aT\") ,\\n  \"ΔT\"-\"dT\"              CC         [-9E3:9E3]     KZU HELP(\"dT\") ,\\n  \"h\"               cm         [0:999]        KZU HELP(\"h\") ',\n",
       " '\\nver  = \"Осадка и поворот опоры ( положительные вниз и против часовой)\" :\\n\\n  \"Опора\"-\"A\"       card       [1:11]         KU HELP(\"A\") ,\\n  \"v\"-\"vg\"          mm6        [-99:99]       KZU HELP(\"vg\") ,\\n  \"φ\"-\"fg\"         rad1000    [-99:99]       KZU HELP(\"fg\") ',\n",
       " '\\nBSt     = \"Класс арматуры\":\\n        \"\"-\"BSt\"     BSt                   U HELP(\"BSt\") ',\n",
       " '\\nBSto     = \"Класс верхней арматуры\":\\n        \"\"-\"BSto\"    BSt                   U HELP(\"BSto\") ',\n",
       " '\\nBStu     = \"Класс нижней арматуры\":\\n        \"\"-\"BStu\"    BSt                   U HELP(\"BStu\") ',\n",
       " '\\nBStb     = \"Класс поперечной арматуры\":\\n        \"\"-\"BStb\"    BSt                   U HELP(\"BStb\") ',\n",
       " '\\nAcrc = \"Предельно допустимая ширина раскрытия трещин\":\\n    \"w lim\"-\"acrc\" mm3    [0.005:10]      US HELP(\"acrc\") ',\n",
       " '\\nBet      = \"Класс бетона\":\\n        \"\"-\"Bet\"     Bet                   U HELP(\"Bet\") ',\n",
       " '\\nDiag     = \"Диаграмма деформирования бетона\":\\n        \"\"-\"Diag\"    Diag                  U HELP(\"Diag\") ',\n",
       " '        \\nfck      = \"Прочность бетона\":\\n           \"fck\"     MPa     [0:99]        U HELP(\"fck\") ',\n",
       " '\\nTextB    = \"Пояснения по бетону\":\\n        \"\"-\"TextB\"   Txt_EC20 HELP(\"TextB\") ',\n",
       " '\\nfyko     = \"Предел текучести верхней арматуры\":\\n   \"fyk,в\"-\"fyko\"     MPa     [0:999]       U HELP(\"fyko\") ',\n",
       " '\\nfyku     = \"Предел текучести нижней арматуры\":\\n   \"fyk,н\"-\"fyku\"     MPa     [0:999]       U HELP(\"fyku\") ',\n",
       " '\\nfykb     = \"Предел текучести поперечной арматуры\":\\n   \"fyk,б\"-\"fykb\"     MPa     [0:999]       U HELP(\"fykb\") ',\n",
       " '   \\nftfyo     = \"Отношение предела прочности к пределу текучести\":\\n        \"\"-\"ftfyu\"    ftfy                  U HELP(\"ftfyu\") , \"верхней арматуры\"',\n",
       " '\\nftfyu     = \"Отношение предела прочности к пределу текучести\":\\n        \"\"-\"ftfyo\"    ftfy                  U HELP(\"ftfyo\") , \"нижней арматуры\"',\n",
       " '        \\nTextSo   = \"Пояснения по верхней арматуре\":\\n        \"\"-\"TextSo\"   Txt_EC20 HELP(\"TextSo\") ',\n",
       " '        \\nTextSu   = \"Пояснения по нижней арматуре\":\\n        \"\"-\"TextSu\"  Txt_EC20 HELP(\"TextSu\") ',\n",
       " '\\nTextSb   = \"Пояснения по поперечной арматуре\":\\n        \"\"-\"TextSb\"  Txt_EC20 HELP(\"TextSb\") ',\n",
       " '\\nUm    = \"Перераспределение моментов на опорах\":\\n\\n  \"U#\"              prozent    [0:30]         KUS HELP(\"U#\") ',\n",
       " '\\nBw    = \"Параметр управления конструированием арматуры\":\\n\\n  \"\"-\"Bw\"           BW                        US HELP(\"Bw\") ',\n",
       " '\\nAch   = \"Расстояния до центров тяжести продольной арматуры\":\\n\\n  \"от пролёта\"-\"vF\" card       [0:11]         KUS HELP(\"vF\") ,\\n  \"до пролёта\"-\"bF\" card       [0:11]         KUS HELP(\"bF\") ,\\n  \"aв\"-\"ho\"         cm         [0:99]         KUS HELP(\"ho\") ,  \"Для верхней арматуры\",\\n  \"aн\"-\"hu\"         cm         [0:99]         KUS HELP(\"hu\") ,  \"Для нижней арматуры\"',\n",
       " '\\nBDeck = \"Минимальная толщина защитного слоя бетона\":\\n\\n  \"cmin,в\"-\"cminu\"      mm         [0:999]        US HELP(\"cminu\") ,   \"Для верхней арматуры\",\\n  \"cmin,н\"-\"cmino\"      mm         [0:999]        US HELP(\"cmino\") ,   \"Для нижней арматуры\",\\n  \"cmin,б\"-\"cminb\"      mm         [0:999]        US HELP(\"cminb\") ,   \"Для поперечной арматуры\"',\n",
       " '\\ndc       = \"Приращение минимальной толщины защитного слоя\":\\n \"delta c\"-\"dc\"      mm      [0:99]        U HELP(\"dc\") ',\n",
       " '\\nS     = \"Количество уровней (ступенек) при конструировании арматуры\":\\n\\n  \"\"-\"S\"            card       [0:20]         US HELP(\"S\") ',\n",
       " '\\nDm    = \"Допустимые к использованию диаметры стержней\":\\n\\n  \"d#\"              mm         [4:40]         KUS HELP(\"d#\") ',\n",
       " '\\nBwg   = \"Арматура на всю длину балки\":\\n\\n  \"nн\"-\"nu\"         card       [0:40]         KUS HELP(\"nu\") ,  \"Количество стержней снизу\",\\n  \"dн\"-\"du\"         mm         [0:40]         KUS HELP(\"du\") ,  \"Диаметр нижних стержней\",\\n  \"nв\"-\"no\"         card       [0:40]         KUS HELP(\"no\") ,  \"Количество стержней сверху\",\\n  \"dв\"-\"do\"         mm         [0:40]         KUS HELP(\"do\") ,  \"Диаметр верхних стержней\"',\n",
       " '\\nBwu  = \"Параметры конструирования нижней арматуры\":\\n\\n  \"nmax\"-\"n+\"       card       [0:99]         KUS HELP(\"n+\") ,\\n  \"amin\"-\"a-\"       mm         [0:99]         KUS HELP(\"a-\") ,\\n  \"dmin\"-\"d-\"       mm         [0:99]         KUS HELP(\"d-\") ,\\n  \"dmax\"-\"d+\"       mm         [0:99]         KUS HELP(\"d+\") ',\n",
       " '\\nBwo   = \"Параметры конструирования верхней арматуры\":\\n\\n  \"nmax\"-\"n+\"       card       [0:99]         KUS HELP(\"n+\") ,\\n  \"amin\"-\"a-\"       mm         [0:99]         KUS HELP(\"a-\") ,\\n  \"dmin\"-\"d-\"       mm         [0:99]         KUS HELP(\"d-\") ,\\n  \"dmax\"-\"d+\"       mm         [0:99]         KUS HELP(\"d+\") ',\n",
       " '\\n\\nBwb   = \"Параметры конструирования поперечной арматуры (хомутов)\":\\n\\n  \"Smin\"-\"a-\"       cm         [0:1E3]        KUS HELP(\"a-\") ,  \"Минимальное расстояние\",\\n  \"Smax\"-\"a+\"       cm         [0:1E3]        KUS HELP(\"a+\") ,  \"Максимальное расстояние\",\\n  \"d\"               mm         [0:1E3]        KUS HELP(\"d\") ,  \"Диаметр\",\\n  \"dS\"-\"aS\"         cm         [0:1E3]        KUS HELP(\"aS\") ,  \"Шаг изменения расстояния\",           \\n  \"n\"-\"N\"           card       [1:8]          KUS HELP(\"N\") ,  \"Количество стержней\";                     \\n\\nBwf   = \"Параметры конструирования поперечной арматуры в полках\":\\n\\n  \"Smin\"-\"a-\"       cm         [0:1E3]        KUS HELP(\"a-\") ,  \"Минимальное расстояние\",\\n  \"Smax\"-\"a+\"       cm         [0:1E3]        KUS HELP(\"a+\") ,  \"Максимальное расстояние\",\\n  \"d\"               mm         [0:1E3]        KUS HELP(\"d\") ,  \"Диаметр\",\\n  \"dS\"-\"aS\"         cm         [0:1E3]        KUS HELP(\"aS\") ,  \"Шаг изменения расстояния\",           \\n  \"n\"-\"N\"           card       [1:8]          KUS HELP(\"N\") ,  \"Количество стержней\";                     \\n\\nntel  = \"Количество промежуточных точек для печати\":\\n\\n  \"от пролёта\"-\"vF\" card       [0:11]         KUS HELP(\"vF\") ,\\n  \"до пролёта\"-\"bF\" card       [0:11]         KUS HELP(\"bF\") ,\\n  \"n\"               card       [0:20]         KUS HELP(\"n\") ',\n",
       " '\\nzntel = \"Координаты дополнительных точек для печати\" :\\n\\n  \"пролёт\"-\"Feld\"   feld                      KUS HELP(\"Feld\") ,\\n  \"a\"               m          [-99:99]       KUS HELP(\"a\") ',\n",
       " '  \\nausg  = \"Управление выводом\":\\n\\n  \"\"-\"Text\"         SBEKBW                    US HELP(\"Text\") ,   \"Текстовый вывод\",\\n  \"\"-\"Graf\"         SBEKBW_                   US HELP(\"Graf\") ,   \"Графический вывод\"',\n",
       " '\\nSteelStress = \"Ограничения напряжений в арматуре\":\\n            \"\" - \"steelcheck\" CHECKBOX    \"ограничение по п. 7.2(5) ТКП EN 1992\"       US HELP(\"steelcheck\") ',\n",
       " '\\nStressout = \"Вывод напряжений\":\\n            \"\" - \"stressout\" CHECKBOX    \"Контроль напряжений по п. 7.2 ТКП EN 1992\"       US HELP(\"stressout\") ',\n",
       " '\\t\\t\\t\\n\\t\\t\\t\\nHELP (\"QT304.cat\")\\n\\n/*Frage*/\\nl = \\n\\t\"l#\"  \"<bold_on>15 -<bold_off> <bold_on>*** Fehlt ***<bold_off>\"',\n",
       " '\\n/*Frage*/\\nlk = \\n\\t\"lkl\"  \"<bold_on>16 -<bold_off> <bold_on>*** Fehlt ***<bold_off>\",\\n\\t\"lkr\"  \"<bold_on>17 -<bold_off> <bold_on>*** Fehlt ***<bold_off>\"',\n",
       " '\\n/*Frage*/\\nmg = \\n\\t\"F\"  \"<bold_on>18 -<bold_off> <bold_on>*** Fehlt ***<bold_off>\",\\n\\t\"a\"  \"<bold_on>19 -<bold_off> <bold_on>*** Fehlt ***<bold_off>\"',\n",
       " '\\n/*Frage*/\\nQuer = \\n\\t\"vF\"  \"<bold_on>20 -<bold_off> <bold_on>*** Fehlt ***<bold_off>\",\\n\\t\"bF\"  \"<bold_on>21 -<bold_off> <bold_on>*** Fehlt ***<bold_off>\",\\n\\t\"b\"  \"<bold_on>22 -<bold_off> <bold_on>*** Fehlt ***<bold_off>\",\\n\\t\"h\"  \"<bold_on>23 -<bold_off> <bold_on>*** Fehlt ***<bold_off>\"',\n",
       " '\\n/*Frage*/\\nIsPlate = \\n\\t\"Plb\"  \"<bold_on>24 -<bold_off> <bold_on>*** Fehlt ***<bold_off>\"',\n",
       " '\\n/*Frage*/\\nPblk = \\n\\t\"vF\"  \"<bold_on>25 -<bold_off> <bold_on>*** Fehlt ***<bold_off>\",\\n\\t\"bF\"  \"<bold_on>26 -<bold_off> <bold_on>*** Fehlt ***<bold_off>\",\\n\\t\"b1\"  \"<bold_on>27 -<bold_off> <bold_on>*** Fehlt ***<bold_off>\",\\n\\t\"b2\"  \"<bold_on>28 -<bold_off> <bold_on>*** Fehlt ***<bold_off>\",\\n\\t\"hf\"  \"<bold_on>29 -<bold_off> <bold_on>*** Fehlt ***<bold_off>\"',\n",
       " '\\n/*Frage*/\\nVout = \\n\\t\"Vout\"  \"<bold_on>30 -<bold_off> <bold_on>*** Fehlt ***<bold_off>\"',\n",
       " '\\n/*Frage*/\\nVt = \\n\\t\"vF\"  \"<bold_on>31 -<bold_off> <bold_on>*** Fehlt ***<bold_off>\",\\n\\t\"bF\"  \"<bold_on>32 -<bold_off> <bold_on>*** Fehlt ***<bold_off>\"',\n",
       " '\\n/*Frage*/\\nVtl = \\n\\t\"al\"  \"<bold_on>33 -<bold_off> <bold_on>*** Fehlt ***<bold_off>\",\\n\\t\"bl\"  \"<bold_on>34 -<bold_off> <bold_on>*** Fehlt ***<bold_off>\",\\n\\t\"hl\"  \"<bold_on>35 -<bold_off> <bold_on>*** Fehlt ***<bold_off>\",\\n\\t\"b1\"  \"<bold_on>36 -<bold_off> <bold_on>*** Fehlt ***<bold_off>\",\\n\\t\"h1\"  \"<bold_on>37 -<bold_off> <bold_on>*** Fehlt ***<bold_off>\"',\n",
       " '\\n/*Frage*/\\nVtr = \\n\\t\"ar\"  \"<bold_on>38 -<bold_off> <bold_on>*** Fehlt ***<bold_off>\",\\n\\t\"br\"  \"<bold_on>39 -<bold_off> <bold_on>*** Fehlt ***<bold_off>\",\\n\\t\"hr\"  \"<bold_on>40 -<bold_off> <bold_on>*** Fehlt ***<bold_off>\",\\n\\t\"b2\"  \"<bold_on>41 -<bold_off> <bold_on>*** Fehlt ***<bold_off>\",\\n\\t\"h2\"  \"<bold_on>42 -<bold_off> <bold_on>*** Fehlt ***<bold_off>\"',\n",
       " '\\n/*Frage*/\\nt = \\n\\t\"t#\"  \"<bold_on>43 -<bold_off> <bold_on>*** Fehlt ***<bold_off>\"',\n",
       " '\\n/*Frage*/\\nEe = \\n\\t\"El\"  \"<bold_on>44 -<bold_off> <bold_on>*** Fehlt ***<bold_off>\",\\n\\t\"Er\"  \"<bold_on>45 -<bold_off> <bold_on>*** Fehlt ***<bold_off>\"',\n",
       " '\\n/*Frage*/\\nColumn = \\n\\t\"Stab\"  \"<bold_on>46 -<bold_off> <bold_on>*** Fehlt ***<bold_off>\"',\n",
       " '\\n/*Frage*/\\nAs = \\n\\t\"C#\"  \"<bold_on>47 -<bold_off> <bold_on>*** Fehlt ***<bold_off>\"',\n",
       " '\\n/*Frage*/\\nSo = \\n\\t\"A\"  \"<bold_on>48 -<bold_off> <bold_on>*** Fehlt ***<bold_off>\",\\n\\t\"l\"  \"<bold_on>49 -<bold_off> <bold_on>*** Fehlt ***<bold_off>\",\\n\\t\"Eo\"  \"<bold_on>50 -<bold_off> <bold_on>*** Fehlt ***<bold_off>\",\\n\\t\"I\"  \"<bold_on>51 -<bold_off> <bold_on>*** Fehlt ***<bold_off>\",\\n\\t\"h\"  \"<bold_on>52 -<bold_off> <bold_on>*** Fehlt ***<bold_off>\"',\n",
       " '\\n/*Frage*/\\nSu = \\n\\t\"A\"  \"<bold_on>53 -<bold_off> <bold_on>*** Fehlt ***<bold_off>\",\\n\\t\"l\"  \"<bold_on>54 -<bold_off> <bold_on>*** Fehlt ***<bold_off>\",\\n\\t\"Eu\"  \"<bold_on>55 -<bold_off> <bold_on>*** Fehlt ***<bold_off>\",\\n\\t\"I\"  \"<bold_on>56 -<bold_off> <bold_on>*** Fehlt ***<bold_off>\",\\n\\t\"h\"  \"<bold_on>57 -<bold_off> <bold_on>*** Fehlt ***<bold_off>\"',\n",
       " '\\n/*Frage*/\\nDeflag = \\n\\t\"Deflag\"  \"<bold_on>58 -<bold_off> <bold_on>*** Fehlt ***<bold_off>\"',\n",
       " '\\n/*Frage*/\\nHumidity = \\n\\t\"RH\"  \"<bold_on>59 -<bold_off> <bold_on>*** Fehlt ***<bold_off>\"',\n",
       " '\\n/*Frage*/\\nTimet0 = \\n\\t\"t0\"  \"<bold_on>60 -<bold_off> <bold_on>*** Fehlt ***<bold_off>\"',\n",
       " '\\n/*Frage*/\\nCMark = \\n\\t\"CMark\"  \"<bold_on>61 -<bold_off> <bold_on>*** Fehlt ***<bold_off>\"',\n",
       " '\\n/*Frage*/\\nEwt = \\n\\t\"Ewt\"  \"<bold_on>62 -<bold_off> <bold_on>*** Fehlt ***<bold_off>\"',\n",
       " '\\n/*Frage*/\\ng = \\n\\t\"g#\"  \"<bold_on>63 -<bold_off> <bold_on>*** Fehlt ***<bold_off>\"',\n",
       " '\\n/*Frage*/\\ngk1 = \\n\\t\"gkl\"  \"<bold_on>64 -<bold_off> <bold_on>*** Fehlt ***<bold_off>\",\\n\\t\"gkr\"  \"<bold_on>65 -<bold_off> <bold_on>*** Fehlt ***<bold_off>\"',\n",
       " '\\n/*Frage*/\\nOther_loads = \\n\\t\"SoLa\"  \"<bold_on>66 -<bold_off> <bold_on>*** Fehlt ***<bold_off>\"',\n",
       " '\\n/*Frage*/\\nbl = \\n\\t\"F\"  \"<bold_on>67 -<bold_off> <bold_on>*** Fehlt ***<bold_off>\",\\n\\t\"a\"  \"<bold_on>68 -<bold_off> <bold_on>*** Fehlt ***<bold_off>\",\\n\\t\"s\"  \"<bold_on>69 -<bold_off> <bold_on>*** Fehlt ***<bold_off>\",\\n\\t\"g\"  \"<bold_on>70 -<bold_off> <bold_on>*** Fehlt ***<bold_off>\"',\n",
       " '\\n/*Frage*/\\ntr = \\n\\t\"F\"  \"<bold_on>71 -<bold_off> <bold_on>*** Fehlt ***<bold_off>\",\\n\\t\"a\"  \"<bold_on>72 -<bold_off> <bold_on>*** Fehlt ***<bold_off>\",\\n\\t\"s\"  \"<bold_on>73 -<bold_off> <bold_on>*** Fehlt ***<bold_off>\",\\n\\t\"gl\"  \"<bold_on>74 -<bold_off> <bold_on>*** Fehlt ***<bold_off>\",\\n\\t\"gr\"  \"<bold_on>75 -<bold_off> <bold_on>*** Fehlt ***<bold_off>\"',\n",
       " '\\n/*Frage*/\\nde = \\n\\t\"F\"  \"<bold_on>76 -<bold_off> <bold_on>*** Fehlt ***<bold_off>\",\\n\\t\"sl\"  \"<bold_on>77 -<bold_off> <bold_on>*** Fehlt ***<bold_off>\",\\n\\t\"sr\"  \"<bold_on>78 -<bold_off> <bold_on>*** Fehlt ***<bold_off>\",\\n\\t\"gl\"  \"<bold_on>79 -<bold_off> <bold_on>*** Fehlt ***<bold_off>\",\\n\\t\"gr\"  \"<bold_on>80 -<bold_off> <bold_on>*** Fehlt ***<bold_off>\"',\n",
       " '\\n/*Frage*/\\nbd = \\n\\t\"F\"  \"<bold_on>81 -<bold_off> <bold_on>*** Fehlt ***<bold_off>\",\\n\\t\"a\"  \"<bold_on>82 -<bold_off> <bold_on>*** Fehlt ***<bold_off>\",\\n\\t\"sl\"  \"<bold_on>83 -<bold_off> <bold_on>*** Fehlt ***<bold_off>\",\\n\\t\"s\"  \"<bold_on>84 -<bold_off> <bold_on>*** Fehlt ***<bold_off>\",\\n\\t\"sr\"  \"<bold_on>85 -<bold_off> <bold_on>*** Fehlt ***<bold_off>\",\\n\\t\"gl\"  \"<bold_on>86 -<bold_off> <bold_on>*** Fehlt ***<bold_off>\",\\n\\t\"gr\"  \"<bold_on>87 -<bold_off> <bold_on>*** Fehlt ***<bold_off>\"',\n",
       " '\\n/*Frage*/\\nbt = \\n\\t\"F\"  \"<bold_on>88 -<bold_off> <bold_on>*** Fehlt ***<bold_off>\",\\n\\t\"a\"  \"<bold_on>89 -<bold_off> <bold_on>*** Fehlt ***<bold_off>\",\\n\\t\"sl\"  \"<bold_on>90 -<bold_off> <bold_on>*** Fehlt ***<bold_off>\",\\n\\t\"s\"  \"<bold_on>91 -<bold_off> <bold_on>*** Fehlt ***<bold_off>\",\\n\\t\"sr\"  \"<bold_on>92 -<bold_off> <bold_on>*** Fehlt ***<bold_off>\",\\n\\t\"q1\"  \"<bold_on>93 -<bold_off> <bold_on>*** Fehlt ***<bold_off>\",\\n\\t\"q2\"  \"<bold_on>94 -<bold_off> <bold_on>*** Fehlt ***<bold_off>\",\\n\\t\"q3\"  \"<bold_on>95 -<bold_off> <bold_on>*** Fehlt ***<bold_off>\",\\n\\t\"q4\"  \"<bold_on>96 -<bold_off> <bold_on>*** Fehlt ***<bold_off>\"',\n",
       " '\\n/*Frage*/\\nei = \\n\\t\"F\"  \"<bold_on>97 -<bold_off> <bold_on>*** Fehlt ***<bold_off>\",\\n\\t\"a\"  \"<bold_on>98 -<bold_off> <bold_on>*** Fehlt ***<bold_off>\",\\n\\t\"G\"  \"<bold_on>99 -<bold_off> <bold_on>*** Fehlt ***<bold_off>\"',\n",
       " '\\n/*Frage*/\\nmo = \\n\\t\"F\"  \"<bold_on>100 -<bold_off> <bold_on>*** Fehlt ***<bold_off>\",\\n\\t\"a\"  \"<bold_on>101 -<bold_off> <bold_on>*** Fehlt ***<bold_off>\",\\n\\t\"M\"  \"<bold_on>102 -<bold_off> <bold_on>*** Fehlt ***<bold_off>\"',\n",
       " '\\n/*Frage*/\\nte = \\n\\t\"F\"  \"<bold_on>103 -<bold_off> <bold_on>*** Fehlt ***<bold_off>\",\\n\\t\"aT\"  \"<bold_on>104 -<bold_off> <bold_on>*** Fehlt ***<bold_off>\",\\n\\t\"dT\"  \"<bold_on>105 -<bold_off> <bold_on>*** Fehlt ***<bold_off>\",\\n\\t\"h\"  \"<bold_on>106 -<bold_off> <bold_on>*** Fehlt ***<bold_off>\"',\n",
       " '\\n/*Frage*/\\nver = \\n\\t\"A\"  \"<bold_on>107 -<bold_off> <bold_on>*** Fehlt ***<bold_off>\",\\n\\t\"vg\"  \"<bold_on>108 -<bold_off> <bold_on>*** Fehlt ***<bold_off>\",\\n\\t\"fg\"  \"<bold_on>109 -<bold_off> <bold_on>*** Fehlt ***<bold_off>\"',\n",
       " '\\n/*Frage*/\\nTypRSU = \\n\\t\"TypRSU\"  \"<bold_on>110 -<bold_off> <bold_on>*** Fehlt ***<bold_off>\"',\n",
       " '\\n/*Frage*/\\nGamRSU = \\n\\t\"GamRSU\"  \"<bold_on>111 -<bold_off> <bold_on>*** Fehlt ***<bold_off>\"',\n",
       " '\\n/*Frage*/\\nAcrc = \\n\\t\"acrc\"  \"<bold_on>112 -<bold_off> <bold_on>*** Fehlt ***<bold_off>\"',\n",
       " '\\n/*Frage*/\\nSteelStress = \\n\\t\"steelcheck\"  \"<bold_on>113 -<bold_off> <bold_on>*** Fehlt ***<bold_off>\"',\n",
       " '\\n/*Frage*/\\nUm = \\n\\t\"U#\"  \"<bold_on>114 -<bold_off> <bold_on>*** Fehlt ***<bold_off>\"',\n",
       " '\\n/*Frage*/\\nBw = \\n\\t\"Bw\"  \"<bold_on>115 -<bold_off> <bold_on>*** Fehlt ***<bold_off>\"',\n",
       " '\\n/*Frage*/\\nAch = \\n\\t\"vF\"  \"<bold_on>116 -<bold_off> <bold_on>*** Fehlt ***<bold_off>\",\\n\\t\"bF\"  \"<bold_on>117 -<bold_off> <bold_on>*** Fehlt ***<bold_off>\",\\n\\t\"ho\"  \"<bold_on>118 -<bold_off> <bold_on>*** Fehlt ***<bold_off>\",\\n\\t\"hu\"  \"<bold_on>119 -<bold_off> <bold_on>*** Fehlt ***<bold_off>\"',\n",
       " '\\n/*Frage*/\\nBDeck = \\n\\t\"cminu\"  \"<bold_on>120 -<bold_off> <bold_on>*** Fehlt ***<bold_off>\",\\n\\t\"cmino\"  \"<bold_on>121 -<bold_off> <bold_on>*** Fehlt ***<bold_off>\",\\n\\t\"cminb\"  \"<bold_on>122 -<bold_off> <bold_on>*** Fehlt ***<bold_off>\"',\n",
       " '\\n/*Frage*/\\ndc = \\n\\t\"dc\"  \"<bold_on>123 -<bold_off> <bold_on>*** Fehlt ***<bold_off>\"',\n",
       " '\\n/*Frage*/\\nDm = \\n\\t\"d#\"  \"<bold_on>124 -<bold_off> <bold_on>*** Fehlt ***<bold_off>\"',\n",
       " '\\n/*Frage*/\\nBwg = \\n\\t\"nu\"  \"<bold_on>125 -<bold_off> <bold_on>*** Fehlt ***<bold_off>\",\\n\\t\"du\"  \"<bold_on>126 -<bold_off> <bold_on>*** Fehlt ***<bold_off>\",\\n\\t\"no\"  \"<bold_on>127 -<bold_off> <bold_on>*** Fehlt ***<bold_off>\",\\n\\t\"do\"  \"<bold_on>128 -<bold_off> <bold_on>*** Fehlt ***<bold_off>\"',\n",
       " '\\n/*Frage*/\\nBwu = \\n\\t\"n+\"  \"<bold_on>129 -<bold_off> <bold_on>*** Fehlt ***<bold_off>\",\\n\\t\"a-\"  \"<bold_on>130 -<bold_off> <bold_on>*** Fehlt ***<bold_off>\",\\n\\t\"d-\"  \"<bold_on>131 -<bold_off> <bold_on>*** Fehlt ***<bold_off>\",\\n\\t\"d+\"  \"<bold_on>132 -<bold_off> <bold_on>*** Fehlt ***<bold_off>\"',\n",
       " '\\n/*Frage*/\\nBwo = \\n\\t\"n+\"  \"<bold_on>133 -<bold_off> <bold_on>*** Fehlt ***<bold_off>\",\\n\\t\"a-\"  \"<bold_on>134 -<bold_off> <bold_on>*** Fehlt ***<bold_off>\",\\n\\t\"d-\"  \"<bold_on>135 -<bold_off> <bold_on>*** Fehlt ***<bold_off>\",\\n\\t\"d+\"  \"<bold_on>136 -<bold_off> <bold_on>*** Fehlt ***<bold_off>\"',\n",
       " '\\n/*Frage*/\\nBwb = \\n\\t\"a-\"  \"<bold_on>137 -<bold_off> <bold_on>*** Fehlt ***<bold_off>\",\\n\\t\"a+\"  \"<bold_on>138 -<bold_off> <bold_on>*** Fehlt ***<bold_off>\",\\n\\t\"d\"  \"<bold_on>139 -<bold_off> <bold_on>*** Fehlt ***<bold_off>\",\\n\\t\"aS\"  \"<bold_on>140 -<bold_off> <bold_on>*** Fehlt ***<bold_off>\",\\n\\t\"N\"  \"<bold_on>141 -<bold_off> <bold_on>*** Fehlt ***<bold_off>\"',\n",
       " '\\n/*Frage*/\\nBwf = \\n\\t\"a-\"  \"<bold_on>142 -<bold_off> <bold_on>*** Fehlt ***<bold_off>\",\\n\\t\"a+\"  \"<bold_on>143 -<bold_off> <bold_on>*** Fehlt ***<bold_off>\",\\n\\t\"d\"  \"<bold_on>144 -<bold_off> <bold_on>*** Fehlt ***<bold_off>\",\\n\\t\"aS\"  \"<bold_on>145 -<bold_off> <bold_on>*** Fehlt ***<bold_off>\",\\n\\t\"N\"  \"<bold_on>146 -<bold_off> <bold_on>*** Fehlt ***<bold_off>\"',\n",
       " '\\n/*Frage*/\\nS = \\n\\t\"S\"  \"<bold_on>147 -<bold_off> <bold_on>*** Fehlt ***<bold_off>\"',\n",
       " '\\n/*Frage*/\\nntel = \\n\\t\"vF\"  \"<bold_on>148 -<bold_off> <bold_on>*** Fehlt ***<bold_off>\",\\n\\t\"bF\"  \"<bold_on>149 -<bold_off> <bold_on>*** Fehlt ***<bold_off>\",\\n\\t\"n\"  \"<bold_on>150 -<bold_off> <bold_on>*** Fehlt ***<bold_off>\"',\n",
       " '\\n/*Frage*/\\nzntel = \\n\\t\"Feld\"  \"<bold_on>151 -<bold_off> <bold_on>*** Fehlt ***<bold_off>\",\\n\\t\"a\"  \"<bold_on>152 -<bold_off> <bold_on>*** Fehlt ***<bold_off>\"',\n",
       " '\\n/*Frage*/\\nausg = \\n\\t\"Text\"  \"<bold_on>153 -<bold_off> <bold_on>*** Fehlt ***<bold_off>\",\\n\\t\"Graf\"  \"<bold_on>154 -<bold_off> <bold_on>*** Fehlt ***<bold_off>\"',\n",
       " '\\n/*Frage*/\\nStressout = \\n\\t\"stressout\"  \"<bold_on>155 -<bold_off> <bold_on>*** Fehlt ***<bold_off>\"',\n",
       " '\\n']"
      ]
     },
     "execution_count": 3,
     "metadata": {},
     "output_type": "execute_result"
    }
   ],
   "source": [
    "#data1=data.split(sep=\"/*Frage*/\")\n",
    "data1=data.split(sep=\";\\n\")\n",
    "data1"
   ]
  },
  {
   "cell_type": "code",
   "execution_count": 4,
   "metadata": {},
   "outputs": [
    {
     "data": {
      "text/plain": [
       "62"
      ]
     },
     "execution_count": 4,
     "metadata": {},
     "output_type": "execute_result"
    }
   ],
   "source": [
    "inds = []\n",
    "for i in range(len(data1)):\n",
    "    if (\"HELP\" in data1[i] and \".\"  in data1[i] ):\n",
    "        inds.append(i)\n",
    "        \n",
    "drop = max(inds)\n",
    "drop"
   ]
  },
  {
   "cell_type": "code",
   "execution_count": 5,
   "metadata": {},
   "outputs": [
    {
     "data": {
      "text/plain": [
       "['\\n/*Frage*/\\nlk = \\n\\t\"lkl\"  \"<bold_on>16 -<bold_off> <bold_on>*** Fehlt ***<bold_off>\",\\n\\t\"lkr\"  \"<bold_on>17 -<bold_off> <bold_on>*** Fehlt ***<bold_off>\"',\n",
       " '\\n/*Frage*/\\nmg = \\n\\t\"F\"  \"<bold_on>18 -<bold_off> <bold_on>*** Fehlt ***<bold_off>\",\\n\\t\"a\"  \"<bold_on>19 -<bold_off> <bold_on>*** Fehlt ***<bold_off>\"',\n",
       " '\\n/*Frage*/\\nQuer = \\n\\t\"vF\"  \"<bold_on>20 -<bold_off> <bold_on>*** Fehlt ***<bold_off>\",\\n\\t\"bF\"  \"<bold_on>21 -<bold_off> <bold_on>*** Fehlt ***<bold_off>\",\\n\\t\"b\"  \"<bold_on>22 -<bold_off> <bold_on>*** Fehlt ***<bold_off>\",\\n\\t\"h\"  \"<bold_on>23 -<bold_off> <bold_on>*** Fehlt ***<bold_off>\"',\n",
       " '\\n/*Frage*/\\nIsPlate = \\n\\t\"Plb\"  \"<bold_on>24 -<bold_off> <bold_on>*** Fehlt ***<bold_off>\"',\n",
       " '\\n/*Frage*/\\nPblk = \\n\\t\"vF\"  \"<bold_on>25 -<bold_off> <bold_on>*** Fehlt ***<bold_off>\",\\n\\t\"bF\"  \"<bold_on>26 -<bold_off> <bold_on>*** Fehlt ***<bold_off>\",\\n\\t\"b1\"  \"<bold_on>27 -<bold_off> <bold_on>*** Fehlt ***<bold_off>\",\\n\\t\"b2\"  \"<bold_on>28 -<bold_off> <bold_on>*** Fehlt ***<bold_off>\",\\n\\t\"hf\"  \"<bold_on>29 -<bold_off> <bold_on>*** Fehlt ***<bold_off>\"',\n",
       " '\\n/*Frage*/\\nVout = \\n\\t\"Vout\"  \"<bold_on>30 -<bold_off> <bold_on>*** Fehlt ***<bold_off>\"',\n",
       " '\\n/*Frage*/\\nVt = \\n\\t\"vF\"  \"<bold_on>31 -<bold_off> <bold_on>*** Fehlt ***<bold_off>\",\\n\\t\"bF\"  \"<bold_on>32 -<bold_off> <bold_on>*** Fehlt ***<bold_off>\"',\n",
       " '\\n/*Frage*/\\nVtl = \\n\\t\"al\"  \"<bold_on>33 -<bold_off> <bold_on>*** Fehlt ***<bold_off>\",\\n\\t\"bl\"  \"<bold_on>34 -<bold_off> <bold_on>*** Fehlt ***<bold_off>\",\\n\\t\"hl\"  \"<bold_on>35 -<bold_off> <bold_on>*** Fehlt ***<bold_off>\",\\n\\t\"b1\"  \"<bold_on>36 -<bold_off> <bold_on>*** Fehlt ***<bold_off>\",\\n\\t\"h1\"  \"<bold_on>37 -<bold_off> <bold_on>*** Fehlt ***<bold_off>\"',\n",
       " '\\n/*Frage*/\\nVtr = \\n\\t\"ar\"  \"<bold_on>38 -<bold_off> <bold_on>*** Fehlt ***<bold_off>\",\\n\\t\"br\"  \"<bold_on>39 -<bold_off> <bold_on>*** Fehlt ***<bold_off>\",\\n\\t\"hr\"  \"<bold_on>40 -<bold_off> <bold_on>*** Fehlt ***<bold_off>\",\\n\\t\"b2\"  \"<bold_on>41 -<bold_off> <bold_on>*** Fehlt ***<bold_off>\",\\n\\t\"h2\"  \"<bold_on>42 -<bold_off> <bold_on>*** Fehlt ***<bold_off>\"',\n",
       " '\\n/*Frage*/\\nt = \\n\\t\"t#\"  \"<bold_on>43 -<bold_off> <bold_on>*** Fehlt ***<bold_off>\"',\n",
       " '\\n/*Frage*/\\nEe = \\n\\t\"El\"  \"<bold_on>44 -<bold_off> <bold_on>*** Fehlt ***<bold_off>\",\\n\\t\"Er\"  \"<bold_on>45 -<bold_off> <bold_on>*** Fehlt ***<bold_off>\"',\n",
       " '\\n/*Frage*/\\nColumn = \\n\\t\"Stab\"  \"<bold_on>46 -<bold_off> <bold_on>*** Fehlt ***<bold_off>\"',\n",
       " '\\n/*Frage*/\\nAs = \\n\\t\"C#\"  \"<bold_on>47 -<bold_off> <bold_on>*** Fehlt ***<bold_off>\"',\n",
       " '\\n/*Frage*/\\nSo = \\n\\t\"A\"  \"<bold_on>48 -<bold_off> <bold_on>*** Fehlt ***<bold_off>\",\\n\\t\"l\"  \"<bold_on>49 -<bold_off> <bold_on>*** Fehlt ***<bold_off>\",\\n\\t\"Eo\"  \"<bold_on>50 -<bold_off> <bold_on>*** Fehlt ***<bold_off>\",\\n\\t\"I\"  \"<bold_on>51 -<bold_off> <bold_on>*** Fehlt ***<bold_off>\",\\n\\t\"h\"  \"<bold_on>52 -<bold_off> <bold_on>*** Fehlt ***<bold_off>\"',\n",
       " '\\n/*Frage*/\\nSu = \\n\\t\"A\"  \"<bold_on>53 -<bold_off> <bold_on>*** Fehlt ***<bold_off>\",\\n\\t\"l\"  \"<bold_on>54 -<bold_off> <bold_on>*** Fehlt ***<bold_off>\",\\n\\t\"Eu\"  \"<bold_on>55 -<bold_off> <bold_on>*** Fehlt ***<bold_off>\",\\n\\t\"I\"  \"<bold_on>56 -<bold_off> <bold_on>*** Fehlt ***<bold_off>\",\\n\\t\"h\"  \"<bold_on>57 -<bold_off> <bold_on>*** Fehlt ***<bold_off>\"',\n",
       " '\\n/*Frage*/\\nDeflag = \\n\\t\"Deflag\"  \"<bold_on>58 -<bold_off> <bold_on>*** Fehlt ***<bold_off>\"',\n",
       " '\\n/*Frage*/\\nHumidity = \\n\\t\"RH\"  \"<bold_on>59 -<bold_off> <bold_on>*** Fehlt ***<bold_off>\"',\n",
       " '\\n/*Frage*/\\nTimet0 = \\n\\t\"t0\"  \"<bold_on>60 -<bold_off> <bold_on>*** Fehlt ***<bold_off>\"',\n",
       " '\\n/*Frage*/\\nCMark = \\n\\t\"CMark\"  \"<bold_on>61 -<bold_off> <bold_on>*** Fehlt ***<bold_off>\"',\n",
       " '\\n/*Frage*/\\nEwt = \\n\\t\"Ewt\"  \"<bold_on>62 -<bold_off> <bold_on>*** Fehlt ***<bold_off>\"',\n",
       " '\\n/*Frage*/\\ng = \\n\\t\"g#\"  \"<bold_on>63 -<bold_off> <bold_on>*** Fehlt ***<bold_off>\"',\n",
       " '\\n/*Frage*/\\ngk1 = \\n\\t\"gkl\"  \"<bold_on>64 -<bold_off> <bold_on>*** Fehlt ***<bold_off>\",\\n\\t\"gkr\"  \"<bold_on>65 -<bold_off> <bold_on>*** Fehlt ***<bold_off>\"',\n",
       " '\\n/*Frage*/\\nOther_loads = \\n\\t\"SoLa\"  \"<bold_on>66 -<bold_off> <bold_on>*** Fehlt ***<bold_off>\"',\n",
       " '\\n/*Frage*/\\nbl = \\n\\t\"F\"  \"<bold_on>67 -<bold_off> <bold_on>*** Fehlt ***<bold_off>\",\\n\\t\"a\"  \"<bold_on>68 -<bold_off> <bold_on>*** Fehlt ***<bold_off>\",\\n\\t\"s\"  \"<bold_on>69 -<bold_off> <bold_on>*** Fehlt ***<bold_off>\",\\n\\t\"g\"  \"<bold_on>70 -<bold_off> <bold_on>*** Fehlt ***<bold_off>\"',\n",
       " '\\n/*Frage*/\\ntr = \\n\\t\"F\"  \"<bold_on>71 -<bold_off> <bold_on>*** Fehlt ***<bold_off>\",\\n\\t\"a\"  \"<bold_on>72 -<bold_off> <bold_on>*** Fehlt ***<bold_off>\",\\n\\t\"s\"  \"<bold_on>73 -<bold_off> <bold_on>*** Fehlt ***<bold_off>\",\\n\\t\"gl\"  \"<bold_on>74 -<bold_off> <bold_on>*** Fehlt ***<bold_off>\",\\n\\t\"gr\"  \"<bold_on>75 -<bold_off> <bold_on>*** Fehlt ***<bold_off>\"',\n",
       " '\\n/*Frage*/\\nde = \\n\\t\"F\"  \"<bold_on>76 -<bold_off> <bold_on>*** Fehlt ***<bold_off>\",\\n\\t\"sl\"  \"<bold_on>77 -<bold_off> <bold_on>*** Fehlt ***<bold_off>\",\\n\\t\"sr\"  \"<bold_on>78 -<bold_off> <bold_on>*** Fehlt ***<bold_off>\",\\n\\t\"gl\"  \"<bold_on>79 -<bold_off> <bold_on>*** Fehlt ***<bold_off>\",\\n\\t\"gr\"  \"<bold_on>80 -<bold_off> <bold_on>*** Fehlt ***<bold_off>\"',\n",
       " '\\n/*Frage*/\\nbd = \\n\\t\"F\"  \"<bold_on>81 -<bold_off> <bold_on>*** Fehlt ***<bold_off>\",\\n\\t\"a\"  \"<bold_on>82 -<bold_off> <bold_on>*** Fehlt ***<bold_off>\",\\n\\t\"sl\"  \"<bold_on>83 -<bold_off> <bold_on>*** Fehlt ***<bold_off>\",\\n\\t\"s\"  \"<bold_on>84 -<bold_off> <bold_on>*** Fehlt ***<bold_off>\",\\n\\t\"sr\"  \"<bold_on>85 -<bold_off> <bold_on>*** Fehlt ***<bold_off>\",\\n\\t\"gl\"  \"<bold_on>86 -<bold_off> <bold_on>*** Fehlt ***<bold_off>\",\\n\\t\"gr\"  \"<bold_on>87 -<bold_off> <bold_on>*** Fehlt ***<bold_off>\"',\n",
       " '\\n/*Frage*/\\nbt = \\n\\t\"F\"  \"<bold_on>88 -<bold_off> <bold_on>*** Fehlt ***<bold_off>\",\\n\\t\"a\"  \"<bold_on>89 -<bold_off> <bold_on>*** Fehlt ***<bold_off>\",\\n\\t\"sl\"  \"<bold_on>90 -<bold_off> <bold_on>*** Fehlt ***<bold_off>\",\\n\\t\"s\"  \"<bold_on>91 -<bold_off> <bold_on>*** Fehlt ***<bold_off>\",\\n\\t\"sr\"  \"<bold_on>92 -<bold_off> <bold_on>*** Fehlt ***<bold_off>\",\\n\\t\"q1\"  \"<bold_on>93 -<bold_off> <bold_on>*** Fehlt ***<bold_off>\",\\n\\t\"q2\"  \"<bold_on>94 -<bold_off> <bold_on>*** Fehlt ***<bold_off>\",\\n\\t\"q3\"  \"<bold_on>95 -<bold_off> <bold_on>*** Fehlt ***<bold_off>\",\\n\\t\"q4\"  \"<bold_on>96 -<bold_off> <bold_on>*** Fehlt ***<bold_off>\"',\n",
       " '\\n/*Frage*/\\nei = \\n\\t\"F\"  \"<bold_on>97 -<bold_off> <bold_on>*** Fehlt ***<bold_off>\",\\n\\t\"a\"  \"<bold_on>98 -<bold_off> <bold_on>*** Fehlt ***<bold_off>\",\\n\\t\"G\"  \"<bold_on>99 -<bold_off> <bold_on>*** Fehlt ***<bold_off>\"',\n",
       " '\\n/*Frage*/\\nmo = \\n\\t\"F\"  \"<bold_on>100 -<bold_off> <bold_on>*** Fehlt ***<bold_off>\",\\n\\t\"a\"  \"<bold_on>101 -<bold_off> <bold_on>*** Fehlt ***<bold_off>\",\\n\\t\"M\"  \"<bold_on>102 -<bold_off> <bold_on>*** Fehlt ***<bold_off>\"',\n",
       " '\\n/*Frage*/\\nte = \\n\\t\"F\"  \"<bold_on>103 -<bold_off> <bold_on>*** Fehlt ***<bold_off>\",\\n\\t\"aT\"  \"<bold_on>104 -<bold_off> <bold_on>*** Fehlt ***<bold_off>\",\\n\\t\"dT\"  \"<bold_on>105 -<bold_off> <bold_on>*** Fehlt ***<bold_off>\",\\n\\t\"h\"  \"<bold_on>106 -<bold_off> <bold_on>*** Fehlt ***<bold_off>\"',\n",
       " '\\n/*Frage*/\\nver = \\n\\t\"A\"  \"<bold_on>107 -<bold_off> <bold_on>*** Fehlt ***<bold_off>\",\\n\\t\"vg\"  \"<bold_on>108 -<bold_off> <bold_on>*** Fehlt ***<bold_off>\",\\n\\t\"fg\"  \"<bold_on>109 -<bold_off> <bold_on>*** Fehlt ***<bold_off>\"',\n",
       " '\\n/*Frage*/\\nTypRSU = \\n\\t\"TypRSU\"  \"<bold_on>110 -<bold_off> <bold_on>*** Fehlt ***<bold_off>\"',\n",
       " '\\n/*Frage*/\\nGamRSU = \\n\\t\"GamRSU\"  \"<bold_on>111 -<bold_off> <bold_on>*** Fehlt ***<bold_off>\"',\n",
       " '\\n/*Frage*/\\nAcrc = \\n\\t\"acrc\"  \"<bold_on>112 -<bold_off> <bold_on>*** Fehlt ***<bold_off>\"',\n",
       " '\\n/*Frage*/\\nSteelStress = \\n\\t\"steelcheck\"  \"<bold_on>113 -<bold_off> <bold_on>*** Fehlt ***<bold_off>\"',\n",
       " '\\n/*Frage*/\\nUm = \\n\\t\"U#\"  \"<bold_on>114 -<bold_off> <bold_on>*** Fehlt ***<bold_off>\"',\n",
       " '\\n/*Frage*/\\nBw = \\n\\t\"Bw\"  \"<bold_on>115 -<bold_off> <bold_on>*** Fehlt ***<bold_off>\"',\n",
       " '\\n/*Frage*/\\nAch = \\n\\t\"vF\"  \"<bold_on>116 -<bold_off> <bold_on>*** Fehlt ***<bold_off>\",\\n\\t\"bF\"  \"<bold_on>117 -<bold_off> <bold_on>*** Fehlt ***<bold_off>\",\\n\\t\"ho\"  \"<bold_on>118 -<bold_off> <bold_on>*** Fehlt ***<bold_off>\",\\n\\t\"hu\"  \"<bold_on>119 -<bold_off> <bold_on>*** Fehlt ***<bold_off>\"',\n",
       " '\\n/*Frage*/\\nBDeck = \\n\\t\"cminu\"  \"<bold_on>120 -<bold_off> <bold_on>*** Fehlt ***<bold_off>\",\\n\\t\"cmino\"  \"<bold_on>121 -<bold_off> <bold_on>*** Fehlt ***<bold_off>\",\\n\\t\"cminb\"  \"<bold_on>122 -<bold_off> <bold_on>*** Fehlt ***<bold_off>\"',\n",
       " '\\n/*Frage*/\\ndc = \\n\\t\"dc\"  \"<bold_on>123 -<bold_off> <bold_on>*** Fehlt ***<bold_off>\"',\n",
       " '\\n/*Frage*/\\nDm = \\n\\t\"d#\"  \"<bold_on>124 -<bold_off> <bold_on>*** Fehlt ***<bold_off>\"',\n",
       " '\\n/*Frage*/\\nBwg = \\n\\t\"nu\"  \"<bold_on>125 -<bold_off> <bold_on>*** Fehlt ***<bold_off>\",\\n\\t\"du\"  \"<bold_on>126 -<bold_off> <bold_on>*** Fehlt ***<bold_off>\",\\n\\t\"no\"  \"<bold_on>127 -<bold_off> <bold_on>*** Fehlt ***<bold_off>\",\\n\\t\"do\"  \"<bold_on>128 -<bold_off> <bold_on>*** Fehlt ***<bold_off>\"',\n",
       " '\\n/*Frage*/\\nBwu = \\n\\t\"n+\"  \"<bold_on>129 -<bold_off> <bold_on>*** Fehlt ***<bold_off>\",\\n\\t\"a-\"  \"<bold_on>130 -<bold_off> <bold_on>*** Fehlt ***<bold_off>\",\\n\\t\"d-\"  \"<bold_on>131 -<bold_off> <bold_on>*** Fehlt ***<bold_off>\",\\n\\t\"d+\"  \"<bold_on>132 -<bold_off> <bold_on>*** Fehlt ***<bold_off>\"',\n",
       " '\\n/*Frage*/\\nBwo = \\n\\t\"n+\"  \"<bold_on>133 -<bold_off> <bold_on>*** Fehlt ***<bold_off>\",\\n\\t\"a-\"  \"<bold_on>134 -<bold_off> <bold_on>*** Fehlt ***<bold_off>\",\\n\\t\"d-\"  \"<bold_on>135 -<bold_off> <bold_on>*** Fehlt ***<bold_off>\",\\n\\t\"d+\"  \"<bold_on>136 -<bold_off> <bold_on>*** Fehlt ***<bold_off>\"',\n",
       " '\\n/*Frage*/\\nBwb = \\n\\t\"a-\"  \"<bold_on>137 -<bold_off> <bold_on>*** Fehlt ***<bold_off>\",\\n\\t\"a+\"  \"<bold_on>138 -<bold_off> <bold_on>*** Fehlt ***<bold_off>\",\\n\\t\"d\"  \"<bold_on>139 -<bold_off> <bold_on>*** Fehlt ***<bold_off>\",\\n\\t\"aS\"  \"<bold_on>140 -<bold_off> <bold_on>*** Fehlt ***<bold_off>\",\\n\\t\"N\"  \"<bold_on>141 -<bold_off> <bold_on>*** Fehlt ***<bold_off>\"',\n",
       " '\\n/*Frage*/\\nBwf = \\n\\t\"a-\"  \"<bold_on>142 -<bold_off> <bold_on>*** Fehlt ***<bold_off>\",\\n\\t\"a+\"  \"<bold_on>143 -<bold_off> <bold_on>*** Fehlt ***<bold_off>\",\\n\\t\"d\"  \"<bold_on>144 -<bold_off> <bold_on>*** Fehlt ***<bold_off>\",\\n\\t\"aS\"  \"<bold_on>145 -<bold_off> <bold_on>*** Fehlt ***<bold_off>\",\\n\\t\"N\"  \"<bold_on>146 -<bold_off> <bold_on>*** Fehlt ***<bold_off>\"',\n",
       " '\\n/*Frage*/\\nS = \\n\\t\"S\"  \"<bold_on>147 -<bold_off> <bold_on>*** Fehlt ***<bold_off>\"',\n",
       " '\\n/*Frage*/\\nntel = \\n\\t\"vF\"  \"<bold_on>148 -<bold_off> <bold_on>*** Fehlt ***<bold_off>\",\\n\\t\"bF\"  \"<bold_on>149 -<bold_off> <bold_on>*** Fehlt ***<bold_off>\",\\n\\t\"n\"  \"<bold_on>150 -<bold_off> <bold_on>*** Fehlt ***<bold_off>\"',\n",
       " '\\n/*Frage*/\\nzntel = \\n\\t\"Feld\"  \"<bold_on>151 -<bold_off> <bold_on>*** Fehlt ***<bold_off>\",\\n\\t\"a\"  \"<bold_on>152 -<bold_off> <bold_on>*** Fehlt ***<bold_off>\"',\n",
       " '\\n/*Frage*/\\nausg = \\n\\t\"Text\"  \"<bold_on>153 -<bold_off> <bold_on>*** Fehlt ***<bold_off>\",\\n\\t\"Graf\"  \"<bold_on>154 -<bold_off> <bold_on>*** Fehlt ***<bold_off>\"',\n",
       " '\\n/*Frage*/\\nStressout = \\n\\t\"stressout\"  \"<bold_on>155 -<bold_off> <bold_on>*** Fehlt ***<bold_off>\"']"
      ]
     },
     "execution_count": 5,
     "metadata": {},
     "output_type": "execute_result"
    }
   ],
   "source": [
    "beforehelp = data1[:drop+1]\n",
    "afterhelp=data1[drop+1:-1]\n",
    "afterhelp"
   ]
  },
  {
   "cell_type": "code",
   "execution_count": 6,
   "metadata": {},
   "outputs": [
    {
     "data": {
      "text/plain": [
       "'\\t\\t\\t\\n\\t\\t\\t\\nHELP (\"QT304.cat\")\\n\\n/*Frage*/\\nl = \\n\\t\"l#\"  \"<bold_on>15 -<bold_off> <bold_on>*** Fehlt ***<bold_off>\"'"
      ]
     },
     "execution_count": 6,
     "metadata": {},
     "output_type": "execute_result"
    }
   ],
   "source": [
    "data1[62]"
   ]
  },
  {
   "cell_type": "code",
   "execution_count": 7,
   "metadata": {},
   "outputs": [],
   "source": [
    "text_file = open(\"test304.txt\", \"w\")\n",
    "n = text_file.write(\";\\n\".join(data1))\n",
    "text_file.close()"
   ]
  },
  {
   "cell_type": "code",
   "execution_count": 8,
   "metadata": {},
   "outputs": [],
   "source": [
    "for string in afterhelp:\n",
    "    lst=string.split(\"\\n\")\n",
    "    "
   ]
  },
  {
   "cell_type": "code",
   "execution_count": 9,
   "metadata": {},
   "outputs": [
    {
     "data": {
      "text/plain": [
       "'Расчётная схема\\n\\n[HELP l]Длины пролётов\\n\\nl1..ln\\t[м]\\tдлины пролётов\\n\\nМожно вводить до 10 пролётов. Пролётам присваиваются номера от 1 до n, соответственно опорам номера от 1 до n+1.\\nЕсли пролёты имеют одинаковую длину, то достаточно в первое поле ввода ввести строку n*l, где n – число пролётов, а l – длина.\\n\\n[HELP lk]Длины консолей \\n\\nслева\\t[м]\\tдлина левой консоли\\nсправа\\t[м]\\tдлина правой консоли\\n\\n[HELP mg]Шарниры\\n\\nпролёт\\t[-]\\tномер пролёта\\na\\t[м]\\tрасстояние до шарнира от середины левой опоры заданного пролёта\\n\\n[HELP Quer]Ширина и высота сечения\\n\\nот пролёта\\t[-]\\tномер пролёта \\nдо пролёта\\t[-]\\tномер пролёта \\nb\\t[cм]\\tширина сечения балки\\nh\\t[см]\\tвысота сечения балки\\n\\nЛевой консоли соответствует номер пролёта 0. Правой консоли соответствует номер пролёта n+1, если введено n пролётов. Сечение в пролёте определяется в соответствии с последним ответом, где фигурирует  этот пролёт. Таким образом, можно задать одно сечение на все пролёты, а в последующих ответах изменить сечения конкретных пролётов. \\n\\nДля ввода вутов предусмотрен специальный вопрос. \\n\\n[HELP IsPlate]Имеются ли тавровые сечения ? \\n\\n\\t{Нет / Да}\\n\\n[HELP Pblk]Характеристики таврового сечения\\n\\nот пролёта\\t[-]\\tномер пролёта\\nдо пролёта\\t[-]\\tномер пролёта\\nbл\\t[см]\\tширина левого свеса полки\\nbп\\t[см]\\tширина правого свеса полки\\nhf\\t[см]\\tвысота полки\\n\\nЗаданные ширины свесов полки непосредственно вводятся в расчёт. Высота таврового сечения и ширина его ребра берётся из ответа на вопрос “Ширина и высота сечения”.\\n\\n\\n[HELP Vout]Имеются ли вуты?\\n\\n\\t{Нет / Да}\\n\\n[HELP Vt]Пролёты балки c одинаковыми вутами\\n\\nОт пролёта\\t[-]\\tномер пролёта\\nДо пролёта\\t[-]\\tномер пролёта\\n\\nЗадаваемые ниже размеры вутов будут относится ко всем указанным пролётам.\\n\\n[HELP Vtl]Вут слева\\n\\na\\t[м]\\tдлина вута (расстояние от края левой опоры пролёта, на котором сечение балки имеет переменные размеры)\\nbл\\t[см]\\tширина сечения балки у края опоры\\nhл\\t[см]\\tвысота сечения балки у края опоры\\nbп\\t[см]\\tширина сечения балки на заданном расстоянии a от края опоры\\nhп\\t[см]\\tвысота сечения балки на заданном расстоянии a от края опоры\\n\\nЕсли значения bп и (или) hп не задаются, то они принимаются равными ширине и высоте сечения в пролёте.\\nОтсутствие ответа на данный вопрос воспринимается как отсутствие соответствующего вута.\\n\\n[HELP Vtr]Вут справа\\n\\na\\t[м]\\tдлина вута (расстояние от края правой опоры пролёта, на котором сечение балки имеет переменные размеры)\\nbп\\t[см]\\tширина сечения балки у края опоры\\nhп\\t[см]\\tвысота сечения балки у края опоры\\nbл\\t[см]\\tширина сечения балки на заданном расстоянии a от края опоры\\nhл\\t[см]\\tвысота сечения балки на заданном расстоянии a от края опоры\\n\\nЕсли значения bл и (или) hл не задаются, то они принимаются равными ширине и высоте сечения в пролёте.\\nОтсутствие ответа на данный вопрос воспринимается как отсутствие соответствующего вута.\\n\\n\\n[HELP t]Ширины опор\\n\\nt1..tn\\t[см]\\tширины опор в направлении оси балки\\n\\nПоследнее введённое значение ширины будет относиться ко всем оставшимся опорам. Таким образом, если все опоры имеют одинаковую ширину, то в ответе на этот вопрос достаточно ввести одно значение.\\n\\n[HELP Ee]Защемление крайних опор\\n\\nслева\\t[%]\\nсправа\\t[%]\\n\\nНа основе этих данных определяются работающие на поворот пружины на концах балки. Жёсткость этих пружин вычисляется по формуле:\\n\\nc = 3 * E * I * k / (L * (100 - k) )\\t[кНм], где\\n\\tk \\t- степень защемления\\t[%]\\n\\tE \\t- модуль упругости\\t[кН/м2]\\n\\tI \\t- момент инерции сечения\\t[м4]\\n\\tL \\t- длина прилегающего пролёта\\t[м]\\n\\n[HELP Column]Имеются ли стойки?\\n\\n\\t{Нет / Да}\\n\\n[HELP So] [HELP Su]Стойка (сверху, снизу)\\n\\nопора\\t[-]\\tномер опоры\\nl\\t[м]\\tвысота стойки\\nk\\t[%]\\tстепень защемления на конце стойки\\nI или b\\t[см4]\\tмомент инерции сечения стойки\\nили\\nb\\t[см]\\tширина сечения стойки (в поперечном направлении)\\nh\\t[см]\\tвысота сечения стойки (в направлении оси балки)\\n\\n\\nЕсли параметр h не вводится, то считается что задан момент инерции сечения стойки (I).\\nЕсли параметр h задаётся, то считается, что заданы размеры сечения стойки (b, h) и момент инерции вычисляется в программе.\\n\\nВ заданной опоре принимается работающая на поворот пружина. Жёсткость этой пружины вычисляется по формуле:\\n\\nc = 12 * E * I / (h * (4 – 0.01 * k) )\\t\\t[кНм], где\\n\\tk \\t- степень защемления\\t\\t[%]\\n\\tE \\t- модуль упругости\\t\\t[кН/м2]\\n\\tI \\t- момент инерции сечения колонны\\t[м4]\\n\\th \\t- высота колонны\\t[м]\\n\\nЕсли высота стойки не задаётся или равна 0, то принимается, что пружина отсутствует.\\n\\n[HELP As]Жесткости опор\\n\\nС1..Сn\\t[кН/м]\\tжёсткости опор\\n\\nПоследнее введённое значение жёсткости будет относиться ко всем оставшимся опорам. Таким образом, если все опоры имеют одинаковую жёсткость, то в ответе на этот вопрос достаточно ввести одно значение.\\n\\nЭтот вопрос задаётся только если не задаются стойки.\\n\\n[HELP Deflag]Расчет прогибов\\n\\n0\\t= не нужен\\n1\\t= нужен\\nПри положительном ответе программа проводит расчет прогибов согласно п. 7.4.3 ТКП EN 1992-1-1-2009\\n[HELP Humidity]Относительная влажность возуха\\n\\nRH\\t[%]\\tотносительная влажность воздуха окружающей среды\\nИспользуется для учета ползучести бетона при расчете кривизны на участках без трещин.\\n\\n[HELP Timet0]Возраст бетона в начале нагружения\\n\\nt0\\t[сутки]\\tВозраст бетона в начале нагружения\\nИспользуется для учета ползучести бетона при расчете кривизны на участках без трещин.\\n\\n\\nНагружение \\n\\n\\n\\n[HELP Ewt]Учитывать собственный вес?\\n\\n\\t{Нет / Да}\\n\\nПри положительном ответе автоматически создается постоянная нагрузка, соответствующая весу балки с учетом вутов. \\n\\n\\n \\n [HELP Vern026,Vernp026]Дополнительные характеристики нагрузки\\n\\nЗнакопеременность\\t\\tНет\\t=\\tнагрузка учитывается в расчете только с положительным знаком\\n\\t\\t\\tДа \\t=\\tнагрузка учитывается в расчете и с положительным и с отрицательным знаком\\nРаспределение по пролётам\\tЕсли задаваемая нагрузка действует на несколько пролётов, то :\\n\\t\\t0\\t=\\tвыбираются неблагоприятные распределения нагрузки  по пролётам (попролётное комбинирование)\\n\\t\\t\\t1\\t=\\tпринимается заданное распределение нагрузки по пролётам\\nГруппа\\t\\t\\tПри помощи этого параметра нагрузки можно объединять в группы. Нагрузки, принадлежащие одной группе, не могут действовать одновременно, то есть они являются взаимоисключающими.\\n\\n[HELP Auss026,Aussp026]Знакопеременность\\n\\nЗнакопеременность\\tНет\\t=\\tнагрузка учитывается в расчете только с положительным знаком\\n\\t\\tДа \\t=\\tнагрузка учитывается в расчете и с положительным и с отрицательным знаком\\n\\n [HELP g]Равномерно распределённая нагрузка на пролёты \\n\\np1..pn\\t[кН/м]\\tравномерно распределённая нагрузка\\n\\nПоследнее введённое значение нагрузки будет относиться ко всем оставшимся пролётам. Таким образом, для задания равномерной нагрузки на всю балку в ответе на этот вопрос достаточно ввести одно значение.\\n\\n[HELP gk1]Равномерно распределённая нагрузка на консоли \\n\\npл\\t[кН/м]\\tлевая консоль\\npп\\t[кН/м]\\tправая консоль\\n\\n[HELP Other_loads]Другие нагрузки\\n\\n\\t{Нет / Есть}\\n\\nЕсть ли какие-либо ещё нагрузки, кроме равномерно распределенной на пролёты и консоли?\\n\\n[HELP bl]Прямоугольная нагрузка\\n\\nПролёт\\t[-]\\tномер пролёта\\na\\t[м]\\tрасстояние от левой опоры заданного пролёта до нагрузки\\ns\\t[м]\\tдлина отрезка, на котором распределена нагрузка (> 0)\\np\\t[кН/м]\\tзначение нагрузки\\n\\nРасстояние a до нагрузки можно задавать как положительным, так и отрицательным.\\n\\n[HELP tr]Трапециевидная нагрузка\\n\\nПролёт\\t[-]\\tномер пролёта\\na\\t[м]\\tрасстояние от левой опоры заданного пролёта до нагрузки\\ns\\t[м]\\tдлина отрезка, на котором распределена нагрузка (s> 0)\\npл\\t[кН/м]\\tзначение нагрузки на расстоянии a от опоры\\npп\\t[кН/м]\\tзначение нагрузки на расстоянии a+s от опоры\\n\\nРасстояние a до нагрузки можно задавать как положительным, так и отрицательным.\\n\\n[HELP de]Шатровая нагрузка (от перекрытия)\\n\\nПролёт\\t[-]\\tномер пролёта\\nsл\\t[м]\\tрасстояние от левой опоры заданного пролёта до места где нагрузка равна pл (sл > 0)\\nНа отрезке от опоры до sл нагрузка изменяется от 0 до pл.\\nsп\\t[м]\\tрасстояние от правой опоры заданного пролёта до места где нагрузка равна pп (sп > 0)\\nНа отрезке от опоры до sп нагрузка изменяется от 0 до pп.\\npл\\t[кН/м]\\tзначение нагрузки на расстоянии sл от левой опоры заданного пролёта\\npп\\t[кН/м]\\tзначение нагрузки на расстоянии sп от правой опоры заданного пролёта\\n\\nШатровая нагрузка целиком нагружает заданный пролёт.\\n\\n[HELP bd]Обобщенная шатровая нагрузка\\n\\nПролёт\\t[-]\\tномер пролёта\\na\\t[м]\\tрасстояние от левой опоры заданного пролёта до нагрузки\\nsл\\t[м]\\tдлина отрезка, на котором нагрузка изменяется от 0 до pл (sл > 0)\\ns\\t[м]\\tдлина отрезка, на котором нагрузка изменяется от pл до pп (s > 0)\\nsп\\t[м]\\tдлина отрезка, на котором нагрузка изменяется от pп до 0 (sп > 0)\\npл\\t[кН/м]\\tзначение нагрузки на расстоянии a +sл\\npп\\t[кН/м]\\tзначение нагрузки на расстоянии a +sл+s\\n\\nРасстояние a до нагрузки можно задавать как положительным, так и отрицательным.\\n\\n[HELP bt]Обобщенная трапециевидная нагрузка\\n\\nПролёт\\t[-]\\tномер пролёта\\na\\t[м]\\tрасстояние от левой опоры заданного пролёта до нагрузки\\nsл\\t[м]\\tдлина отрезка, на котором нагрузка изменяется от p1 до p2 (sл > 0)\\ns\\t[м]\\tдлина отрезка, на котором нагрузка изменяется от p2 до p3 (s > 0)\\nsп\\t[м]\\tдлина отрезка, на котором нагрузка изменяется от p3 до p4 (sп > 0)\\np1\\t[кН/м]\\tзначение нагрузки на расстоянии a\\np2\\t[кН/м]\\tзначение нагрузки на расстоянии a +sл\\np3\\t[кН/м]\\tзначение нагрузки на расстоянии a +sл+s\\np4\\t[кН/м]\\tзначение нагрузки на расстоянии a +sл+s+ sп\\n\\nРасстояние a до нагрузки можно задавать как положительным, так и отрицательным.\\n\\n[HELP ei]Сосредоточенная сила\\n\\nПролёт\\t[-]\\tномер пролёта\\na\\t[м]\\tрасстояние от левой опоры заданного пролёта до сосредоточенной силы\\nP\\t[кН]\\tзначение сосредоточенной силы\\n\\nРасстояние a до сосредоточенной силы можно задавать как положительным, так и отрицательным. \\n\\nЕсли задаваемая сила приложена на опоре, то тогда её значение будет учтено в реакции опоры. На статический расчёт она в этом случае не повлияет.\\n\\n[HELP mo]Сосредоточенный момент\\n\\nПролёт\\t[-]\\tномер пролёта\\na\\t[м]\\tрасстояние от левой опоры заданного пролёта до сосредоточенного момента\\nP\\t[кНм]\\tзначение сосредоточенного момента (положительное направление – по часовой стрелке)\\n\\nРасстояние a до сосредоточенной силы можно задавать как положительным, так и отрицательным. \\n\\n[HELP te]Температурное воздействие\\n\\nПролёт\\t[-]\\tномер пролёта\\nalfa bt\\t[1/С]\\tкоэффициент линейной температурной деформации\\nСогласно СНиП 2.03.01-84*, пункт 2.15 при изменении температуры от минус 40\\uf0b0 до плюс 50\\uf0b0 в зависимости от вида бетона \\uf061bt должен быть принят:\\nдля тяжёлого, мелкозернистого бетонов и лёгкого бетона при мелком плотном заполнителе – 1\\uf0d710-5 \\uf0b0С-1\\nдля лёгкого бетона при мелком пористом заполнителе – 0.7\\uf0d710-5 \\uf0b0С-1\\ndT\\t[C]\\tразность температур dT = Tн –Tв, где\\nTн – температура снизу\\nTв – температура сверху\\nh\\t[см]\\tвысота сечения\\nесли высота сечения не будет введена, то будет использована максимальная высота сечения на заданном пролёте (см. вопросы “Ширина и высота сечения”, “Вут слева”, “Вут справа”)\\n\\n[HELP ver]Осадка и поворот опоры \\n\\nОпора\\t[-]\\t   номер опоры\\nv\\t[мм]\\t   перемещение опоры (положительное направление – вниз)\\nfi\\t[рад*1000]  угол поворота опорного сечения (положительное направление – против часовой стрелки)\\n\\n\\nРасчёт арматуры\\n\\n[ [HELP Acrc]Предельно допустимая ширина раскрытия трещин\\n\\n   w lim - предельно допустимое значение ширины раскрытия трещин при практически постоянной комбинации нагрузок.\\n\\n[HELP Um]Перераспределение моментов на опорах\\n\\nU1..Un\\t[%]\\tмаксимальное значение, на которое допускается изменить опорный момент\\n\\nПри линейном упругом расчёте неразрезных балок не учитывается перераспределение усилий вследствии неупругих деформаций бетона и арматуры и образования трещин. При помощи ответа на этот вопрос можно частично учесть это перераспределение. Если введённое значения U не равны нулю, то к моментам, полученным из упругого линейного расчёта, добавляются треугольные эпюры моментов, соответствующие появлению пластических шарниров над опорами и снижающие опорные моменты, но не больше, чем заданно в ответе на этот вопрос. \\nВнимание! Если задано перераспределение моментов, то не могут быть выполнены условия трещиностойкости и не могут быть расчитаны прогибы.\\n\\nЕсли U равно нулю (или не задано), то перераспределение не производится.\\n\\nПоследнее введённое значение будет относиться ко всем оставшимся опорам.\\n\\n\\nКонструирование арматуры\\n\\n[HELP Bw]Параметр управления конструированием арматуры\\n\\n0\\t=\\tконструирование арматуры не проводить\\n\\t\\tВ этом случае программа определяет только требуемую арматуру.\\n1\\t=\\tпо отдельным пролётам без обрывов стержней\\n\\t\\tАрматура (количество и диаметр стержней) подбирается в каждом пролёте и над каждой опорой в соответствии с максимально требуемой арматурой.\\n2\\t=\\tпо отдельным пролётам с обрывами стержней\\n\\t\\tВ каждом пролёте и над опорами определяются диаметры, количество, места обрывов и, соответственно, длины стержней. Длины стержней определяются с учётом длин анкеровки. Количество обрывов стержней регулируется ответом на вопрос “Количество уровней (ступенек) при конструировании арматуры”.\\n3\\t=\\tпо всем пролётам с обрывами стержней\\n\\t\\tТо же, что и предыдущая возможность, но предпринимается попытка использовать одинаковые диаметры и количества стержней вдоль всей балки.\\n\\n[HELP Ach]Расстояния до центров тяжести продольной арматуры\\n\\nот пролёта\\t[-]\\tномер пролёта\\nдо пролёта\\t[-]\\tномер пролёта\\naв\\t[см]\\tрасстояние до ц.т. продольной верхней арматуры\\naн\\t[см]\\tрасстояние до ц.т. продольной нижней арматуры\\n\\nДанный вопрос задаётся только в случае, если конструирование арматуры не требуется. Расчётная (требуемая) арматура определяется для заданных в ответе на этот вопрос расстояний. Если конструирование арматуры проводится, то расстояния до ц.т. арматуры определяются автоматически с учётом выбираемых диаметров стержней продольной арматуры, диаметров стержней поперечной арматуры и толщин защитного слоя бетона.\\n\\n\\n[HELP BDeck]Минимальная толщина защитного слоя бетона\\n\\nаз\\t[мм]\\tминимальная толщина защитного слоя бетона для продольной арматуры\\nазw\\t[мм]\\tминимальная толщина защитного слоя бетона для поперечной арматуры\\n\\nТолщины защитного слоя бетона для продольной и поперечной арматуры принимаются не менее диаметров выбираемых стержней и не менее введённых аз и азw.\\n\\nРасстояния до ц.т. арматуры определяются автоматически с учётом  диаметров стержней поперечной и продольной арматуры и толщин защитного слоя бетона.\\n\\n[HELP S]Количество уровней (ступенек) при конструировании арматуры\\n\\nМаксимальное количество ступенек арматуры при конструировании определяет количество обрывов стержней. Чем больше этот параметр, тем ближе подобранная арматуры к требуемой по расчёту, но и больше обрывов стержней.\\n\\n[HELP Dm]Допустимые к использованию диаметры стержней\\n\\nd1..dn\\t[мм]\\tдиаметры стержней\\n\\nПри конструировании арматуры будут использоваться только стержни с указанными в ответе на этот вопрос диаметрами. Если ответ на этот вопрос отсутствует, то будут использованы стержни со всеми допустимыми для заданной арматурной стали диаметрами.\\n\\nМогут выбираться стержни следующих диаметров (в мм): 6, 8, 10, 12, 14, 16, 18, 20, 22, 25, 28, 32, 36, 40.\\n\\n[HELP Bwg]Арматура на всю длину балки\\n\\nnн\\t[-]\\tколичество стержней снизу\\ndн\\t[мм]\\tдиаметр нижних стержней\\nnв\\t[-]\\tколичество стержней сверху\\ndв\\t[мм]\\tдиаметр верхних стержней\\n\\nЗаданная в ответе на этот вопрос арматура будет учтена при конструировании. В документе с результатами расчёта данная арматура будет так же указана как монтажная.\\n \\n[HELP Bwu]Параметры конструирования нижней арматуры\\n\\nnmax\\t[-]\\tмаксимальное количество стержней\\namin\\t[мм]\\tминимальное расстояние в свету между стержнями\\ndmin\\t[мм]\\tминимальный диаметр\\ndmax\\t[мм] \\tмаксимальный диаметр\\n\\nПри конструировании арматуры программа перебирает заданные в этом вопросе допустимые варианты. Для каждого диаметра от dmin до dmax перебираются количества стержней от 2 до nmax, пока подобранная арматура не окажется больше требуемой. Программа так же контролирует возможность расположения выбранной арматура в один ряд. Если места недостаточно, то программа распределяет арматуру на два ряда. \\n\\n[HELP Bwo]Параметры конструирования верхней арматуры\\n\\nnmax\\t[-]\\tмаксимальное количество стержней\\namin\\t[мм]\\tминимальное расстояние в свету между стержнями\\ndmin\\t[мм]\\tминимальный диаметр\\ndmax\\t[мм] \\tмаксимальный диаметр\\n\\nПри конструировании арматуры программа перебирает заданные в этом вопросе допустимые варианты. Для каждого диаметра от dmin до dmax перебираются количества стержней от 2 до nmax, пока подобранная арматура не окажется больше требуемой. Программа так же контролирует возможность расположения выбранной арматура в один ряд. Если места недостаточно, то программа распределяет арматуру на два ряда. \\n\\n[HELP Bwp]Параметры конструирования арматуры балочных плит (для прямоугольных сечений)\\n\\nот пролёта\\t[-]\\tномер пролёта\\nдо пролёта\\t[-]\\tномер пролёта\\nsmin\\t[-]\\tминимальное расстояние между стержнями\\nsmax\\t[-]\\tмаксимальное расстояние между стержнями\\n[HELP Bwb]Параметры конструирования поперечной арматуры (хомутов)\\n\\nSmin\\t[см]\\tминимальное расстояние вдоль балки между стержнями поперечной арматуры\\nSmax\\t[см]\\tмаксимальное расстояние вдоль балки между стержнями поперечной арматуры\\nd\\t[мм]\\tдиаметр стержней поперечной арматуры {6, 8, 10, 12,…}\\ndS\\t[см]\\tшаг изменения расстояния между стержнями поперечной арматуры при конструировании\\n\\t\\tЕсли шаг не задан, то он принимается равным 5 см\\nn\\t[-]\\tколичество стержней поперечной арматуры в сечении\\n\\t\\tЕсли количество стержней не задано, то оно принается равным 2.\\n\\n\\n[HELP Bwf]Параметры конструирования поперечной арматуры в полках\\n\\nSmin\\t[см]\\tминимальное расстояние вдоль балки между стержнями поперечной арматуры\\nSmax\\t[см]\\tмаксимальное расстояние вдоль балки между стержнями поперечной арматуры\\nd\\t[мм]\\tдиаметр стержней поперечной арматуры {6, 8, 10, 12,…}\\ndS\\t[см]\\tшаг изменения расстояния между стержнями поперечной арматуры при конструировании\\n\\t\\tЕсли шаг не задан, то он принимается равным 5 см\\nn\\t[-]\\tколичество стержней поперечной арматуры в сечении\\n\\t\\tЕсли количество стержней не задано, то оно принается равным 2.\\n\\nДля тавровых сечений вводятся параметры подбора поперечной арматуры, препятствующей срезу между полками и стенкой.\\n\\n \\nВывод\\n\\n[HELP ntel]Количество промежуточных точек для печати\\n\\nот пролёта\\t[-]\\tномер пролёта\\nдо пролёта\\t[-]\\tномер пролёта\\nn\\t[-]\\tколичество промежуточных точек {0\\uf0a3n\\uf0a320}\\n\\nДля заданных пролётов в таблицах результатов (внутренние силовые факторы, РСУ, требуемая арматура) будут печататься значения для n внутренних точек, расположенных на одинаковом расстоянии друг от друга. Помимо этих точек результаты будут выводится для точек, где соответствующая функция имеет максимум.\\n\\nДля каждого пролёта учитывается только последний ответ на этот вопрос, где этот пролёт фигурирует.\\n\\n[HELP zntel]Координаты дополнительных точек для печати\\n\\nпролёт\\t[-]\\tномер пролёта\\na\\t[м]\\tрасстояние до точки от левой опоры заданного пролёта\\n\\nВ заданных дополнительных точках для печати будут выводится все результаты решения (внутренние силовые факторы, РСУ, требуемая арматура). Можно ввести до 20 дополнительных точек для печати.\\n\\n[HELP ausg]Управление выводом\\n\\nТекстовый вывод:\\n\\t-\\tрасчетная схема\\n\\t-\\tнагрузки\\n\\t-\\tвнутренние силовые факторы\\n\\t-\\tреакции опор\\n\\t-\\tРСУ без перераспределения моментов\\n\\t-\\tРСУ с перераспределением моментов\\n\\t-\\tрасчётная арматура\\n\\t-\\tконструирование арматуры\\n\\t-\\tрасчет ширины раскрытия трещин\\n\\t-\\tрасчет прогибов\\n\\t-\\tтабличка с описанием воздействий\\nГрафический вывод:\\n\\t-\\tрасчетная схема\\n\\t-\\tэскиз балки\\n\\t-\\tнагрузки\\n\\t-\\tвнутренние силовые факторы\\n\\t-\\tупругие прогибы\\n\\t-\\tРСУ без перераспределения моментов\\n\\t-\\tРСУ с перераспределением моментов\\n    • конструирование арматуры\\n    • Прогибы\\n'"
      ]
     },
     "execution_count": 9,
     "metadata": {},
     "output_type": "execute_result"
    }
   ],
   "source": [
    "with open('STatik/rtf/ht304.txt', 'r') as file:\n",
    "    rtfdata = file.read()\n",
    "    \n",
    "rtfdata"
   ]
  },
  {
   "cell_type": "code",
   "execution_count": 10,
   "metadata": {},
   "outputs": [
    {
     "data": {
      "text/plain": [
       "'Su]Стойка (сверху, снизу)\\n\\nопора\\t[-]\\tномер опоры\\nl\\t[м]\\tвысота стойки\\nk\\t[%]\\tстепень защемления на конце стойки\\nI или b\\t[см4]\\tмомент инерции сечения стойки\\nили\\nb\\t[см]\\tширина сечения стойки (в поперечном направлении)\\nh\\t[см]\\tвысота сечения стойки (в направлении оси балки)\\n\\n\\nЕсли параметр h не вводится, то считается что задан момент инерции сечения стойки (I).\\nЕсли параметр h задаётся, то считается, что заданы размеры сечения стойки (b, h) и момент инерции вычисляется в программе.\\n\\nВ заданной опоре принимается работающая на поворот пружина. Жёсткость этой пружины вычисляется по формуле:\\n\\nc = 12 * E * I / (h * (4 – 0.01 * k) )\\t\\t[кНм], где\\n\\tk \\t- степень защемления\\t\\t[%]\\n\\tE \\t- модуль упругости\\t\\t[кН/м2]\\n\\tI \\t- момент инерции сечения колонны\\t[м4]\\n\\th \\t- высота колонны\\t[м]\\n\\nЕсли высота стойки не задаётся или равна 0, то принимается, что пружина отсутствует.\\n\\n'"
      ]
     },
     "execution_count": 10,
     "metadata": {},
     "output_type": "execute_result"
    }
   ],
   "source": [
    "rtfsplithelp=rtfdata.split(sep=\"[HELP \")\n",
    "\n",
    "\n",
    "#print(rtfsplithelp[10])\n",
    "rtfsplithelp[15]"
   ]
  },
  {
   "cell_type": "code",
   "execution_count": 11,
   "metadata": {},
   "outputs": [
    {
     "name": "stdout",
     "output_type": "stream",
     "text": [
      "['длины пролётов', 'Можно вводить до 10 пролётов. Пролётам присваиваются номера от 1 до n, соответственно опорам номера от 1 до n+1.', 'Если пролёты имеют одинаковую длину, то достаточно в первое поле ввода ввести строку n*l, где n – число пролётов, а l – длина.']\n",
      "['длина левой консоли', 'длина правой консоли']\n",
      "['номер пролёта', 'расстояние до шарнира от середины левой опоры заданного пролёта']\n",
      "['номер пролёта ', 'номер пролёта ', 'ширина сечения балки', 'высота сечения балки', 'Левой консоли соответствует номер пролёта 0. Правой консоли соответствует номер пролёта n+1, если введено n пролётов. Сечение в пролёте определяется в соответствии с последним ответом, где фигурирует  этот пролёт. Таким образом, можно задать одно сечение на все пролёты, а в последующих ответах изменить сечения конкретных пролётов. ', 'Для ввода вутов предусмотрен специальный вопрос. ']\n",
      "['{Нет / Да}']\n",
      "['номер пролёта', 'номер пролёта', 'ширина левого свеса полки', 'ширина правого свеса полки', 'высота полки', 'Заданные ширины свесов полки непосредственно вводятся в расчёт. Высота таврового сечения и ширина его ребра берётся из ответа на вопрос “Ширина и высота сечения”.']\n",
      "['{Нет / Да}']\n",
      "['номер пролёта', 'номер пролёта', 'Задаваемые ниже размеры вутов будут относится ко всем указанным пролётам.']\n",
      "['длина вута (расстояние от края левой опоры пролёта, на котором сечение балки имеет переменные размеры)', 'ширина сечения балки у края опоры', 'высота сечения балки у края опоры', 'ширина сечения балки на заданном расстоянии a от края опоры', 'высота сечения балки на заданном расстоянии a от края опоры', 'Если значения bп и (или) hп не задаются, то они принимаются равными ширине и высоте сечения в пролёте.', 'Отсутствие ответа на данный вопрос воспринимается как отсутствие соответствующего вута.']\n",
      "['длина вута (расстояние от края правой опоры пролёта, на котором сечение балки имеет переменные размеры)', 'ширина сечения балки у края опоры', 'высота сечения балки у края опоры', 'ширина сечения балки на заданном расстоянии a от края опоры', 'высота сечения балки на заданном расстоянии a от края опоры', 'Если значения bл и (или) hл не задаются, то они принимаются равными ширине и высоте сечения в пролёте.', 'Отсутствие ответа на данный вопрос воспринимается как отсутствие соответствующего вута.']\n",
      "['ширины опор в направлении оси балки', 'Последнее введённое значение ширины будет относиться ко всем оставшимся опорам. Таким образом, если все опоры имеют одинаковую ширину, то в ответе на этот вопрос достаточно ввести одно значение.']\n",
      "['[%]', '[%]', 'На основе этих данных определяются работающие на поворот пружины на концах балки. Жёсткость этих пружин вычисляется по формуле:', '[кНм], где', '[%]', '[кН/м2]', '[м4]', '[м]']\n",
      "['{Нет / Да}']\n",
      "[]\n",
      "['номер опоры', 'высота стойки', 'степень защемления на конце стойки', 'момент инерции сечения стойки', 'или', 'ширина сечения стойки (в поперечном направлении)', 'высота сечения стойки (в направлении оси балки)', 'Если параметр h не вводится, то считается что задан момент инерции сечения стойки (I).', 'Если параметр h задаётся, то считается, что заданы размеры сечения стойки (b, h) и момент инерции вычисляется в программе.', 'В заданной опоре принимается работающая на поворот пружина. Жёсткость этой пружины вычисляется по формуле:', '[кНм], где', '[%]', '[кН/м2]', '[м4]', '[м]', 'Если высота стойки не задаётся или равна 0, то принимается, что пружина отсутствует.']\n",
      "['жёсткости опор', 'Последнее введённое значение жёсткости будет относиться ко всем оставшимся опорам. Таким образом, если все опоры имеют одинаковую жёсткость, то в ответе на этот вопрос достаточно ввести одно значение.', 'Этот вопрос задаётся только если не задаются стойки.']\n",
      "['= не нужен', '= нужен', 'При положительном ответе программа проводит расчет прогибов согласно п. 7.4.3 ТКП EN 1992-1-1-2009']\n",
      "['относительная влажность воздуха окружающей среды', 'Используется для учета ползучести бетона при расчете кривизны на участках без трещин.']\n",
      "['Возраст бетона в начале нагружения', 'Используется для учета ползучести бетона при расчете кривизны на участках без трещин.', 'Нагружение ']\n",
      "['{Нет / Да}', 'При положительном ответе автоматически создается постоянная нагрузка, соответствующая весу балки с учетом вутов. ', ' ', ' ']\n",
      "['нагрузка учитывается в расчете только с положительным знаком', 'нагрузка учитывается в расчете и с положительным и с отрицательным знаком', 'Если задаваемая нагрузка действует на несколько пролётов, то :', 'выбираются неблагоприятные распределения нагрузки  по пролётам (попролётное комбинирование)', 'принимается заданное распределение нагрузки по пролётам', 'При помощи этого параметра нагрузки можно объединять в группы. Нагрузки, принадлежащие одной группе, не могут действовать одновременно, то есть они являются взаимоисключающими.']\n",
      "['нагрузка учитывается в расчете только с положительным знаком', 'нагрузка учитывается в расчете и с положительным и с отрицательным знаком', ' ']\n",
      "['равномерно распределённая нагрузка', 'Последнее введённое значение нагрузки будет относиться ко всем оставшимся пролётам. Таким образом, для задания равномерной нагрузки на всю балку в ответе на этот вопрос достаточно ввести одно значение.']\n",
      "['левая консоль', 'правая консоль']\n",
      "['{Нет / Есть}', 'Есть ли какие-либо ещё нагрузки, кроме равномерно распределенной на пролёты и консоли?']\n",
      "['номер пролёта', 'расстояние от левой опоры заданного пролёта до нагрузки', 'длина отрезка, на котором распределена нагрузка (> 0)', 'значение нагрузки', 'Расстояние a до нагрузки можно задавать как положительным, так и отрицательным.']\n",
      "['номер пролёта', 'расстояние от левой опоры заданного пролёта до нагрузки', 'длина отрезка, на котором распределена нагрузка (s> 0)', 'значение нагрузки на расстоянии a от опоры', 'значение нагрузки на расстоянии a+s от опоры', 'Расстояние a до нагрузки можно задавать как положительным, так и отрицательным.']\n",
      "['номер пролёта', 'расстояние от левой опоры заданного пролёта до места где нагрузка равна pл (sл > 0)', 'На отрезке от опоры до sл нагрузка изменяется от 0 до pл.', 'расстояние от правой опоры заданного пролёта до места где нагрузка равна pп (sп > 0)', 'На отрезке от опоры до sп нагрузка изменяется от 0 до pп.', 'значение нагрузки на расстоянии sл от левой опоры заданного пролёта', 'значение нагрузки на расстоянии sп от правой опоры заданного пролёта', 'Шатровая нагрузка целиком нагружает заданный пролёт.']\n",
      "['номер пролёта', 'расстояние от левой опоры заданного пролёта до нагрузки', 'длина отрезка, на котором нагрузка изменяется от 0 до pл (sл > 0)', 'длина отрезка, на котором нагрузка изменяется от pл до pп (s > 0)', 'длина отрезка, на котором нагрузка изменяется от pп до 0 (sп > 0)', 'значение нагрузки на расстоянии a +sл', 'значение нагрузки на расстоянии a +sл+s', 'Расстояние a до нагрузки можно задавать как положительным, так и отрицательным.']\n",
      "['номер пролёта', 'расстояние от левой опоры заданного пролёта до нагрузки', 'длина отрезка, на котором нагрузка изменяется от p1 до p2 (sл > 0)', 'длина отрезка, на котором нагрузка изменяется от p2 до p3 (s > 0)', 'длина отрезка, на котором нагрузка изменяется от p3 до p4 (sп > 0)', 'значение нагрузки на расстоянии a', 'значение нагрузки на расстоянии a +sл', 'значение нагрузки на расстоянии a +sл+s', 'значение нагрузки на расстоянии a +sл+s+ sп', 'Расстояние a до нагрузки можно задавать как положительным, так и отрицательным.']\n",
      "['номер пролёта', 'расстояние от левой опоры заданного пролёта до сосредоточенной силы', 'значение сосредоточенной силы', 'Расстояние a до сосредоточенной силы можно задавать как положительным, так и отрицательным. ', 'Если задаваемая сила приложена на опоре, то тогда её значение будет учтено в реакции опоры. На статический расчёт она в этом случае не повлияет.']\n",
      "['номер пролёта', 'расстояние от левой опоры заданного пролёта до сосредоточенного момента', 'значение сосредоточенного момента (положительное направление – по часовой стрелке)', 'Расстояние a до сосредоточенной силы можно задавать как положительным, так и отрицательным. ']\n",
      "['номер пролёта', 'коэффициент линейной температурной деформации', 'Согласно СНиП 2.03.01-84*, пункт 2.15 при изменении температуры от минус 40\\uf0b0 до плюс 50\\uf0b0 в зависимости от вида бетона \\uf061bt должен быть принят:', 'для тяжёлого, мелкозернистого бетонов и лёгкого бетона при мелком плотном заполнителе – 1\\uf0d710-5 \\uf0b0С-1', 'для лёгкого бетона при мелком пористом заполнителе – 0.7\\uf0d710-5 \\uf0b0С-1', 'разность температур dT = Tн –Tв, где', 'Tн – температура снизу', 'Tв – температура сверху', 'высота сечения', 'если высота сечения не будет введена, то будет использована максимальная высота сечения на заданном пролёте (см. вопросы “Ширина и высота сечения”, “Вут слева”, “Вут справа”)']\n",
      "['   номер опоры', '   перемещение опоры (положительное направление – вниз)', '[рад*1000]  угол поворота опорного сечения (положительное направление – против часовой стрелки)', 'Расчёт арматуры', '[ ']\n",
      "['   w lim - предельно допустимое значение ширины раскрытия трещин при практически постоянной комбинации нагрузок.']\n",
      "['максимальное значение, на которое допускается изменить опорный момент', 'При линейном упругом расчёте неразрезных балок не учитывается перераспределение усилий вследствии неупругих деформаций бетона и арматуры и образования трещин. При помощи ответа на этот вопрос можно частично учесть это перераспределение. Если введённое значения U не равны нулю, то к моментам, полученным из упругого линейного расчёта, добавляются треугольные эпюры моментов, соответствующие появлению пластических шарниров над опорами и снижающие опорные моменты, но не больше, чем заданно в ответе на этот вопрос. ', 'Внимание! Если задано перераспределение моментов, то не могут быть выполнены условия трещиностойкости и не могут быть расчитаны прогибы.', 'Если U равно нулю (или не задано), то перераспределение не производится.', 'Последнее введённое значение будет относиться ко всем оставшимся опорам.', 'Конструирование арматуры']\n",
      "['конструирование арматуры не проводить', 'В этом случае программа определяет только требуемую арматуру.', 'по отдельным пролётам без обрывов стержней', 'Арматура (количество и диаметр стержней) подбирается в каждом пролёте и над каждой опорой в соответствии с максимально требуемой арматурой.', 'по отдельным пролётам с обрывами стержней', 'В каждом пролёте и над опорами определяются диаметры, количество, места обрывов и, соответственно, длины стержней. Длины стержней определяются с учётом длин анкеровки. Количество обрывов стержней регулируется ответом на вопрос “Количество уровней (ступенек) при конструировании арматуры”.', 'по всем пролётам с обрывами стержней', 'То же, что и предыдущая возможность, но предпринимается попытка использовать одинаковые диаметры и количества стержней вдоль всей балки.']\n",
      "['номер пролёта', 'номер пролёта', 'расстояние до ц.т. продольной верхней арматуры', 'расстояние до ц.т. продольной нижней арматуры', 'Данный вопрос задаётся только в случае, если конструирование арматуры не требуется. Расчётная (требуемая) арматура определяется для заданных в ответе на этот вопрос расстояний. Если конструирование арматуры проводится, то расстояния до ц.т. арматуры определяются автоматически с учётом выбираемых диаметров стержней продольной арматуры, диаметров стержней поперечной арматуры и толщин защитного слоя бетона.']\n",
      "['минимальная толщина защитного слоя бетона для продольной арматуры', 'минимальная толщина защитного слоя бетона для поперечной арматуры', 'Толщины защитного слоя бетона для продольной и поперечной арматуры принимаются не менее диаметров выбираемых стержней и не менее введённых аз и азw.', 'Расстояния до ц.т. арматуры определяются автоматически с учётом  диаметров стержней поперечной и продольной арматуры и толщин защитного слоя бетона.']\n",
      "['Максимальное количество ступенек арматуры при конструировании определяет количество обрывов стержней. Чем больше этот параметр, тем ближе подобранная арматуры к требуемой по расчёту, но и больше обрывов стержней.']\n",
      "['диаметры стержней', 'При конструировании арматуры будут использоваться только стержни с указанными в ответе на этот вопрос диаметрами. Если ответ на этот вопрос отсутствует, то будут использованы стержни со всеми допустимыми для заданной арматурной стали диаметрами.', 'Могут выбираться стержни следующих диаметров (в мм): 6, 8, 10, 12, 14, 16, 18, 20, 22, 25, 28, 32, 36, 40.']\n",
      "['количество стержней снизу', 'диаметр нижних стержней', 'количество стержней сверху', 'диаметр верхних стержней', 'Заданная в ответе на этот вопрос арматура будет учтена при конструировании. В документе с результатами расчёта данная арматура будет так же указана как монтажная.', ' ']\n",
      "['максимальное количество стержней', 'минимальное расстояние в свету между стержнями', 'минимальный диаметр', 'максимальный диаметр', 'При конструировании арматуры программа перебирает заданные в этом вопросе допустимые варианты. Для каждого диаметра от dmin до dmax перебираются количества стержней от 2 до nmax, пока подобранная арматура не окажется больше требуемой. Программа так же контролирует возможность расположения выбранной арматура в один ряд. Если места недостаточно, то программа распределяет арматуру на два ряда. ']\n",
      "['максимальное количество стержней', 'минимальное расстояние в свету между стержнями', 'минимальный диаметр', 'максимальный диаметр', 'При конструировании арматуры программа перебирает заданные в этом вопросе допустимые варианты. Для каждого диаметра от dmin до dmax перебираются количества стержней от 2 до nmax, пока подобранная арматура не окажется больше требуемой. Программа так же контролирует возможность расположения выбранной арматура в один ряд. Если места недостаточно, то программа распределяет арматуру на два ряда. ']\n",
      "['номер пролёта', 'номер пролёта', 'минимальное расстояние между стержнями', 'максимальное расстояние между стержнями']\n",
      "['минимальное расстояние вдоль балки между стержнями поперечной арматуры', 'максимальное расстояние вдоль балки между стержнями поперечной арматуры', 'диаметр стержней поперечной арматуры {6, 8, 10, 12,…}', 'шаг изменения расстояния между стержнями поперечной арматуры при конструировании', 'Если шаг не задан, то он принимается равным 5 см', 'количество стержней поперечной арматуры в сечении', 'Если количество стержней не задано, то оно принается равным 2.']\n",
      "['минимальное расстояние вдоль балки между стержнями поперечной арматуры', 'максимальное расстояние вдоль балки между стержнями поперечной арматуры', 'диаметр стержней поперечной арматуры {6, 8, 10, 12,…}', 'шаг изменения расстояния между стержнями поперечной арматуры при конструировании', 'Если шаг не задан, то он принимается равным 5 см', 'количество стержней поперечной арматуры в сечении', 'Если количество стержней не задано, то оно принается равным 2.', 'Для тавровых сечений вводятся параметры подбора поперечной арматуры, препятствующей срезу между полками и стенкой.', ' ', 'Вывод']\n",
      "['номер пролёта', 'номер пролёта', 'количество промежуточных точек {0\\uf0a3n\\uf0a320}', 'Для заданных пролётов в таблицах результатов (внутренние силовые факторы, РСУ, требуемая арматура) будут печататься значения для n внутренних точек, расположенных на одинаковом расстоянии друг от друга. Помимо этих точек результаты будут выводится для точек, где соответствующая функция имеет максимум.', 'Для каждого пролёта учитывается только последний ответ на этот вопрос, где этот пролёт фигурирует.']\n",
      "['номер пролёта', 'расстояние до точки от левой опоры заданного пролёта', 'В заданных дополнительных точках для печати будут выводится все результаты решения (внутренние силовые факторы, РСУ, требуемая арматура). Можно ввести до 20 дополнительных точек для печати.']\n",
      "['Текстовый вывод:', 'расчетная схема', 'нагрузки', 'внутренние силовые факторы', 'реакции опор', 'РСУ без перераспределения моментов', 'РСУ с перераспределением моментов', 'расчётная арматура', 'конструирование арматуры', 'расчет ширины раскрытия трещин', 'расчет прогибов', 'табличка с описанием воздействий', 'Графический вывод:', 'расчетная схема', 'эскиз балки', 'нагрузки', 'внутренние силовые факторы', 'упругие прогибы', 'РСУ без перераспределения моментов', 'РСУ с перераспределением моментов', '    • конструирование арматуры', '    • Прогибы']\n"
     ]
    }
   ],
   "source": [
    "mapofword = {}\n",
    "for i in range(1, len(rtfsplithelp)):\n",
    "    orderedwords = []\n",
    "    indexofterms=rtfsplithelp[i].split(sep=\"]\")[0]\n",
    "    #while(\"\" in rtfsplithelp[i]) : \n",
    "        #rtfsplithelp[i].remove(\"\") \n",
    "    splitlines=rtfsplithelp[i].split(\"\\n\")\n",
    "    while('' in splitlines) : \n",
    "        splitlines.remove('') \n",
    "    #print(splitlines)\n",
    "    for j in range(1, len(splitlines)):\n",
    "        definittion=splitlines[j].split(\"\\t\")[-1]\n",
    "        orderedwords.append(definittion)\n",
    "    print(orderedwords)\n",
    "    mapofword.update({indexofterms : orderedwords})"
   ]
  },
  {
   "cell_type": "code",
   "execution_count": 12,
   "metadata": {},
   "outputs": [
    {
     "data": {
      "text/plain": [
       "dict_keys(['l', 'lk', 'mg', 'Quer', 'IsPlate', 'Pblk', 'Vout', 'Vt', 'Vtl', 'Vtr', 't', 'Ee', 'Column', 'So', 'Su', 'As', 'Deflag', 'Humidity', 'Timet0', 'Ewt', 'Vern026,Vernp026', 'Auss026,Aussp026', 'g', 'gk1', 'Other_loads', 'bl', 'tr', 'de', 'bd', 'bt', 'ei', 'mo', 'te', 'ver', 'Acrc', 'Um', 'Bw', 'Ach', 'BDeck', 'S', 'Dm', 'Bwg', 'Bwu', 'Bwo', 'Bwp', 'Bwb', 'Bwf', 'ntel', 'zntel', 'ausg'])"
      ]
     },
     "execution_count": 12,
     "metadata": {},
     "output_type": "execute_result"
    }
   ],
   "source": [
    "mapofword.keys()"
   ]
  },
  {
   "cell_type": "code",
   "execution_count": 13,
   "metadata": {},
   "outputs": [],
   "source": [
    "for i in range(len(afterhelp)):\n",
    "    lst=afterhelp[i].split(\"\\n\")\n",
    "    currentkey = lst[2].split(\" =\")[0]\n",
    "    #print(currentkey)\n",
    "    #print(i)\n",
    "    if(currentkey in mapofword.keys() and len(mapofword[currentkey]) > 0) :\n",
    "        #print( mapofword[currentkey])\n",
    "        lines = afterhelp[i].split(\"\\n\\t\")\n",
    "        start = lines[0]\n",
    "        #print(lines)\n",
    "        #print(len(lines) < len(mapofword[currentkey]))\n",
    "         \n",
    "        for j in range(1, len(lines)):\n",
    "            term = lines[j].split('\"')[1]\n",
    "            #print(term)\n",
    "            start = start + '\\n\\t\"'+ term + '\" ' + '\"'+ mapofword[currentkey][j-1]\n",
    "            if (j!=len(lines)-1):\n",
    "                start = start +'\"' + \",\"\n",
    "        if(len(lines) < len(mapofword[currentkey])  ):\n",
    "            start = start + r'.\\n '\n",
    "            for e in range (len(lines), len(mapofword[currentkey]) ):\n",
    "                start = start + mapofword[currentkey][e]\n",
    "                if( e < len(mapofword[currentkey]) -1 ):\n",
    "                    start = start + r\"\\n\"\n",
    "        start = start + '\"' \n",
    "       \n",
    "     \n",
    "    afterhelp[i] = start\n",
    "    #print(start)"
   ]
  },
  {
   "cell_type": "code",
   "execution_count": 14,
   "metadata": {},
   "outputs": [
    {
     "data": {
      "text/plain": [
       "'\\n/*Frage*/\\nAs = \\n\\t\"C#\" \"жёсткости опор.\\\\n Этот вопрос задаётся только если не задаются стойки.\"'"
      ]
     },
     "execution_count": 14,
     "metadata": {},
     "output_type": "execute_result"
    }
   ],
   "source": [
    "afterhelp[13]"
   ]
  },
  {
   "cell_type": "code",
   "execution_count": 15,
   "metadata": {},
   "outputs": [
    {
     "data": {
      "text/plain": [
       "'\"vF\" \"номер пролёта \",'"
      ]
     },
     "execution_count": 15,
     "metadata": {},
     "output_type": "execute_result"
    }
   ],
   "source": [
    "afterhelp[2].split(\"\\n\\t\")[1] "
   ]
  },
  {
   "cell_type": "code",
   "execution_count": 16,
   "metadata": {},
   "outputs": [
    {
     "data": {
      "text/plain": [
       "['', 'vF', ' ', 'номер пролёта ', ',']"
      ]
     },
     "execution_count": 16,
     "metadata": {},
     "output_type": "execute_result"
    }
   ],
   "source": [
    "afterhelp[2].split(\"\\n\\t\")[1].split('\"')"
   ]
  },
  {
   "cell_type": "code",
   "execution_count": 17,
   "metadata": {},
   "outputs": [
    {
     "name": "stdout",
     "output_type": "stream",
     "text": [
      "lk\n",
      "mg\n",
      "Quer\n",
      "IsPlate\n",
      "Pblk\n",
      "Vout\n",
      "Vt\n",
      "Vtl\n",
      "Vtr\n",
      "t\n",
      "Ee\n",
      "Column\n",
      "As\n",
      "As\n",
      "Su\n",
      "Deflag\n",
      "Humidity\n",
      "Timet0\n",
      "Timet0\n",
      "Ewt\n",
      "g\n",
      "gk1\n",
      "Other_loads\n",
      "bl\n",
      "tr\n",
      "de\n",
      "bd\n",
      "bt\n",
      "ei\n",
      "mo\n",
      "te\n",
      "ver\n",
      "ver\n",
      "ver\n",
      "Acrc\n",
      "Acrc\n",
      "Um\n",
      "Bw\n",
      "Ach\n",
      "BDeck\n",
      "BDeck\n",
      "Dm\n",
      "Bwg\n",
      "Bwu\n",
      "Bwo\n",
      "Bwb\n",
      "Bwf\n",
      "S\n",
      "ntel\n",
      "zntel\n",
      "ausg\n",
      "ausg\n"
     ]
    }
   ],
   "source": [
    "for i in range(len(afterhelp)):\n",
    "    lst=afterhelp[i].split(\"\\n\")\n",
    "    currentkey = lst[2].split(\" =\")[0]\n",
    "    print(currentkey)"
   ]
  },
  {
   "cell_type": "code",
   "execution_count": 18,
   "metadata": {},
   "outputs": [
    {
     "data": {
      "text/plain": [
       "[]"
      ]
     },
     "execution_count": 18,
     "metadata": {},
     "output_type": "execute_result"
    }
   ],
   "source": [
    "mapofword[\"So\"]"
   ]
  },
  {
   "cell_type": "code",
   "execution_count": 19,
   "metadata": {},
   "outputs": [],
   "source": [
    "alldata = beforehelp + afterhelp\n",
    "text_file = open(\"test304.txt\", \"w\")\n",
    "n = text_file.write(\";\\n\".join(alldata ))\n",
    "text_file.close()"
   ]
  },
  {
   "cell_type": "code",
   "execution_count": null,
   "metadata": {},
   "outputs": [],
   "source": []
  }
 ],
 "metadata": {
  "kernelspec": {
   "display_name": "Python 3",
   "language": "python",
   "name": "python3"
  },
  "language_info": {
   "codemirror_mode": {
    "name": "ipython",
    "version": 3
   },
   "file_extension": ".py",
   "mimetype": "text/x-python",
   "name": "python",
   "nbconvert_exporter": "python",
   "pygments_lexer": "ipython3",
   "version": "3.7.3"
  }
 },
 "nbformat": 4,
 "nbformat_minor": 2
}
