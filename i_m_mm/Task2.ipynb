{
 "cells": [
  {
   "cell_type": "code",
   "execution_count": 2,
   "metadata": {},
   "outputs": [],
   "source": [
    "import numpy as np\n",
    "import numpy.random as npr\n",
    "import matplotlib.pyplot as plt\n",
    "import math"
   ]
  },
  {
   "cell_type": "code",
   "execution_count": 47,
   "metadata": {},
   "outputs": [],
   "source": [
    "Gix = np.linspace(0, 10, 41)\n",
    "Goy = np.linspace(0, 4, 17)\n",
    "\n",
    "gf = np.linspace(0, 22, 22*4+1)"
   ]
  },
  {
   "cell_type": "code",
   "execution_count": 48,
   "metadata": {},
   "outputs": [],
   "source": [
    "pieces = int(math.pi/0.25)+1\n",
    "\n",
    "c = np.linspace(math.pi, 3*math.pi/2 ,pieces)\n",
    "x_c = np.cos(c)*2+12\n",
    "y_c = np.sin(c)*2+4"
   ]
  },
  {
   "cell_type": "code",
   "execution_count": 49,
   "metadata": {},
   "outputs": [
    {
     "data": {
      "text/plain": [
       "array([10.        , 10.01711028, 10.06814835, 10.15224093, 10.26794919,\n",
       "       10.41329332, 10.58578644, 10.78247714, 11.        , 11.23463314,\n",
       "       11.48236191, 11.73894762, 12.        ])"
      ]
     },
     "execution_count": 49,
     "metadata": {},
     "output_type": "execute_result"
    }
   ],
   "source": [
    "x_c"
   ]
  },
  {
   "cell_type": "code",
   "execution_count": 52,
   "metadata": {},
   "outputs": [
    {
     "data": {
      "text/plain": [
       "(-1, 24)"
      ]
     },
     "execution_count": 52,
     "metadata": {},
     "output_type": "execute_result"
    },
    {
     "data": {
      "image/png": "[encoded data removed]",
      "text/plain": [
       "<Figure size 504x504 with 1 Axes>"
      ]
     },
     "metadata": {
      "needs_background": "light"
     },
     "output_type": "display_data"
    }
   ],
   "source": [
    "\n",
    "plt.figure(figsize=(7,7 ))\n",
    "plt.plot(np.zeros(len(Goy)), Goy, '.')\n",
    "plt.plot(Gix, np.zeros(len(Gix))+4, '.')\n",
    "plt.plot(x_c, y_c, '.')\n",
    "plt.plot(Gix+12, np.zeros(len(Gix))+2, '.')\n",
    "plt.plot(np.zeros(len(Goy[:9]))+22, Goy[:9], '.')\n",
    "plt.plot(gf,np.zeros(len(gf)), '.')\n",
    "\n",
    "plt.xlim(-1, 24)\n",
    "plt.ylim(-1,24)"
   ]
  },
  {
   "cell_type": "code",
   "execution_count": 4,
   "metadata": {},
   "outputs": [],
   "source": [
    "A = np.zeros(2280)+1\n",
    "b = np.zeros((2280, 3)) +5\n",
    "c = np.zeros((2280, 3))+1\n",
    "B = np.zeros((2280, 3, 6))\n",
    "\n",
    "B[:,0, ::2] = b \n",
    "B[:,1, 1::2] = с \n",
    "\n",
    "\n",
    "B[:,2, 1::2] = b \n",
    "B[:,2, 0::2] = с\n",
    "\n",
    "B *=1/(2*A[:,None,None])"
   ]
  },
  {
   "cell_type": "code",
   "execution_count": 5,
   "metadata": {},
   "outputs": [],
   "source": [
    "E = 2e7 \n",
    "mu = 0.25\n",
    "t = 0.5  \n",
    "P = 44e3 "
   ]
  },
  {
   "cell_type": "code",
   "execution_count": 6,
   "metadata": {},
   "outputs": [],
   "source": [
    "D = E/(1-mu**2)*np.array([[1,mu,0],[mu,1,0],[0,0,0.5*(1-mu)]])"
   ]
  },
  {
   "cell_type": "code",
   "execution_count": 14,
   "metadata": {},
   "outputs": [],
   "source": [
    " \n",
    "K = np.matmul(np.matmul(np.transpose(B, axes = (0,2,1)) , D), B)*t*A[:, None, None]\n"
   ]
  },
  {
   "cell_type": "code",
   "execution_count": null,
   "metadata": {},
   "outputs": [],
   "source": [
    "K = np.zeros(())"
   ]
  }
 ],
 "metadata": {
  "kernelspec": {
   "display_name": "Python 3",
   "language": "python",
   "name": "python3"
  },
  "language_info": {
   "codemirror_mode": {
    "name": "ipython",
    "version": 3
   },
   "file_extension": ".py",
   "mimetype": "text/x-python",
   "name": "python",
   "nbconvert_exporter": "python",
   "pygments_lexer": "ipython3",
   "version": "3.7.3"
  }
 },
 "nbformat": 4,
 "nbformat_minor": 2
}
