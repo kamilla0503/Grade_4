{
 "cells": [
  {
   "cell_type": "code",
   "execution_count": 1,
   "metadata": {},
   "outputs": [],
   "source": [
    "import numpy as np \n",
    "import scipy \n",
    "import matplotlib.pyplot as plt"
   ]
  },
  {
   "cell_type": "markdown",
   "metadata": {},
   "source": [
    "# Задание 2 "
   ]
  },
  {
   "cell_type": "code",
   "execution_count": 2,
   "metadata": {},
   "outputs": [],
   "source": [
    "A= [ [19, 6,4],[8,22,4], [  4,4,19]   ]\n",
    "b= [   9,5,3] "
   ]
  },
  {
   "cell_type": "code",
   "execution_count": 3,
   "metadata": {},
   "outputs": [
    {
     "name": "stdout",
     "output_type": "stream",
     "text": [
      "0.4450 0.0559 0.0524 \n"
     ]
    }
   ],
   "source": [
    "x_np = np.linalg.solve(A, b)\n",
    "print(\"%.4f \"*len(x_np) % tuple(x_np) )"
   ]
  },
  {
   "cell_type": "code",
   "execution_count": 4,
   "metadata": {},
   "outputs": [],
   "source": [
    "B= []\n",
    "c= []\n",
    "\n",
    "for i in range(len(b)):\n",
    "    c.append(b[i]/A[i][i])\n",
    "    B.append([])\n",
    "    for j in range(len(b)):\n",
    "        if(i==j):\n",
    "            B[i].append(0)\n",
    "        else:\n",
    "            B[i].append(-A[i][j]/A[i][i])"
   ]
  },
  {
   "cell_type": "code",
   "execution_count": 5,
   "metadata": {},
   "outputs": [],
   "source": [
    "def zeid(B,c,iterations,x_start  ):\n",
    "    #возвращает массив - вектор решений \n",
    "    y=x_start.copy()\n",
    "   \n",
    "    for k in range(iterations):\n",
    "        x_k = y.copy()      \n",
    "        for i in range(len(c)):\n",
    "            u=0\n",
    "            for j in range(i):\n",
    "                u=u+B[i][j]*y[j]  #использование новых значений x^{k+1}          \n",
    "            for j in range(i+1, len(c)):\n",
    "                u=u+B[i][j]*x_k[j]          \n",
    "            y[i] = u+c[i]\n",
    "        print(\"iteration:\" ,k+1)\n",
    "        print(\"%.3f \"*len(y) % tuple(y) )\n",
    "        k = 0\n",
    "        for i in range(len(b)):\n",
    "            if (np.abs(x_k[i]-y[i])<0.01):\n",
    "                k+=1\n",
    "                \n",
    "        if (k==len(b) ):\n",
    "            print(\"Condition to finish\")\n",
    "            break\n",
    "        \n",
    "    return y    \n",
    "    "
   ]
  },
  {
   "cell_type": "code",
   "execution_count": 6,
   "metadata": {},
   "outputs": [
    {
     "name": "stdout",
     "output_type": "stream",
     "text": [
      "iteration: 1\n",
      "0.474 0.055 0.047 \n",
      "iteration: 2\n",
      "0.447 0.056 0.052 \n",
      "iteration: 3\n",
      "0.445 0.056 0.052 \n",
      "Condition to finish\n"
     ]
    }
   ],
   "source": [
    "x = zeid(B, c, 10, [0,0,0])"
   ]
  },
  {
   "cell_type": "markdown",
   "metadata": {},
   "source": [
    "Трех итераций хватило (при оценке в разнице итераций)\n",
    "\n",
    "Решение адекватно (сравнивалась с решением из библиотеки) /"
   ]
  },
  {
   "cell_type": "markdown",
   "metadata": {},
   "source": [
    "# Задание 3"
   ]
  },
  {
   "cell_type": "code",
   "execution_count": 7,
   "metadata": {},
   "outputs": [
    {
     "data": {
      "text/plain": [
       "array([-9.10468636,  7.        , 10.10468636])"
      ]
     },
     "execution_count": 7,
     "metadata": {},
     "output_type": "execute_result"
    }
   ],
   "source": [
    "A= np.array([ [-5, -4, 6],[ -4,9,2], [  6,2,4]   ])\n",
    "np.linalg.eigvals(A)"
   ]
  },
  {
   "cell_type": "code",
   "execution_count": 10,
   "metadata": {},
   "outputs": [],
   "source": [
    "def GetMaxValue(A):\n",
    "    max_value, c_i, c_j = 0, -1, -1\n",
    "    for i in range(len(A)):\n",
    "        for j in range(len(A) - i - 1):\n",
    "            if abs(A[i][len(A) - j - 1]) > abs(max_value):\n",
    "                max_value, c_i, c_j = A[i,len(A) - j - 1], i, len(A) - j - 1\n",
    "    return max_value, c_i, c_j\n",
    "\n",
    "def Yacobi(A, err=1e-3):\n",
    "    eig_is_changed = False\n",
    "    eigVectMatrix = np.array([[0.] * len(A)] * len(A))\n",
    "    Aij_max, i, j = GetMaxValue(A)\n",
    "    counter = 0\n",
    "    while (abs(Aij_max)>err):\n",
    "        counter += 1\n",
    "        phi = np.arctan(2 * Aij_max/(A[i,i]-A[j,j])) / 2\n",
    "        H = np.zeros_like(A, dtype=float) \n",
    "        for k in range(len(A)):\n",
    "            H[k,k] = 1\n",
    "        H[j,j] = H[i][i] = np.cos(phi)\n",
    "        H[i,j] = -np.sin(phi)\n",
    "        H[j,i] = np.sin(phi)\n",
    "        A = np.dot(np.dot(H.T, A), H)\n",
    "        if eig_is_changed:\n",
    "            eigVectMatrix = np.dot(eigVectMatrix, H)\n",
    "        else:\n",
    "            eigVectMatrix = H\n",
    "            eig_is_changed = True\n",
    "        Aij_max, i, j = GetMaxValue(A)\n",
    "    eigenvalues = np.diagonal(A) \n",
    "    return eigenvalues "
   ]
  },
  {
   "cell_type": "code",
   "execution_count": 11,
   "metadata": {},
   "outputs": [
    {
     "data": {
      "text/plain": [
       "array([-9.10468636, 10.10468636,  7.        ])"
      ]
     },
     "execution_count": 11,
     "metadata": {},
     "output_type": "execute_result"
    }
   ],
   "source": [
    "Yacobi(A, err=1e-3)"
   ]
  },
  {
   "cell_type": "markdown",
   "metadata": {},
   "source": [
    "Решение совпадает с решением из библиотеки Numpy"
   ]
  },
  {
   "cell_type": "markdown",
   "metadata": {},
   "source": [
    "# Задание 4 "
   ]
  },
  {
   "cell_type": "code",
   "execution_count": 22,
   "metadata": {},
   "outputs": [
    {
     "data": {
      "text/plain": [
       "array([ 0.90098049, 11.09901951])"
      ]
     },
     "execution_count": 22,
     "metadata": {},
     "output_type": "execute_result"
    }
   ],
   "source": [
    "A = np.array([[5,5], [5,7]])\n",
    "\n",
    "np.linalg.eigvals(A)"
   ]
  },
  {
   "cell_type": "markdown",
   "metadata": {},
   "source": [
    "взяла прямо с семинара, алгоритм легкий, но руками сложновато) "
   ]
  },
  {
   "cell_type": "code",
   "execution_count": 23,
   "metadata": {},
   "outputs": [
    {
     "name": "stdout",
     "output_type": "stream",
     "text": [
      "\n",
      " На шаге 0\n",
      "5.0 5.0 \n",
      "5.0 7.0 \n",
      "\n",
      " На шаге 5\n",
      "11.1 -0.0 \n",
      "-0.0 0.9 \n"
     ]
    }
   ],
   "source": [
    "for i in range(10):\n",
    "  if i% 5 == 0:\n",
    "    print('\\n На шаге {:}'.format(i))\n",
    "    for i in range(len(A)):\n",
    "        print(\"%.1f \"*len(A[i]) % tuple(A[i]) )\n",
    "\n",
    "  Q, R = np.linalg.qr(A)\n",
    "  A = R@Q"
   ]
  },
  {
   "cell_type": "code",
   "execution_count": 24,
   "metadata": {},
   "outputs": [
    {
     "name": "stdout",
     "output_type": "stream",
     "text": [
      "11.0990 0.9010 \n"
     ]
    }
   ],
   "source": [
    "eigenvalues = np.diagonal(A) \n",
    "\n",
    "print(\"%.4f \"*len(eigenvalues) % tuple(eigenvalues) )"
   ]
  },
  {
   "cell_type": "markdown",
   "metadata": {},
   "source": [
    "# Задание 5"
   ]
  },
  {
   "cell_type": "code",
   "execution_count": 38,
   "metadata": {},
   "outputs": [
    {
     "data": {
      "text/plain": [
       "array([[0.  , 0.  , 0.2 , 0.  , 0.25],\n",
       "       [0.  , 0.  , 0.2 , 0.5 , 0.  ],\n",
       "       [0.  , 0.  , 0.2 , 0.  , 0.25],\n",
       "       [0.5 , 1.  , 0.2 , 0.5 , 0.25],\n",
       "       [0.5 , 0.  , 0.2 , 0.  , 0.25]])"
      ]
     },
     "execution_count": 38,
     "metadata": {},
     "output_type": "execute_result"
    }
   ],
   "source": [
    "A = np.array([[0,0,1,0,1], [0,0,1,1,0], [0,0,1,0,1], [1,1,1,1,1], [1,0,1,0,1]])\n",
    "\n",
    "A = A/np.sum(A, axis=0)\n",
    "A"
   ]
  },
  {
   "cell_type": "code",
   "execution_count": 39,
   "metadata": {},
   "outputs": [
    {
     "name": "stdout",
     "output_type": "stream",
     "text": [
      "На шаге 0 вектор x = [0.09 0.14 0.09 0.49 0.19]\n",
      "На шаге 4 вектор x = [0.01702181 0.30522213 0.01702181 0.63045556 0.03027869]\n",
      "На шаге 8 вектор x = [0.00293142 0.32882181 0.00293142 0.6601082  0.00520715]\n",
      "На шаге 12 вектор x = [5.04463663e-04 3.32577341e-01 5.04463663e-04 6.65517650e-01\n",
      " 8.96081646e-04]\n",
      "На шаге 16 вектор x = [8.68119201e-05 3.33204511e-01 8.68119201e-05 6.66467661e-01\n",
      " 1.54204488e-04]\n",
      "На шаге 20 вектор x = [1.49392506e-05 3.33311244e-01 1.49392506e-05 6.66632341e-01\n",
      " 2.65366725e-05]\n"
     ]
    }
   ],
   "source": [
    "x = np.ones(len(A))/len(A)\n",
    "\n",
    "for i in range(21):\n",
    "  x = np.dot(A, x)\n",
    "  if i % 4 == 0:\n",
    "    print(\"На шаге {:} вектор x = {:}\".format(i, x))"
   ]
  },
  {
   "cell_type": "code",
   "execution_count": 40,
   "metadata": {},
   "outputs": [
    {
     "data": {
      "text/plain": [
       "array([0.17000224, 0.21999669, 0.17000224, 0.26999485, 0.17000398])"
      ]
     },
     "execution_count": 40,
     "metadata": {},
     "output_type": "execute_result"
    }
   ],
   "source": [
    "beta = 0.85\n",
    "\n",
    "x_weaked = (1-beta)*x + beta*np.ones(len(A))/len(A)\n",
    "\n",
    "x_weaked"
   ]
  },
  {
   "cell_type": "code",
   "execution_count": 41,
   "metadata": {},
   "outputs": [
    {
     "data": {
      "text/plain": [
       "0.9999999999999998"
      ]
     },
     "execution_count": 41,
     "metadata": {},
     "output_type": "execute_result"
    }
   ],
   "source": [
    "np.sum(x_weaked)"
   ]
  },
  {
   "cell_type": "markdown",
   "metadata": {},
   "source": [
    "# Задание  6 "
   ]
  },
  {
   "cell_type": "code",
   "execution_count": 124,
   "metadata": {},
   "outputs": [
    {
     "data": {
      "text/plain": [
       "array([[ 0.15319149, -0.85957447, -0.82553191],\n",
       "       [-0.85957447,  0.3787234 , -0.92340426],\n",
       "       [-0.82553191, -0.92340426,  0.00425532]])"
      ]
     },
     "execution_count": 124,
     "metadata": {},
     "output_type": "execute_result"
    }
   ],
   "source": [
    "A = np.array([[0.5, 0.45, 0.65], [0.45,0.6,0.5], [0.65, 0.5, 0.6]])\n",
    "\n",
    "L = np.linalg.inv(np.identity(len(b))-A)\n",
    "L"
   ]
  },
  {
   "cell_type": "markdown",
   "metadata": {},
   "source": [
    "Матрица продуктивная (раз L существует )"
   ]
  },
  {
   "cell_type": "code",
   "execution_count": 125,
   "metadata": {},
   "outputs": [
    {
     "data": {
      "text/plain": [
       "1.6378513077371213"
      ]
     },
     "execution_count": 125,
     "metadata": {},
     "output_type": "execute_result"
    }
   ],
   "source": [
    "vals = Yacobi(A, err=1e-3)\n",
    "np.max(vals)"
   ]
  },
  {
   "cell_type": "markdown",
   "metadata": {},
   "source": [
    "Это число Перрона-ФРобениуса "
   ]
  },
  {
   "cell_type": "markdown",
   "metadata": {},
   "source": [
    "Самая значимая вершина - третья "
   ]
  },
  {
   "cell_type": "markdown",
   "metadata": {},
   "source": [
    "# Задание 7 "
   ]
  },
  {
   "cell_type": "code",
   "execution_count": 61,
   "metadata": {},
   "outputs": [],
   "source": [
    "A = np.array([[187,155,91],[114,198,120], [277,173,226]])\n",
    "b=np.array([975, 1041, 1186])"
   ]
  },
  {
   "cell_type": "markdown",
   "metadata": {},
   "source": [
    "Вектор конченого спроса: "
   ]
  },
  {
   "cell_type": "code",
   "execution_count": 62,
   "metadata": {},
   "outputs": [
    {
     "data": {
      "text/plain": [
       "array([542., 609., 510.])"
      ]
     },
     "execution_count": 62,
     "metadata": {},
     "output_type": "execute_result"
    }
   ],
   "source": [
    "c = b - np.dot(A, np.ones(len(b)))\n",
    "\n",
    "c"
   ]
  },
  {
   "cell_type": "markdown",
   "metadata": {},
   "source": [
    "Матрица расходных коэффициентов: "
   ]
  },
  {
   "cell_type": "code",
   "execution_count": 63,
   "metadata": {},
   "outputs": [
    {
     "data": {
      "text/plain": [
       "array([[0.19179487, 0.14889529, 0.0767285 ],\n",
       "       [0.11692308, 0.19020173, 0.10118044],\n",
       "       [0.28410256, 0.16618636, 0.19055649]])"
      ]
     },
     "execution_count": 63,
     "metadata": {},
     "output_type": "execute_result"
    }
   ],
   "source": [
    "U = np.zeros_like(A, dtype=float)\n",
    "\n",
    "for i in range(len(b)):\n",
    "    U[i, :] = A[i,:]/b\n",
    "    \n",
    "U"
   ]
  },
  {
   "cell_type": "markdown",
   "metadata": {},
   "source": [
    "Леонтьевская матрица: "
   ]
  },
  {
   "cell_type": "code",
   "execution_count": 64,
   "metadata": {},
   "outputs": [
    {
     "data": {
      "text/plain": [
       "array([[1.33428462, 0.27842945, 0.16128274],\n",
       "       [0.25777748, 1.32117826, 0.18958244],\n",
       "       [0.52123808, 0.36897489, 1.33094755]])"
      ]
     },
     "execution_count": 64,
     "metadata": {},
     "output_type": "execute_result"
    }
   ],
   "source": [
    "L = np.linalg.inv(np.identity(len(b))-U)\n",
    "\n",
    "L"
   ]
  },
  {
   "cell_type": "code",
   "execution_count": 65,
   "metadata": {},
   "outputs": [
    {
     "data": {
      "text/plain": [
       "True"
      ]
     },
     "execution_count": 65,
     "metadata": {},
     "output_type": "execute_result"
    }
   ],
   "source": [
    "def is_pos_def(x):\n",
    "    return np.all(np.linalg.eigvals(x) > 0)\n",
    "\n",
    "is_pos_def(L)"
   ]
  },
  {
   "cell_type": "markdown",
   "metadata": {},
   "source": [
    "Модель продуктивна "
   ]
  },
  {
   "cell_type": "markdown",
   "metadata": {},
   "source": [
    "# Задание 8 "
   ]
  },
  {
   "cell_type": "code",
   "execution_count": 100,
   "metadata": {},
   "outputs": [],
   "source": [
    "from scipy.interpolate import lagrange\n",
    "from scipy import linalg"
   ]
  },
  {
   "cell_type": "code",
   "execution_count": 101,
   "metadata": {},
   "outputs": [],
   "source": [
    "A=np.array([[-20, -19,-18], [48,43,39], [-22, -18, -15]])\n",
    "\n",
    "A_1 = A+1\n",
    " "
   ]
  },
  {
   "cell_type": "code",
   "execution_count": 102,
   "metadata": {},
   "outputs": [
    {
     "data": {
      "text/plain": [
       "(array([9.        , 0.99999986, 1.00000014]),\n",
       " array([[-0.38107277,  0.26726126,  0.26726123],\n",
       "        [ 0.87494307, -0.80178373, -0.80178372],\n",
       "        [-0.29876105,  0.53452247,  0.53452249]]))"
      ]
     },
     "execution_count": 102,
     "metadata": {},
     "output_type": "execute_result"
    }
   ],
   "source": [
    "eigvals, eigvectors  = np.linalg.eig(A_1)\n",
    "eigvals, eigvectors  "
   ]
  },
  {
   "cell_type": "code",
   "execution_count": 103,
   "metadata": {},
   "outputs": [
    {
     "data": {
      "text/plain": [
       "array([[9.        , 0.        , 0.        ],\n",
       "       [0.        , 0.99999986, 1.        ],\n",
       "       [0.        , 0.        , 1.00000014]])"
      ]
     },
     "execution_count": 103,
     "metadata": {},
     "output_type": "execute_result"
    }
   ],
   "source": [
    "J = np.zeros_like(A, dtype=float)\n",
    "J[np.diag_indices_from(J)] = eigvals\n",
    "J[1,2] = 1\n",
    "J"
   ]
  },
  {
   "cell_type": "code",
   "execution_count": 104,
   "metadata": {},
   "outputs": [
    {
     "data": {
      "text/plain": [
       "array([[ 1.90033262, -1.31014668, -1.31014657],\n",
       "       [-1.53828166,  1.14285716,  1.14285708],\n",
       "       [-1.53828157,  1.1428571 ,  1.14285703]])"
      ]
     },
     "execution_count": 104,
     "metadata": {},
     "output_type": "execute_result"
    }
   ],
   "source": [
    "np.dot(np.dot(eigvectors.T, J), eigvectors)"
   ]
  },
  {
   "cell_type": "code",
   "execution_count": null,
   "metadata": {},
   "outputs": [],
   "source": []
  },
  {
   "cell_type": "markdown",
   "metadata": {},
   "source": [
    "# Задание 10 "
   ]
  },
  {
   "cell_type": "code",
   "execution_count": 120,
   "metadata": {},
   "outputs": [
    {
     "data": {
      "text/plain": [
       "0.0"
      ]
     },
     "execution_count": 120,
     "metadata": {},
     "output_type": "execute_result"
    }
   ],
   "source": [
    "A = np.array([[-2,0], [0,0]])\n",
    "\n",
    "np.linalg.norm( np.dot(A, A), -2)"
   ]
  },
  {
   "cell_type": "code",
   "execution_count": 121,
   "metadata": {},
   "outputs": [
    {
     "data": {
      "text/plain": [
       "0.0"
      ]
     },
     "execution_count": 121,
     "metadata": {},
     "output_type": "execute_result"
    }
   ],
   "source": [
    "\n",
    "np.linalg.norm( np.dot(A@A, A), -2)"
   ]
  },
  {
   "cell_type": "markdown",
   "metadata": {},
   "source": [
    "Взяла нормой -2  - самое маленькое собственное значение, должно сходиться"
   ]
  },
  {
   "cell_type": "code",
   "execution_count": null,
   "metadata": {},
   "outputs": [],
   "source": []
  }
 ],
 "metadata": {
  "kernelspec": {
   "display_name": "Python 3",
   "language": "python",
   "name": "python3"
  },
  "language_info": {
   "codemirror_mode": {
    "name": "ipython",
    "version": 3
   },
   "file_extension": ".py",
   "mimetype": "text/x-python",
   "name": "python",
   "nbconvert_exporter": "python",
   "pygments_lexer": "ipython3",
   "version": "3.8.5"
  }
 },
 "nbformat": 4,
 "nbformat_minor": 4
}
